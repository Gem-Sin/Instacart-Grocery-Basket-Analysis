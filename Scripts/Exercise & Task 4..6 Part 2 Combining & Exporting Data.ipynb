{
 "cells": [
  {
   "cell_type": "markdown",
   "id": "1c6d18bd-8042-4576-90f2-a65c1fab754c",
   "metadata": {},
   "source": [
    "Table of Contents"
   ]
  },
  {
   "cell_type": "markdown",
   "id": "2999cc2b-2bd4-4f49-ab4e-e3b6b99d0c7b",
   "metadata": {},
   "source": [
    "1. Import Libraries"
   ]
  },
  {
   "cell_type": "markdown",
   "id": "ac10b1dc-20ca-455b-942c-bdf494f15252",
   "metadata": {},
   "source": [
    "2. Import Data"
   ]
  },
  {
   "cell_type": "markdown",
   "id": "d667d677-0145-48b0-b95b-058568cab3c6",
   "metadata": {},
   "source": [
    "3. Combine products dataframe with new df_ords_prods_combined dataframe"
   ]
  },
  {
   "cell_type": "markdown",
   "id": "b353fa3a-ecd6-48bd-8d53-8e4215294733",
   "metadata": {},
   "source": [
    "4. Data Consistency Checks"
   ]
  },
  {
   "cell_type": "markdown",
   "id": "fcde6b1f-823a-48ef-ae55-b944a3a6570b",
   "metadata": {},
   "source": [
    "5. Combining df_ords_prods_combined with df_prods"
   ]
  },
  {
   "cell_type": "markdown",
   "id": "4e84dd3c-9519-4237-a0a0-56344e91386a",
   "metadata": {},
   "source": [
    "6. Export Dataframe"
   ]
  },
  {
   "cell_type": "markdown",
   "id": "965516ba-d1ed-4ae2-a1eb-43a4bac25736",
   "metadata": {},
   "source": []
  },
  {
   "cell_type": "markdown",
   "id": "10a5ad9a-6845-4d3a-8c0c-b5d1a0790dcd",
   "metadata": {},
   "source": [
    "1. Import Libraries"
   ]
  },
  {
   "cell_type": "code",
   "execution_count": 28,
   "id": "0369bd81-47a6-49c0-8f3c-19e9925233cc",
   "metadata": {},
   "outputs": [],
   "source": [
    "# Import Libraries\n",
    "import pandas as pd\n",
    "import numpy as np\n",
    "import os"
   ]
  },
  {
   "cell_type": "code",
   "execution_count": null,
   "id": "cdd9d202-5c38-46fe-a25e-49b325841ba4",
   "metadata": {},
   "outputs": [],
   "source": []
  },
  {
   "cell_type": "markdown",
   "id": "b7ef01df-95ec-4b75-8f57-6bf2cc36fa4a",
   "metadata": {},
   "source": [
    "2. Import Data"
   ]
  },
  {
   "cell_type": "code",
   "execution_count": 29,
   "id": "5fb2b258-f11f-4a83-9c91-c390aa477a89",
   "metadata": {},
   "outputs": [],
   "source": [
    "# Create path\n",
    "path = '/Users/ianfleming/Desktop/05-2025 Instacart Basket Analysis'"
   ]
  },
  {
   "cell_type": "code",
   "execution_count": null,
   "id": "b4e78c66-fdf1-4874-aac3-37492384135c",
   "metadata": {},
   "outputs": [],
   "source": []
  },
  {
   "cell_type": "markdown",
   "id": "73913dbb-0e1d-4569-83f6-40e41b45aa49",
   "metadata": {},
   "source": [
    "Step 3. Import Combined Dataframes"
   ]
  },
  {
   "cell_type": "code",
   "execution_count": 30,
   "id": "0f219391-725b-4579-ac9c-e1c4deff2eab",
   "metadata": {},
   "outputs": [],
   "source": [
    "# Import combined data for products and orders\n",
    "df_ords_prods_combined = pd.read_pickle(os.path.join(path, '02 Data', 'Prepared Data', 'orders_products_combined.pkl' ))"
   ]
  },
  {
   "cell_type": "code",
   "execution_count": 31,
   "id": "58ff2ff4-b233-4183-91f9-071bf8556d0f",
   "metadata": {},
   "outputs": [
    {
     "data": {
      "text/html": [
       "<div>\n",
       "<style scoped>\n",
       "    .dataframe tbody tr th:only-of-type {\n",
       "        vertical-align: middle;\n",
       "    }\n",
       "\n",
       "    .dataframe tbody tr th {\n",
       "        vertical-align: top;\n",
       "    }\n",
       "\n",
       "    .dataframe thead th {\n",
       "        text-align: right;\n",
       "    }\n",
       "</style>\n",
       "<table border=\"1\" class=\"dataframe\">\n",
       "  <thead>\n",
       "    <tr style=\"text-align: right;\">\n",
       "      <th></th>\n",
       "      <th>order_id</th>\n",
       "      <th>user_id</th>\n",
       "      <th>order_number</th>\n",
       "      <th>orders_day_of_week</th>\n",
       "      <th>order_hour_of_day</th>\n",
       "      <th>days_since_prior_order</th>\n",
       "      <th>first_order</th>\n",
       "      <th>product_id</th>\n",
       "      <th>add_to_cart_order</th>\n",
       "      <th>reordered</th>\n",
       "      <th>_merge</th>\n",
       "    </tr>\n",
       "  </thead>\n",
       "  <tbody>\n",
       "    <tr>\n",
       "      <th>0</th>\n",
       "      <td>2539329</td>\n",
       "      <td>1</td>\n",
       "      <td>1</td>\n",
       "      <td>2</td>\n",
       "      <td>8</td>\n",
       "      <td>NaN</td>\n",
       "      <td>True</td>\n",
       "      <td>196</td>\n",
       "      <td>1</td>\n",
       "      <td>0</td>\n",
       "      <td>both</td>\n",
       "    </tr>\n",
       "    <tr>\n",
       "      <th>1</th>\n",
       "      <td>2539329</td>\n",
       "      <td>1</td>\n",
       "      <td>1</td>\n",
       "      <td>2</td>\n",
       "      <td>8</td>\n",
       "      <td>NaN</td>\n",
       "      <td>True</td>\n",
       "      <td>14084</td>\n",
       "      <td>2</td>\n",
       "      <td>0</td>\n",
       "      <td>both</td>\n",
       "    </tr>\n",
       "    <tr>\n",
       "      <th>2</th>\n",
       "      <td>2539329</td>\n",
       "      <td>1</td>\n",
       "      <td>1</td>\n",
       "      <td>2</td>\n",
       "      <td>8</td>\n",
       "      <td>NaN</td>\n",
       "      <td>True</td>\n",
       "      <td>12427</td>\n",
       "      <td>3</td>\n",
       "      <td>0</td>\n",
       "      <td>both</td>\n",
       "    </tr>\n",
       "    <tr>\n",
       "      <th>3</th>\n",
       "      <td>2539329</td>\n",
       "      <td>1</td>\n",
       "      <td>1</td>\n",
       "      <td>2</td>\n",
       "      <td>8</td>\n",
       "      <td>NaN</td>\n",
       "      <td>True</td>\n",
       "      <td>26088</td>\n",
       "      <td>4</td>\n",
       "      <td>0</td>\n",
       "      <td>both</td>\n",
       "    </tr>\n",
       "    <tr>\n",
       "      <th>4</th>\n",
       "      <td>2539329</td>\n",
       "      <td>1</td>\n",
       "      <td>1</td>\n",
       "      <td>2</td>\n",
       "      <td>8</td>\n",
       "      <td>NaN</td>\n",
       "      <td>True</td>\n",
       "      <td>26405</td>\n",
       "      <td>5</td>\n",
       "      <td>0</td>\n",
       "      <td>both</td>\n",
       "    </tr>\n",
       "    <tr>\n",
       "      <th>...</th>\n",
       "      <td>...</td>\n",
       "      <td>...</td>\n",
       "      <td>...</td>\n",
       "      <td>...</td>\n",
       "      <td>...</td>\n",
       "      <td>...</td>\n",
       "      <td>...</td>\n",
       "      <td>...</td>\n",
       "      <td>...</td>\n",
       "      <td>...</td>\n",
       "      <td>...</td>\n",
       "    </tr>\n",
       "    <tr>\n",
       "      <th>32434484</th>\n",
       "      <td>2977660</td>\n",
       "      <td>206209</td>\n",
       "      <td>13</td>\n",
       "      <td>1</td>\n",
       "      <td>12</td>\n",
       "      <td>7.0</td>\n",
       "      <td>False</td>\n",
       "      <td>14197</td>\n",
       "      <td>5</td>\n",
       "      <td>1</td>\n",
       "      <td>both</td>\n",
       "    </tr>\n",
       "    <tr>\n",
       "      <th>32434485</th>\n",
       "      <td>2977660</td>\n",
       "      <td>206209</td>\n",
       "      <td>13</td>\n",
       "      <td>1</td>\n",
       "      <td>12</td>\n",
       "      <td>7.0</td>\n",
       "      <td>False</td>\n",
       "      <td>38730</td>\n",
       "      <td>6</td>\n",
       "      <td>0</td>\n",
       "      <td>both</td>\n",
       "    </tr>\n",
       "    <tr>\n",
       "      <th>32434486</th>\n",
       "      <td>2977660</td>\n",
       "      <td>206209</td>\n",
       "      <td>13</td>\n",
       "      <td>1</td>\n",
       "      <td>12</td>\n",
       "      <td>7.0</td>\n",
       "      <td>False</td>\n",
       "      <td>31477</td>\n",
       "      <td>7</td>\n",
       "      <td>0</td>\n",
       "      <td>both</td>\n",
       "    </tr>\n",
       "    <tr>\n",
       "      <th>32434487</th>\n",
       "      <td>2977660</td>\n",
       "      <td>206209</td>\n",
       "      <td>13</td>\n",
       "      <td>1</td>\n",
       "      <td>12</td>\n",
       "      <td>7.0</td>\n",
       "      <td>False</td>\n",
       "      <td>6567</td>\n",
       "      <td>8</td>\n",
       "      <td>0</td>\n",
       "      <td>both</td>\n",
       "    </tr>\n",
       "    <tr>\n",
       "      <th>32434488</th>\n",
       "      <td>2977660</td>\n",
       "      <td>206209</td>\n",
       "      <td>13</td>\n",
       "      <td>1</td>\n",
       "      <td>12</td>\n",
       "      <td>7.0</td>\n",
       "      <td>False</td>\n",
       "      <td>22920</td>\n",
       "      <td>9</td>\n",
       "      <td>0</td>\n",
       "      <td>both</td>\n",
       "    </tr>\n",
       "  </tbody>\n",
       "</table>\n",
       "<p>32434489 rows × 11 columns</p>\n",
       "</div>"
      ],
      "text/plain": [
       "          order_id  user_id  order_number  orders_day_of_week  \\\n",
       "0          2539329        1             1                   2   \n",
       "1          2539329        1             1                   2   \n",
       "2          2539329        1             1                   2   \n",
       "3          2539329        1             1                   2   \n",
       "4          2539329        1             1                   2   \n",
       "...            ...      ...           ...                 ...   \n",
       "32434484   2977660   206209            13                   1   \n",
       "32434485   2977660   206209            13                   1   \n",
       "32434486   2977660   206209            13                   1   \n",
       "32434487   2977660   206209            13                   1   \n",
       "32434488   2977660   206209            13                   1   \n",
       "\n",
       "          order_hour_of_day  days_since_prior_order  first_order  product_id  \\\n",
       "0                         8                     NaN         True         196   \n",
       "1                         8                     NaN         True       14084   \n",
       "2                         8                     NaN         True       12427   \n",
       "3                         8                     NaN         True       26088   \n",
       "4                         8                     NaN         True       26405   \n",
       "...                     ...                     ...          ...         ...   \n",
       "32434484                 12                     7.0        False       14197   \n",
       "32434485                 12                     7.0        False       38730   \n",
       "32434486                 12                     7.0        False       31477   \n",
       "32434487                 12                     7.0        False        6567   \n",
       "32434488                 12                     7.0        False       22920   \n",
       "\n",
       "          add_to_cart_order  reordered _merge  \n",
       "0                         1          0   both  \n",
       "1                         2          0   both  \n",
       "2                         3          0   both  \n",
       "3                         4          0   both  \n",
       "4                         5          0   both  \n",
       "...                     ...        ...    ...  \n",
       "32434484                  5          1   both  \n",
       "32434485                  6          0   both  \n",
       "32434486                  7          0   both  \n",
       "32434487                  8          0   both  \n",
       "32434488                  9          0   both  \n",
       "\n",
       "[32434489 rows x 11 columns]"
      ]
     },
     "execution_count": 31,
     "metadata": {},
     "output_type": "execute_result"
    }
   ],
   "source": [
    "# Check output\n",
    "df_ords_prods_combined"
   ]
  },
  {
   "cell_type": "markdown",
   "id": "d97a963b-d9e8-4740-9a7b-6c2db2abb5a9",
   "metadata": {},
   "source": [
    "Step 4. Check Shape of Data"
   ]
  },
  {
   "cell_type": "code",
   "execution_count": 32,
   "id": "082a149a-78b1-483a-88f5-c90a1807ea60",
   "metadata": {},
   "outputs": [
    {
     "data": {
      "text/plain": [
       "(32434489, 11)"
      ]
     },
     "execution_count": 32,
     "metadata": {},
     "output_type": "execute_result"
    }
   ],
   "source": [
    "# Check Shape\n",
    "df_ords_prods_combined.shape"
   ]
  },
  {
   "cell_type": "code",
   "execution_count": null,
   "id": "eabd5334-3d87-4340-a267-a8b8511ecc8f",
   "metadata": {},
   "outputs": [],
   "source": []
  },
  {
   "cell_type": "markdown",
   "id": "efe7d1a8-92a5-4b81-9f4b-f0ff77fccadd",
   "metadata": {},
   "source": [
    "Step 5. Combine products dataframe with new df_ords_prods_combined dataframe"
   ]
  },
  {
   "cell_type": "markdown",
   "id": "43227c8d-c3ff-44a1-aebb-af4c5ca7a646",
   "metadata": {},
   "source": [
    "3. Combine products dataframe with new df_ords_prods_combined dataframe"
   ]
  },
  {
   "cell_type": "code",
   "execution_count": 33,
   "id": "eddf041c-23aa-41dd-aef7-d2041cc5c1da",
   "metadata": {},
   "outputs": [],
   "source": [
    "# Import products dataframe\n",
    "df_prods = pd.read_csv(os.path.join(path, '02 Data', 'Prepared Data', 'products_checked.csv'), index_col = False)"
   ]
  },
  {
   "cell_type": "raw",
   "id": "14a9fc25-880c-4639-936f-dc22cc642c26",
   "metadata": {},
   "source": []
  },
  {
   "cell_type": "code",
   "execution_count": 34,
   "id": "4d102d25-9791-48ba-b3a4-8420fbb376db",
   "metadata": {},
   "outputs": [
    {
     "data": {
      "text/html": [
       "<div>\n",
       "<style scoped>\n",
       "    .dataframe tbody tr th:only-of-type {\n",
       "        vertical-align: middle;\n",
       "    }\n",
       "\n",
       "    .dataframe tbody tr th {\n",
       "        vertical-align: top;\n",
       "    }\n",
       "\n",
       "    .dataframe thead th {\n",
       "        text-align: right;\n",
       "    }\n",
       "</style>\n",
       "<table border=\"1\" class=\"dataframe\">\n",
       "  <thead>\n",
       "    <tr style=\"text-align: right;\">\n",
       "      <th></th>\n",
       "      <th>product_id</th>\n",
       "      <th>product_name</th>\n",
       "      <th>aisle_id</th>\n",
       "      <th>department_id</th>\n",
       "      <th>prices</th>\n",
       "    </tr>\n",
       "  </thead>\n",
       "  <tbody>\n",
       "    <tr>\n",
       "      <th>0</th>\n",
       "      <td>1</td>\n",
       "      <td>Chocolate Sandwich Cookies</td>\n",
       "      <td>61</td>\n",
       "      <td>19</td>\n",
       "      <td>5.8</td>\n",
       "    </tr>\n",
       "    <tr>\n",
       "      <th>1</th>\n",
       "      <td>2</td>\n",
       "      <td>All-Seasons Salt</td>\n",
       "      <td>104</td>\n",
       "      <td>13</td>\n",
       "      <td>9.3</td>\n",
       "    </tr>\n",
       "    <tr>\n",
       "      <th>2</th>\n",
       "      <td>3</td>\n",
       "      <td>Robust Golden Unsweetened Oolong Tea</td>\n",
       "      <td>94</td>\n",
       "      <td>7</td>\n",
       "      <td>4.5</td>\n",
       "    </tr>\n",
       "    <tr>\n",
       "      <th>3</th>\n",
       "      <td>4</td>\n",
       "      <td>Smart Ones Classic Favorites Mini Rigatoni Wit...</td>\n",
       "      <td>38</td>\n",
       "      <td>1</td>\n",
       "      <td>10.5</td>\n",
       "    </tr>\n",
       "    <tr>\n",
       "      <th>4</th>\n",
       "      <td>5</td>\n",
       "      <td>Green Chile Anytime Sauce</td>\n",
       "      <td>5</td>\n",
       "      <td>13</td>\n",
       "      <td>4.3</td>\n",
       "    </tr>\n",
       "    <tr>\n",
       "      <th>...</th>\n",
       "      <td>...</td>\n",
       "      <td>...</td>\n",
       "      <td>...</td>\n",
       "      <td>...</td>\n",
       "      <td>...</td>\n",
       "    </tr>\n",
       "    <tr>\n",
       "      <th>49667</th>\n",
       "      <td>49684</td>\n",
       "      <td>Vodka, Triple Distilled, Twist of Vanilla</td>\n",
       "      <td>124</td>\n",
       "      <td>5</td>\n",
       "      <td>5.3</td>\n",
       "    </tr>\n",
       "    <tr>\n",
       "      <th>49668</th>\n",
       "      <td>49685</td>\n",
       "      <td>En Croute Roast Hazelnut Cranberry</td>\n",
       "      <td>42</td>\n",
       "      <td>1</td>\n",
       "      <td>3.1</td>\n",
       "    </tr>\n",
       "    <tr>\n",
       "      <th>49669</th>\n",
       "      <td>49686</td>\n",
       "      <td>Artisan Baguette</td>\n",
       "      <td>112</td>\n",
       "      <td>3</td>\n",
       "      <td>7.8</td>\n",
       "    </tr>\n",
       "    <tr>\n",
       "      <th>49670</th>\n",
       "      <td>49687</td>\n",
       "      <td>Smartblend Healthy Metabolism Dry Cat Food</td>\n",
       "      <td>41</td>\n",
       "      <td>8</td>\n",
       "      <td>4.7</td>\n",
       "    </tr>\n",
       "    <tr>\n",
       "      <th>49671</th>\n",
       "      <td>49688</td>\n",
       "      <td>Fresh Foaming Cleanser</td>\n",
       "      <td>73</td>\n",
       "      <td>11</td>\n",
       "      <td>13.5</td>\n",
       "    </tr>\n",
       "  </tbody>\n",
       "</table>\n",
       "<p>49672 rows × 5 columns</p>\n",
       "</div>"
      ],
      "text/plain": [
       "       product_id                                       product_name  \\\n",
       "0               1                         Chocolate Sandwich Cookies   \n",
       "1               2                                   All-Seasons Salt   \n",
       "2               3               Robust Golden Unsweetened Oolong Tea   \n",
       "3               4  Smart Ones Classic Favorites Mini Rigatoni Wit...   \n",
       "4               5                          Green Chile Anytime Sauce   \n",
       "...           ...                                                ...   \n",
       "49667       49684          Vodka, Triple Distilled, Twist of Vanilla   \n",
       "49668       49685                 En Croute Roast Hazelnut Cranberry   \n",
       "49669       49686                                   Artisan Baguette   \n",
       "49670       49687         Smartblend Healthy Metabolism Dry Cat Food   \n",
       "49671       49688                             Fresh Foaming Cleanser   \n",
       "\n",
       "       aisle_id  department_id  prices  \n",
       "0            61             19     5.8  \n",
       "1           104             13     9.3  \n",
       "2            94              7     4.5  \n",
       "3            38              1    10.5  \n",
       "4             5             13     4.3  \n",
       "...         ...            ...     ...  \n",
       "49667       124              5     5.3  \n",
       "49668        42              1     3.1  \n",
       "49669       112              3     7.8  \n",
       "49670        41              8     4.7  \n",
       "49671        73             11    13.5  \n",
       "\n",
       "[49672 rows x 5 columns]"
      ]
     },
     "execution_count": 34,
     "metadata": {},
     "output_type": "execute_result"
    }
   ],
   "source": [
    "# Check import output\n",
    "df_prods"
   ]
  },
  {
   "cell_type": "markdown",
   "id": "1f2ff41e-d45b-4a1e-b036-265102590c07",
   "metadata": {},
   "source": [
    "Since I am combining dataframes using the column 'product_id', I will double check for duplicates in this column, as my previous duplicate check only checks for duplicate rows, where data across each column is a duplicate. "
   ]
  },
  {
   "cell_type": "code",
   "execution_count": null,
   "id": "fc29570d-a947-4d9b-b5ac-82c7f7a69497",
   "metadata": {},
   "outputs": [],
   "source": []
  },
  {
   "cell_type": "markdown",
   "id": "c0902320-b46a-4a8d-b227-36f72e800274",
   "metadata": {},
   "source": [
    "4. Data Consistency Checks"
   ]
  },
  {
   "cell_type": "code",
   "execution_count": 35,
   "id": "a887d87b-883d-4ee0-8fb3-5fe8c9ccf383",
   "metadata": {},
   "outputs": [
    {
     "data": {
      "text/plain": [
       "2"
      ]
     },
     "execution_count": 35,
     "metadata": {},
     "output_type": "execute_result"
    }
   ],
   "source": [
    "# Check for duplicates\n",
    "df_prods['product_id'].duplicated().sum()"
   ]
  },
  {
   "cell_type": "code",
   "execution_count": 36,
   "id": "3c24d420-afc5-4248-8419-4a1b5f7322f6",
   "metadata": {},
   "outputs": [
    {
     "data": {
      "text/html": [
       "<div>\n",
       "<style scoped>\n",
       "    .dataframe tbody tr th:only-of-type {\n",
       "        vertical-align: middle;\n",
       "    }\n",
       "\n",
       "    .dataframe tbody tr th {\n",
       "        vertical-align: top;\n",
       "    }\n",
       "\n",
       "    .dataframe thead th {\n",
       "        text-align: right;\n",
       "    }\n",
       "</style>\n",
       "<table border=\"1\" class=\"dataframe\">\n",
       "  <thead>\n",
       "    <tr style=\"text-align: right;\">\n",
       "      <th></th>\n",
       "      <th>product_id</th>\n",
       "      <th>product_name</th>\n",
       "      <th>aisle_id</th>\n",
       "      <th>department_id</th>\n",
       "      <th>prices</th>\n",
       "    </tr>\n",
       "  </thead>\n",
       "  <tbody>\n",
       "    <tr>\n",
       "      <th>6784</th>\n",
       "      <td>6800</td>\n",
       "      <td>Revive Zero Vitamin Water</td>\n",
       "      <td>64</td>\n",
       "      <td>7</td>\n",
       "      <td>6.4</td>\n",
       "    </tr>\n",
       "    <tr>\n",
       "      <th>6785</th>\n",
       "      <td>6800</td>\n",
       "      <td>Sprouted Quinoa Flakes Baby Cereal</td>\n",
       "      <td>92</td>\n",
       "      <td>18</td>\n",
       "      <td>14.0</td>\n",
       "    </tr>\n",
       "    <tr>\n",
       "      <th>26504</th>\n",
       "      <td>26520</td>\n",
       "      <td>Clinical Advanced Solid Ultimate Fresh Anti-Pe...</td>\n",
       "      <td>80</td>\n",
       "      <td>11</td>\n",
       "      <td>10.6</td>\n",
       "    </tr>\n",
       "    <tr>\n",
       "      <th>26505</th>\n",
       "      <td>26520</td>\n",
       "      <td>Cheese Shredded Sharp Cheddar Reduced Fat 2%</td>\n",
       "      <td>21</td>\n",
       "      <td>16</td>\n",
       "      <td>2.9</td>\n",
       "    </tr>\n",
       "  </tbody>\n",
       "</table>\n",
       "</div>"
      ],
      "text/plain": [
       "       product_id                                       product_name  \\\n",
       "6784         6800                          Revive Zero Vitamin Water   \n",
       "6785         6800                 Sprouted Quinoa Flakes Baby Cereal   \n",
       "26504       26520  Clinical Advanced Solid Ultimate Fresh Anti-Pe...   \n",
       "26505       26520       Cheese Shredded Sharp Cheddar Reduced Fat 2%   \n",
       "\n",
       "       aisle_id  department_id  prices  \n",
       "6784         64              7     6.4  \n",
       "6785         92             18    14.0  \n",
       "26504        80             11    10.6  \n",
       "26505        21             16     2.9  "
      ]
     },
     "execution_count": 36,
     "metadata": {},
     "output_type": "execute_result"
    }
   ],
   "source": [
    "# To see the duplicates\n",
    "df_prods[df_prods['product_id'].duplicated(keep=False)].sort_values('product_id')"
   ]
  },
  {
   "cell_type": "markdown",
   "id": "40ab43a1-78c6-4b51-85e9-6967ec724ad0",
   "metadata": {},
   "source": [
    "Two product ids are used for two different product items. This is a data quality issue. In a real world situation; I would flag this as a critical data integrity issue. For this situation though, I will just drop one of each product."
   ]
  },
  {
   "cell_type": "code",
   "execution_count": null,
   "id": "05a19f76-3bb7-4d38-b700-803015069739",
   "metadata": {},
   "outputs": [],
   "source": []
  },
  {
   "cell_type": "code",
   "execution_count": 37,
   "id": "17be6d65-0e8a-46ce-8a8b-79102e732261",
   "metadata": {},
   "outputs": [],
   "source": [
    "# Drop duplicates\n",
    "df_prods = df_prods.drop_duplicates(subset='product_id')"
   ]
  },
  {
   "cell_type": "code",
   "execution_count": null,
   "id": "1c9b9b36-b141-48cd-a726-57f1fec31359",
   "metadata": {},
   "outputs": [],
   "source": []
  },
  {
   "cell_type": "code",
   "execution_count": 38,
   "id": "d3daf614-f932-4ebb-8ad2-637480bddb29",
   "metadata": {
    "scrolled": true
   },
   "outputs": [],
   "source": [
    "# Test merge as to not overwrite\n",
    "df_test_merge = df_ords_prods_combined.merge(df_prods, on='product_id', how='left')"
   ]
  },
  {
   "cell_type": "code",
   "execution_count": 39,
   "id": "751f3575-c629-4f4b-92d4-0b909abec4f2",
   "metadata": {},
   "outputs": [
    {
     "data": {
      "text/plain": [
       "(32434489, 15)"
      ]
     },
     "execution_count": 39,
     "metadata": {},
     "output_type": "execute_result"
    }
   ],
   "source": [
    "df_test_merge.shape"
   ]
  },
  {
   "cell_type": "code",
   "execution_count": null,
   "id": "fbd9467b-f5e0-4524-a798-d34fb881e868",
   "metadata": {},
   "outputs": [],
   "source": []
  },
  {
   "cell_type": "markdown",
   "id": "c2108651-8739-47fe-85a0-5bbda89201b7",
   "metadata": {},
   "source": [
    "5. Combining df_ords_prods_combined with df_prods"
   ]
  },
  {
   "cell_type": "code",
   "execution_count": 40,
   "id": "405b4129-4d20-4755-97be-962f839b372c",
   "metadata": {},
   "outputs": [],
   "source": [
    "# Combining df_ords_prods_combined with df_prods using column 'product_id' and a left join\n",
    "df_ords_prods_merged = df_ords_prods_combined.merge(df_prods, on = 'product_id', how='left', indicator = 'match')"
   ]
  },
  {
   "cell_type": "code",
   "execution_count": 41,
   "id": "e337b6cb-4425-4d5f-9045-77107a2ceaf2",
   "metadata": {},
   "outputs": [
    {
     "data": {
      "text/html": [
       "<div>\n",
       "<style scoped>\n",
       "    .dataframe tbody tr th:only-of-type {\n",
       "        vertical-align: middle;\n",
       "    }\n",
       "\n",
       "    .dataframe tbody tr th {\n",
       "        vertical-align: top;\n",
       "    }\n",
       "\n",
       "    .dataframe thead th {\n",
       "        text-align: right;\n",
       "    }\n",
       "</style>\n",
       "<table border=\"1\" class=\"dataframe\">\n",
       "  <thead>\n",
       "    <tr style=\"text-align: right;\">\n",
       "      <th></th>\n",
       "      <th>order_id</th>\n",
       "      <th>user_id</th>\n",
       "      <th>order_number</th>\n",
       "      <th>orders_day_of_week</th>\n",
       "      <th>order_hour_of_day</th>\n",
       "      <th>days_since_prior_order</th>\n",
       "      <th>first_order</th>\n",
       "      <th>product_id</th>\n",
       "      <th>add_to_cart_order</th>\n",
       "      <th>reordered</th>\n",
       "      <th>_merge</th>\n",
       "      <th>product_name</th>\n",
       "      <th>aisle_id</th>\n",
       "      <th>department_id</th>\n",
       "      <th>prices</th>\n",
       "      <th>match</th>\n",
       "    </tr>\n",
       "  </thead>\n",
       "  <tbody>\n",
       "    <tr>\n",
       "      <th>0</th>\n",
       "      <td>2539329</td>\n",
       "      <td>1</td>\n",
       "      <td>1</td>\n",
       "      <td>2</td>\n",
       "      <td>8</td>\n",
       "      <td>NaN</td>\n",
       "      <td>True</td>\n",
       "      <td>196</td>\n",
       "      <td>1</td>\n",
       "      <td>0</td>\n",
       "      <td>both</td>\n",
       "      <td>Soda</td>\n",
       "      <td>77.0</td>\n",
       "      <td>7.0</td>\n",
       "      <td>9.0</td>\n",
       "      <td>both</td>\n",
       "    </tr>\n",
       "    <tr>\n",
       "      <th>1</th>\n",
       "      <td>2539329</td>\n",
       "      <td>1</td>\n",
       "      <td>1</td>\n",
       "      <td>2</td>\n",
       "      <td>8</td>\n",
       "      <td>NaN</td>\n",
       "      <td>True</td>\n",
       "      <td>14084</td>\n",
       "      <td>2</td>\n",
       "      <td>0</td>\n",
       "      <td>both</td>\n",
       "      <td>Organic Unsweetened Vanilla Almond Milk</td>\n",
       "      <td>91.0</td>\n",
       "      <td>16.0</td>\n",
       "      <td>12.5</td>\n",
       "      <td>both</td>\n",
       "    </tr>\n",
       "    <tr>\n",
       "      <th>2</th>\n",
       "      <td>2539329</td>\n",
       "      <td>1</td>\n",
       "      <td>1</td>\n",
       "      <td>2</td>\n",
       "      <td>8</td>\n",
       "      <td>NaN</td>\n",
       "      <td>True</td>\n",
       "      <td>12427</td>\n",
       "      <td>3</td>\n",
       "      <td>0</td>\n",
       "      <td>both</td>\n",
       "      <td>Original Beef Jerky</td>\n",
       "      <td>23.0</td>\n",
       "      <td>19.0</td>\n",
       "      <td>4.4</td>\n",
       "      <td>both</td>\n",
       "    </tr>\n",
       "    <tr>\n",
       "      <th>3</th>\n",
       "      <td>2539329</td>\n",
       "      <td>1</td>\n",
       "      <td>1</td>\n",
       "      <td>2</td>\n",
       "      <td>8</td>\n",
       "      <td>NaN</td>\n",
       "      <td>True</td>\n",
       "      <td>26088</td>\n",
       "      <td>4</td>\n",
       "      <td>0</td>\n",
       "      <td>both</td>\n",
       "      <td>Aged White Cheddar Popcorn</td>\n",
       "      <td>23.0</td>\n",
       "      <td>19.0</td>\n",
       "      <td>4.7</td>\n",
       "      <td>both</td>\n",
       "    </tr>\n",
       "    <tr>\n",
       "      <th>4</th>\n",
       "      <td>2539329</td>\n",
       "      <td>1</td>\n",
       "      <td>1</td>\n",
       "      <td>2</td>\n",
       "      <td>8</td>\n",
       "      <td>NaN</td>\n",
       "      <td>True</td>\n",
       "      <td>26405</td>\n",
       "      <td>5</td>\n",
       "      <td>0</td>\n",
       "      <td>both</td>\n",
       "      <td>XL Pick-A-Size Paper Towel Rolls</td>\n",
       "      <td>54.0</td>\n",
       "      <td>17.0</td>\n",
       "      <td>1.0</td>\n",
       "      <td>both</td>\n",
       "    </tr>\n",
       "    <tr>\n",
       "      <th>...</th>\n",
       "      <td>...</td>\n",
       "      <td>...</td>\n",
       "      <td>...</td>\n",
       "      <td>...</td>\n",
       "      <td>...</td>\n",
       "      <td>...</td>\n",
       "      <td>...</td>\n",
       "      <td>...</td>\n",
       "      <td>...</td>\n",
       "      <td>...</td>\n",
       "      <td>...</td>\n",
       "      <td>...</td>\n",
       "      <td>...</td>\n",
       "      <td>...</td>\n",
       "      <td>...</td>\n",
       "      <td>...</td>\n",
       "    </tr>\n",
       "    <tr>\n",
       "      <th>32434484</th>\n",
       "      <td>2977660</td>\n",
       "      <td>206209</td>\n",
       "      <td>13</td>\n",
       "      <td>1</td>\n",
       "      <td>12</td>\n",
       "      <td>7.0</td>\n",
       "      <td>False</td>\n",
       "      <td>14197</td>\n",
       "      <td>5</td>\n",
       "      <td>1</td>\n",
       "      <td>both</td>\n",
       "      <td>Tomato Paste</td>\n",
       "      <td>9.0</td>\n",
       "      <td>9.0</td>\n",
       "      <td>5.6</td>\n",
       "      <td>both</td>\n",
       "    </tr>\n",
       "    <tr>\n",
       "      <th>32434485</th>\n",
       "      <td>2977660</td>\n",
       "      <td>206209</td>\n",
       "      <td>13</td>\n",
       "      <td>1</td>\n",
       "      <td>12</td>\n",
       "      <td>7.0</td>\n",
       "      <td>False</td>\n",
       "      <td>38730</td>\n",
       "      <td>6</td>\n",
       "      <td>0</td>\n",
       "      <td>both</td>\n",
       "      <td>Brownie Crunch High Protein Bar</td>\n",
       "      <td>3.0</td>\n",
       "      <td>19.0</td>\n",
       "      <td>5.9</td>\n",
       "      <td>both</td>\n",
       "    </tr>\n",
       "    <tr>\n",
       "      <th>32434486</th>\n",
       "      <td>2977660</td>\n",
       "      <td>206209</td>\n",
       "      <td>13</td>\n",
       "      <td>1</td>\n",
       "      <td>12</td>\n",
       "      <td>7.0</td>\n",
       "      <td>False</td>\n",
       "      <td>31477</td>\n",
       "      <td>7</td>\n",
       "      <td>0</td>\n",
       "      <td>both</td>\n",
       "      <td>High Protein Bar Chunky Peanut Butter</td>\n",
       "      <td>3.0</td>\n",
       "      <td>19.0</td>\n",
       "      <td>4.2</td>\n",
       "      <td>both</td>\n",
       "    </tr>\n",
       "    <tr>\n",
       "      <th>32434487</th>\n",
       "      <td>2977660</td>\n",
       "      <td>206209</td>\n",
       "      <td>13</td>\n",
       "      <td>1</td>\n",
       "      <td>12</td>\n",
       "      <td>7.0</td>\n",
       "      <td>False</td>\n",
       "      <td>6567</td>\n",
       "      <td>8</td>\n",
       "      <td>0</td>\n",
       "      <td>both</td>\n",
       "      <td>Chocolate Peanut Butter Protein Bar</td>\n",
       "      <td>3.0</td>\n",
       "      <td>19.0</td>\n",
       "      <td>4.9</td>\n",
       "      <td>both</td>\n",
       "    </tr>\n",
       "    <tr>\n",
       "      <th>32434488</th>\n",
       "      <td>2977660</td>\n",
       "      <td>206209</td>\n",
       "      <td>13</td>\n",
       "      <td>1</td>\n",
       "      <td>12</td>\n",
       "      <td>7.0</td>\n",
       "      <td>False</td>\n",
       "      <td>22920</td>\n",
       "      <td>9</td>\n",
       "      <td>0</td>\n",
       "      <td>both</td>\n",
       "      <td>Roasted &amp; Salted Shelled Pistachios</td>\n",
       "      <td>117.0</td>\n",
       "      <td>19.0</td>\n",
       "      <td>1.7</td>\n",
       "      <td>both</td>\n",
       "    </tr>\n",
       "  </tbody>\n",
       "</table>\n",
       "<p>32434489 rows × 16 columns</p>\n",
       "</div>"
      ],
      "text/plain": [
       "          order_id  user_id  order_number  orders_day_of_week  \\\n",
       "0          2539329        1             1                   2   \n",
       "1          2539329        1             1                   2   \n",
       "2          2539329        1             1                   2   \n",
       "3          2539329        1             1                   2   \n",
       "4          2539329        1             1                   2   \n",
       "...            ...      ...           ...                 ...   \n",
       "32434484   2977660   206209            13                   1   \n",
       "32434485   2977660   206209            13                   1   \n",
       "32434486   2977660   206209            13                   1   \n",
       "32434487   2977660   206209            13                   1   \n",
       "32434488   2977660   206209            13                   1   \n",
       "\n",
       "          order_hour_of_day  days_since_prior_order  first_order  product_id  \\\n",
       "0                         8                     NaN         True         196   \n",
       "1                         8                     NaN         True       14084   \n",
       "2                         8                     NaN         True       12427   \n",
       "3                         8                     NaN         True       26088   \n",
       "4                         8                     NaN         True       26405   \n",
       "...                     ...                     ...          ...         ...   \n",
       "32434484                 12                     7.0        False       14197   \n",
       "32434485                 12                     7.0        False       38730   \n",
       "32434486                 12                     7.0        False       31477   \n",
       "32434487                 12                     7.0        False        6567   \n",
       "32434488                 12                     7.0        False       22920   \n",
       "\n",
       "          add_to_cart_order  reordered _merge  \\\n",
       "0                         1          0   both   \n",
       "1                         2          0   both   \n",
       "2                         3          0   both   \n",
       "3                         4          0   both   \n",
       "4                         5          0   both   \n",
       "...                     ...        ...    ...   \n",
       "32434484                  5          1   both   \n",
       "32434485                  6          0   both   \n",
       "32434486                  7          0   both   \n",
       "32434487                  8          0   both   \n",
       "32434488                  9          0   both   \n",
       "\n",
       "                                     product_name  aisle_id  department_id  \\\n",
       "0                                            Soda      77.0            7.0   \n",
       "1         Organic Unsweetened Vanilla Almond Milk      91.0           16.0   \n",
       "2                             Original Beef Jerky      23.0           19.0   \n",
       "3                      Aged White Cheddar Popcorn      23.0           19.0   \n",
       "4                XL Pick-A-Size Paper Towel Rolls      54.0           17.0   \n",
       "...                                           ...       ...            ...   \n",
       "32434484                             Tomato Paste       9.0            9.0   \n",
       "32434485          Brownie Crunch High Protein Bar       3.0           19.0   \n",
       "32434486    High Protein Bar Chunky Peanut Butter       3.0           19.0   \n",
       "32434487      Chocolate Peanut Butter Protein Bar       3.0           19.0   \n",
       "32434488      Roasted & Salted Shelled Pistachios     117.0           19.0   \n",
       "\n",
       "          prices match  \n",
       "0            9.0  both  \n",
       "1           12.5  both  \n",
       "2            4.4  both  \n",
       "3            4.7  both  \n",
       "4            1.0  both  \n",
       "...          ...   ...  \n",
       "32434484     5.6  both  \n",
       "32434485     5.9  both  \n",
       "32434486     4.2  both  \n",
       "32434487     4.9  both  \n",
       "32434488     1.7  both  \n",
       "\n",
       "[32434489 rows x 16 columns]"
      ]
     },
     "execution_count": 41,
     "metadata": {},
     "output_type": "execute_result"
    }
   ],
   "source": [
    "# Check merge output\n",
    "df_ords_prods_merged"
   ]
  },
  {
   "cell_type": "code",
   "execution_count": 42,
   "id": "417fb69b-c12f-42e9-829e-ef8dc828f654",
   "metadata": {},
   "outputs": [
    {
     "data": {
      "text/plain": [
       "match\n",
       "both          32404289\n",
       "left_only        30200\n",
       "right_only           0\n",
       "Name: count, dtype: int64"
      ]
     },
     "execution_count": 42,
     "metadata": {},
     "output_type": "execute_result"
    }
   ],
   "source": [
    "# Check output\n",
    "df_ords_prods_merged['match'].value_counts()"
   ]
  },
  {
   "cell_type": "code",
   "execution_count": 43,
   "id": "1a29eee3-4fcb-426b-bcfb-d3e59b5f37e0",
   "metadata": {
    "scrolled": true
   },
   "outputs": [
    {
     "data": {
      "text/plain": [
       "(32434489, 16)"
      ]
     },
     "execution_count": 43,
     "metadata": {},
     "output_type": "execute_result"
    }
   ],
   "source": [
    "# Check shape\n",
    "df_ords_prods_merged.shape"
   ]
  },
  {
   "cell_type": "code",
   "execution_count": null,
   "id": "fc999505-2586-4ddb-9d99-f1ba7d796748",
   "metadata": {},
   "outputs": [],
   "source": []
  },
  {
   "cell_type": "markdown",
   "id": "03d87566-dc47-4760-ad85-65b186c218c8",
   "metadata": {},
   "source": [
    "Both dataframes are merged. I have preserved the 32434489 rows from the original dataframe 'df_ords_prods_combined' and merged 'df_prods' using a left join and the column 'product_id'. After merging, I used the 'indicator = True' argument to check the match results. The majority of the rows had matching 'product ids' in both dataframes, while 30,200 had product_id rows that only existed in the left dataframe (df_ords_prods_combined). "
   ]
  },
  {
   "cell_type": "markdown",
   "id": "2e5861d1-ad51-4db8-a3e3-d2bfe4e00204",
   "metadata": {},
   "source": [
    "But i now have 16 columns because of the two flag columns so I will keep the one most relevant 'match'"
   ]
  },
  {
   "cell_type": "code",
   "execution_count": 44,
   "id": "03c9cf61-5c52-43c1-9670-4346ff499a1b",
   "metadata": {},
   "outputs": [],
   "source": [
    "# Drop '_merge' column\n",
    "df_ords_prods_merge = df_ords_prods_merged.drop(columns=['_merge'])"
   ]
  },
  {
   "cell_type": "code",
   "execution_count": 45,
   "id": "6d99f412-58d2-4c98-bfa2-1300ea9ad3ed",
   "metadata": {},
   "outputs": [
    {
     "data": {
      "text/plain": [
       "(32434489, 15)"
      ]
     },
     "execution_count": 45,
     "metadata": {},
     "output_type": "execute_result"
    }
   ],
   "source": [
    "# Check shape\n",
    "df_ords_prods_merge.shape"
   ]
  },
  {
   "cell_type": "code",
   "execution_count": 46,
   "id": "2907cf94-958c-4499-aef8-b8b40c5ba396",
   "metadata": {},
   "outputs": [],
   "source": [
    "# Test merge using an outerjoin\n",
    "df_merge_check = pd.merge(df_ords_prods_combined, df_prods, on ='product_id', how='outer', indicator='merge_flag')"
   ]
  },
  {
   "cell_type": "code",
   "execution_count": 47,
   "id": "cbead0f5-d9ce-4e0e-b3da-cb27bb479bb2",
   "metadata": {},
   "outputs": [
    {
     "data": {
      "text/plain": [
       "merge_flag\n",
       "both          32404289\n",
       "left_only        30200\n",
       "right_only          11\n",
       "Name: count, dtype: int64"
      ]
     },
     "execution_count": 47,
     "metadata": {},
     "output_type": "execute_result"
    }
   ],
   "source": [
    "# Check output\n",
    "df_merge_check['merge_flag'].value_counts()"
   ]
  },
  {
   "cell_type": "markdown",
   "id": "93404cae-2cb9-4359-b79d-66e65e68d249",
   "metadata": {},
   "source": [
    "The 11 product_ids that appear in the right dataframe (df_prods) may be new products not yet purchased or old products nobdy bought or data errors. "
   ]
  },
  {
   "cell_type": "code",
   "execution_count": null,
   "id": "032ff87e-5bdf-4c0d-91a8-ca991bafff20",
   "metadata": {},
   "outputs": [],
   "source": []
  },
  {
   "cell_type": "markdown",
   "id": "d48f4427-6d03-48eb-98af-fbb29d0fecf1",
   "metadata": {},
   "source": [
    "6. Export Dataframe"
   ]
  },
  {
   "cell_type": "code",
   "execution_count": 48,
   "id": "e327e755-172a-4930-aa50-362590776e25",
   "metadata": {},
   "outputs": [],
   "source": [
    "# Export data as .pkl\n",
    "df_ords_prods_merge.to_pickle(os.path.join(path, '02 Data', 'Prepared Data', 'ords_prods_merge.pkl'))"
   ]
  },
  {
   "cell_type": "code",
   "execution_count": null,
   "id": "ccb1fde0-3087-42e5-a972-252858342855",
   "metadata": {},
   "outputs": [],
   "source": []
  }
 ],
 "metadata": {
  "kernelspec": {
   "display_name": "Python [conda env:base] *",
   "language": "python",
   "name": "conda-base-py"
  },
  "language_info": {
   "codemirror_mode": {
    "name": "ipython",
    "version": 3
   },
   "file_extension": ".py",
   "mimetype": "text/x-python",
   "name": "python",
   "nbconvert_exporter": "python",
   "pygments_lexer": "ipython3",
   "version": "3.12.7"
  }
 },
 "nbformat": 4,
 "nbformat_minor": 5
}
