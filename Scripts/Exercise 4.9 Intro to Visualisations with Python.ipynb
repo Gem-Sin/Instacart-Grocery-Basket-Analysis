{
 "cells": [
  {
   "cell_type": "markdown",
   "id": "112a0ba0-7028-4f18-8d20-c37562fe2f72",
   "metadata": {},
   "source": [
    "1. Import Libraries"
   ]
  },
  {
   "cell_type": "code",
   "execution_count": 9,
   "id": "00e7951a-1718-4f99-bf85-d97eae168866",
   "metadata": {},
   "outputs": [],
   "source": [
    "# Import libraries\n",
    "import pandas as pd\n",
    "import numpy as np\n",
    "import os\n",
    "import matplotlib.pyplot as plt\n",
    "import seaborn as sns\n",
    "import scipy"
   ]
  },
  {
   "cell_type": "code",
   "execution_count": 17,
   "id": "cf26210f-1b60-4aaf-8f02-7e3ac92a05a2",
   "metadata": {},
   "outputs": [],
   "source": [
    "# Create path\n",
    "path = '/Users/ianfleming/Desktop/05-2025 Instacart Basket Analysis'"
   ]
  },
  {
   "cell_type": "code",
   "execution_count": 18,
   "id": "23af929c-a92b-49c8-bfd6-cc33ab3cad0f",
   "metadata": {},
   "outputs": [],
   "source": [
    "# Import merged dataframe\n",
    "df_ords_prods_merge = pd.read_pickle(os.path.join(path, '02 Data', 'prepared data', 'ords_prods_merge.pkl'))"
   ]
  },
  {
   "cell_type": "code",
   "execution_count": 19,
   "id": "706d3d49-42e0-473a-afa9-b04cd2ad16e8",
   "metadata": {},
   "outputs": [
    {
     "data": {
      "text/html": [
       "<div>\n",
       "<style scoped>\n",
       "    .dataframe tbody tr th:only-of-type {\n",
       "        vertical-align: middle;\n",
       "    }\n",
       "\n",
       "    .dataframe tbody tr th {\n",
       "        vertical-align: top;\n",
       "    }\n",
       "\n",
       "    .dataframe thead th {\n",
       "        text-align: right;\n",
       "    }\n",
       "</style>\n",
       "<table border=\"1\" class=\"dataframe\">\n",
       "  <thead>\n",
       "    <tr style=\"text-align: right;\">\n",
       "      <th></th>\n",
       "      <th>order_id</th>\n",
       "      <th>user_id</th>\n",
       "      <th>order_number</th>\n",
       "      <th>orders_day_of_week</th>\n",
       "      <th>order_hour_of_day</th>\n",
       "      <th>days_since_prior_order</th>\n",
       "      <th>first_order</th>\n",
       "      <th>product_id</th>\n",
       "      <th>add_to_cart_order</th>\n",
       "      <th>reordered</th>\n",
       "      <th>...</th>\n",
       "      <th>match</th>\n",
       "      <th>price_range_loc</th>\n",
       "      <th>busiest_days</th>\n",
       "      <th>busiest_period_of_day</th>\n",
       "      <th>max_order</th>\n",
       "      <th>loyalty_flag</th>\n",
       "      <th>avg_price_per_user</th>\n",
       "      <th>spending_flag</th>\n",
       "      <th>median_days_per_user</th>\n",
       "      <th>order_frequency_flag</th>\n",
       "    </tr>\n",
       "  </thead>\n",
       "  <tbody>\n",
       "    <tr>\n",
       "      <th>0</th>\n",
       "      <td>2539329</td>\n",
       "      <td>1</td>\n",
       "      <td>1</td>\n",
       "      <td>2</td>\n",
       "      <td>8</td>\n",
       "      <td>NaN</td>\n",
       "      <td>True</td>\n",
       "      <td>196</td>\n",
       "      <td>1</td>\n",
       "      <td>0</td>\n",
       "      <td>...</td>\n",
       "      <td>both</td>\n",
       "      <td>Mid–range product</td>\n",
       "      <td>Regularly busy</td>\n",
       "      <td>Average orders</td>\n",
       "      <td>10</td>\n",
       "      <td>New customer</td>\n",
       "      <td>6.367797</td>\n",
       "      <td>Low spender</td>\n",
       "      <td>20.5</td>\n",
       "      <td>Non-frequent customer</td>\n",
       "    </tr>\n",
       "    <tr>\n",
       "      <th>1</th>\n",
       "      <td>2539329</td>\n",
       "      <td>1</td>\n",
       "      <td>1</td>\n",
       "      <td>2</td>\n",
       "      <td>8</td>\n",
       "      <td>NaN</td>\n",
       "      <td>True</td>\n",
       "      <td>14084</td>\n",
       "      <td>2</td>\n",
       "      <td>0</td>\n",
       "      <td>...</td>\n",
       "      <td>both</td>\n",
       "      <td>Mid–range product</td>\n",
       "      <td>Regularly busy</td>\n",
       "      <td>Average orders</td>\n",
       "      <td>10</td>\n",
       "      <td>New customer</td>\n",
       "      <td>6.367797</td>\n",
       "      <td>Low spender</td>\n",
       "      <td>20.5</td>\n",
       "      <td>Non-frequent customer</td>\n",
       "    </tr>\n",
       "    <tr>\n",
       "      <th>2</th>\n",
       "      <td>2539329</td>\n",
       "      <td>1</td>\n",
       "      <td>1</td>\n",
       "      <td>2</td>\n",
       "      <td>8</td>\n",
       "      <td>NaN</td>\n",
       "      <td>True</td>\n",
       "      <td>12427</td>\n",
       "      <td>3</td>\n",
       "      <td>0</td>\n",
       "      <td>...</td>\n",
       "      <td>both</td>\n",
       "      <td>Low-range product</td>\n",
       "      <td>Regularly busy</td>\n",
       "      <td>Average orders</td>\n",
       "      <td>10</td>\n",
       "      <td>New customer</td>\n",
       "      <td>6.367797</td>\n",
       "      <td>Low spender</td>\n",
       "      <td>20.5</td>\n",
       "      <td>Non-frequent customer</td>\n",
       "    </tr>\n",
       "    <tr>\n",
       "      <th>3</th>\n",
       "      <td>2539329</td>\n",
       "      <td>1</td>\n",
       "      <td>1</td>\n",
       "      <td>2</td>\n",
       "      <td>8</td>\n",
       "      <td>NaN</td>\n",
       "      <td>True</td>\n",
       "      <td>26088</td>\n",
       "      <td>4</td>\n",
       "      <td>0</td>\n",
       "      <td>...</td>\n",
       "      <td>both</td>\n",
       "      <td>Low-range product</td>\n",
       "      <td>Regularly busy</td>\n",
       "      <td>Average orders</td>\n",
       "      <td>10</td>\n",
       "      <td>New customer</td>\n",
       "      <td>6.367797</td>\n",
       "      <td>Low spender</td>\n",
       "      <td>20.5</td>\n",
       "      <td>Non-frequent customer</td>\n",
       "    </tr>\n",
       "    <tr>\n",
       "      <th>4</th>\n",
       "      <td>2539329</td>\n",
       "      <td>1</td>\n",
       "      <td>1</td>\n",
       "      <td>2</td>\n",
       "      <td>8</td>\n",
       "      <td>NaN</td>\n",
       "      <td>True</td>\n",
       "      <td>26405</td>\n",
       "      <td>5</td>\n",
       "      <td>0</td>\n",
       "      <td>...</td>\n",
       "      <td>both</td>\n",
       "      <td>Low-range product</td>\n",
       "      <td>Regularly busy</td>\n",
       "      <td>Average orders</td>\n",
       "      <td>10</td>\n",
       "      <td>New customer</td>\n",
       "      <td>6.367797</td>\n",
       "      <td>Low spender</td>\n",
       "      <td>20.5</td>\n",
       "      <td>Non-frequent customer</td>\n",
       "    </tr>\n",
       "    <tr>\n",
       "      <th>...</th>\n",
       "      <td>...</td>\n",
       "      <td>...</td>\n",
       "      <td>...</td>\n",
       "      <td>...</td>\n",
       "      <td>...</td>\n",
       "      <td>...</td>\n",
       "      <td>...</td>\n",
       "      <td>...</td>\n",
       "      <td>...</td>\n",
       "      <td>...</td>\n",
       "      <td>...</td>\n",
       "      <td>...</td>\n",
       "      <td>...</td>\n",
       "      <td>...</td>\n",
       "      <td>...</td>\n",
       "      <td>...</td>\n",
       "      <td>...</td>\n",
       "      <td>...</td>\n",
       "      <td>...</td>\n",
       "      <td>...</td>\n",
       "      <td>...</td>\n",
       "    </tr>\n",
       "    <tr>\n",
       "      <th>32434484</th>\n",
       "      <td>2977660</td>\n",
       "      <td>206209</td>\n",
       "      <td>13</td>\n",
       "      <td>1</td>\n",
       "      <td>12</td>\n",
       "      <td>7.0</td>\n",
       "      <td>False</td>\n",
       "      <td>14197</td>\n",
       "      <td>5</td>\n",
       "      <td>1</td>\n",
       "      <td>...</td>\n",
       "      <td>both</td>\n",
       "      <td>Mid–range product</td>\n",
       "      <td>Busiest days</td>\n",
       "      <td>Most orders</td>\n",
       "      <td>13</td>\n",
       "      <td>Regular customer</td>\n",
       "      <td>7.058915</td>\n",
       "      <td>Low spender</td>\n",
       "      <td>22.0</td>\n",
       "      <td>Non-frequent customer</td>\n",
       "    </tr>\n",
       "    <tr>\n",
       "      <th>32434485</th>\n",
       "      <td>2977660</td>\n",
       "      <td>206209</td>\n",
       "      <td>13</td>\n",
       "      <td>1</td>\n",
       "      <td>12</td>\n",
       "      <td>7.0</td>\n",
       "      <td>False</td>\n",
       "      <td>38730</td>\n",
       "      <td>6</td>\n",
       "      <td>0</td>\n",
       "      <td>...</td>\n",
       "      <td>both</td>\n",
       "      <td>Mid–range product</td>\n",
       "      <td>Busiest days</td>\n",
       "      <td>Most orders</td>\n",
       "      <td>13</td>\n",
       "      <td>Regular customer</td>\n",
       "      <td>7.058915</td>\n",
       "      <td>Low spender</td>\n",
       "      <td>22.0</td>\n",
       "      <td>Non-frequent customer</td>\n",
       "    </tr>\n",
       "    <tr>\n",
       "      <th>32434486</th>\n",
       "      <td>2977660</td>\n",
       "      <td>206209</td>\n",
       "      <td>13</td>\n",
       "      <td>1</td>\n",
       "      <td>12</td>\n",
       "      <td>7.0</td>\n",
       "      <td>False</td>\n",
       "      <td>31477</td>\n",
       "      <td>7</td>\n",
       "      <td>0</td>\n",
       "      <td>...</td>\n",
       "      <td>both</td>\n",
       "      <td>Low-range product</td>\n",
       "      <td>Busiest days</td>\n",
       "      <td>Most orders</td>\n",
       "      <td>13</td>\n",
       "      <td>Regular customer</td>\n",
       "      <td>7.058915</td>\n",
       "      <td>Low spender</td>\n",
       "      <td>22.0</td>\n",
       "      <td>Non-frequent customer</td>\n",
       "    </tr>\n",
       "    <tr>\n",
       "      <th>32434487</th>\n",
       "      <td>2977660</td>\n",
       "      <td>206209</td>\n",
       "      <td>13</td>\n",
       "      <td>1</td>\n",
       "      <td>12</td>\n",
       "      <td>7.0</td>\n",
       "      <td>False</td>\n",
       "      <td>6567</td>\n",
       "      <td>8</td>\n",
       "      <td>0</td>\n",
       "      <td>...</td>\n",
       "      <td>both</td>\n",
       "      <td>Low-range product</td>\n",
       "      <td>Busiest days</td>\n",
       "      <td>Most orders</td>\n",
       "      <td>13</td>\n",
       "      <td>Regular customer</td>\n",
       "      <td>7.058915</td>\n",
       "      <td>Low spender</td>\n",
       "      <td>22.0</td>\n",
       "      <td>Non-frequent customer</td>\n",
       "    </tr>\n",
       "    <tr>\n",
       "      <th>32434488</th>\n",
       "      <td>2977660</td>\n",
       "      <td>206209</td>\n",
       "      <td>13</td>\n",
       "      <td>1</td>\n",
       "      <td>12</td>\n",
       "      <td>7.0</td>\n",
       "      <td>False</td>\n",
       "      <td>22920</td>\n",
       "      <td>9</td>\n",
       "      <td>0</td>\n",
       "      <td>...</td>\n",
       "      <td>both</td>\n",
       "      <td>Low-range product</td>\n",
       "      <td>Busiest days</td>\n",
       "      <td>Most orders</td>\n",
       "      <td>13</td>\n",
       "      <td>Regular customer</td>\n",
       "      <td>7.058915</td>\n",
       "      <td>Low spender</td>\n",
       "      <td>22.0</td>\n",
       "      <td>Non-frequent customer</td>\n",
       "    </tr>\n",
       "  </tbody>\n",
       "</table>\n",
       "<p>32434489 rows × 24 columns</p>\n",
       "</div>"
      ],
      "text/plain": [
       "          order_id  user_id  order_number  orders_day_of_week  \\\n",
       "0          2539329        1             1                   2   \n",
       "1          2539329        1             1                   2   \n",
       "2          2539329        1             1                   2   \n",
       "3          2539329        1             1                   2   \n",
       "4          2539329        1             1                   2   \n",
       "...            ...      ...           ...                 ...   \n",
       "32434484   2977660   206209            13                   1   \n",
       "32434485   2977660   206209            13                   1   \n",
       "32434486   2977660   206209            13                   1   \n",
       "32434487   2977660   206209            13                   1   \n",
       "32434488   2977660   206209            13                   1   \n",
       "\n",
       "          order_hour_of_day  days_since_prior_order  first_order  product_id  \\\n",
       "0                         8                     NaN         True         196   \n",
       "1                         8                     NaN         True       14084   \n",
       "2                         8                     NaN         True       12427   \n",
       "3                         8                     NaN         True       26088   \n",
       "4                         8                     NaN         True       26405   \n",
       "...                     ...                     ...          ...         ...   \n",
       "32434484                 12                     7.0        False       14197   \n",
       "32434485                 12                     7.0        False       38730   \n",
       "32434486                 12                     7.0        False       31477   \n",
       "32434487                 12                     7.0        False        6567   \n",
       "32434488                 12                     7.0        False       22920   \n",
       "\n",
       "          add_to_cart_order  reordered  ... match    price_range_loc  \\\n",
       "0                         1          0  ...  both  Mid–range product   \n",
       "1                         2          0  ...  both  Mid–range product   \n",
       "2                         3          0  ...  both  Low-range product   \n",
       "3                         4          0  ...  both  Low-range product   \n",
       "4                         5          0  ...  both  Low-range product   \n",
       "...                     ...        ...  ...   ...                ...   \n",
       "32434484                  5          1  ...  both  Mid–range product   \n",
       "32434485                  6          0  ...  both  Mid–range product   \n",
       "32434486                  7          0  ...  both  Low-range product   \n",
       "32434487                  8          0  ...  both  Low-range product   \n",
       "32434488                  9          0  ...  both  Low-range product   \n",
       "\n",
       "            busiest_days  busiest_period_of_day max_order      loyalty_flag  \\\n",
       "0         Regularly busy         Average orders        10      New customer   \n",
       "1         Regularly busy         Average orders        10      New customer   \n",
       "2         Regularly busy         Average orders        10      New customer   \n",
       "3         Regularly busy         Average orders        10      New customer   \n",
       "4         Regularly busy         Average orders        10      New customer   \n",
       "...                  ...                    ...       ...               ...   \n",
       "32434484    Busiest days            Most orders        13  Regular customer   \n",
       "32434485    Busiest days            Most orders        13  Regular customer   \n",
       "32434486    Busiest days            Most orders        13  Regular customer   \n",
       "32434487    Busiest days            Most orders        13  Regular customer   \n",
       "32434488    Busiest days            Most orders        13  Regular customer   \n",
       "\n",
       "         avg_price_per_user spending_flag  median_days_per_user  \\\n",
       "0                  6.367797   Low spender                  20.5   \n",
       "1                  6.367797   Low spender                  20.5   \n",
       "2                  6.367797   Low spender                  20.5   \n",
       "3                  6.367797   Low spender                  20.5   \n",
       "4                  6.367797   Low spender                  20.5   \n",
       "...                     ...           ...                   ...   \n",
       "32434484           7.058915   Low spender                  22.0   \n",
       "32434485           7.058915   Low spender                  22.0   \n",
       "32434486           7.058915   Low spender                  22.0   \n",
       "32434487           7.058915   Low spender                  22.0   \n",
       "32434488           7.058915   Low spender                  22.0   \n",
       "\n",
       "           order_frequency_flag  \n",
       "0         Non-frequent customer  \n",
       "1         Non-frequent customer  \n",
       "2         Non-frequent customer  \n",
       "3         Non-frequent customer  \n",
       "4         Non-frequent customer  \n",
       "...                         ...  \n",
       "32434484  Non-frequent customer  \n",
       "32434485  Non-frequent customer  \n",
       "32434486  Non-frequent customer  \n",
       "32434487  Non-frequent customer  \n",
       "32434488  Non-frequent customer  \n",
       "\n",
       "[32434489 rows x 24 columns]"
      ]
     },
     "execution_count": 19,
     "metadata": {},
     "output_type": "execute_result"
    }
   ],
   "source": [
    "# Check import\n",
    "df_ords_prods_merge"
   ]
  },
  {
   "cell_type": "markdown",
   "id": "457e2e00-cf9a-4fe3-8593-9496191f84aa",
   "metadata": {},
   "source": [
    "2. Types of Charts - Creating Bar Charts"
   ]
  },
  {
   "cell_type": "code",
   "execution_count": 20,
   "id": "188ffaec-0b99-4cfb-b563-01cde2771f25",
   "metadata": {
    "scrolled": true
   },
   "outputs": [
    {
     "data": {
      "text/plain": [
       "<Axes: xlabel='orders_day_of_week'>"
      ]
     },
     "execution_count": 20,
     "metadata": {},
     "output_type": "execute_result"
    },
    {
     "data": {
      "image/png": "[encoded data removed]",
      "text/plain": [
       "<Figure size 640x480 with 1 Axes>"
      ]
     },
     "metadata": {},
     "output_type": "display_data"
    }
   ],
   "source": [
    "# Create a bar chart\n",
    "df_ords_prods_merge['orders_day_of_week'].value_counts().plot.bar()"
   ]
  },
  {
   "cell_type": "code",
   "execution_count": 22,
   "id": "db0cb25d-f329-4f2f-8b42-ac2abdbe202d",
   "metadata": {},
   "outputs": [
    {
     "data": {
      "image/png": "[encoded data removed]",
      "text/plain": [
       "<Figure size 640x480 with 1 Axes>"
      ]
     },
     "metadata": {},
     "output_type": "display_data"
    }
   ],
   "source": [
    "# Sort the coloumns\n",
    "bar = df_ords_prods_merge['orders_day_of_week'].value_counts().sort_index().plot.bar()"
   ]
  },
  {
   "cell_type": "code",
   "execution_count": 24,
   "id": "7183d376-03ee-4e72-849e-cfc621769d6b",
   "metadata": {},
   "outputs": [
    {
     "data": {
      "image/png": "[encoded data removed]",
      "text/plain": [
       "<Figure size 640x480 with 1 Axes>"
      ]
     },
     "metadata": {},
     "output_type": "display_data"
    }
   ],
   "source": [
    "# Change colour of the columns\n",
    "bar = df_ords_prods_merge['orders_day_of_week'].value_counts().plot.bar(color = ['purple', 'red', 'pink', 'orange', 'yellow', 'green', 'blue'])"
   ]
  },
  {
   "cell_type": "code",
   "execution_count": 27,
   "id": "129f8489-0a07-4ce1-84ff-f0c6de1f1c69",
   "metadata": {},
   "outputs": [],
   "source": [
    "# Export bar chart into folder\n",
    "bar.figure.savefig(os.path.join(path, '04 Analysis','Visualisations', 'bar_orders_dow.png'))"
   ]
  },
  {
   "cell_type": "markdown",
   "id": "17c0a064-ea63-4dca-8b7e-a8c897914a9e",
   "metadata": {},
   "source": [
    "3. Creating Histograms and Scatterplots"
   ]
  },
  {
   "cell_type": "code",
   "execution_count": 28,
   "id": "3c44b974-c18b-4d6e-8aec-684b5b9f16be",
   "metadata": {},
   "outputs": [
    {
     "data": {
      "text/plain": [
       "<Axes: ylabel='Frequency'>"
      ]
     },
     "execution_count": 28,
     "metadata": {},
     "output_type": "execute_result"
    },
    {
     "data": {
      "image/png": "[encoded data removed]",
      "text/plain": [
       "<Figure size 640x480 with 1 Axes>"
      ]
     },
     "metadata": {},
     "output_type": "display_data"
    }
   ],
   "source": [
    "# Create histogram of 'prices' column\n",
    "df_ords_prods_merge['prices'].plot.hist(bins = 25)"
   ]
  },
  {
   "cell_type": "code",
   "execution_count": 30,
   "id": "c678608c-e2e4-404b-bdd5-cd59daa101b5",
   "metadata": {},
   "outputs": [
    {
     "data": {
      "text/plain": [
       "<Axes: xlabel='prices', ylabel='prices'>"
      ]
     },
     "execution_count": 30,
     "metadata": {},
     "output_type": "execute_result"
    },
    {
     "data": {
      "image/png": "[encoded data removed]",
      "text/plain": [
       "<Figure size 640x480 with 1 Axes>"
      ]
     },
     "metadata": {},
     "output_type": "display_data"
    }
   ],
   "source": [
    "# Create a scatterplot\n",
    "sns.scatterplot(x = 'prices', y = 'prices',data = df_ords_prods_merge)"
   ]
  },
  {
   "cell_type": "code",
   "execution_count": 31,
   "id": "e1bc7269-9425-47fd-a4e9-741251a6dbc9",
   "metadata": {},
   "outputs": [
    {
     "data": {
      "text/html": [
       "<div>\n",
       "<style scoped>\n",
       "    .dataframe tbody tr th:only-of-type {\n",
       "        vertical-align: middle;\n",
       "    }\n",
       "\n",
       "    .dataframe tbody tr th {\n",
       "        vertical-align: top;\n",
       "    }\n",
       "\n",
       "    .dataframe thead th {\n",
       "        text-align: right;\n",
       "    }\n",
       "</style>\n",
       "<table border=\"1\" class=\"dataframe\">\n",
       "  <thead>\n",
       "    <tr style=\"text-align: right;\">\n",
       "      <th></th>\n",
       "      <th>order_id</th>\n",
       "      <th>user_id</th>\n",
       "      <th>order_number</th>\n",
       "      <th>orders_day_of_week</th>\n",
       "      <th>order_hour_of_day</th>\n",
       "      <th>days_since_prior_order</th>\n",
       "      <th>first_order</th>\n",
       "      <th>product_id</th>\n",
       "      <th>add_to_cart_order</th>\n",
       "      <th>reordered</th>\n",
       "      <th>...</th>\n",
       "      <th>match</th>\n",
       "      <th>price_range_loc</th>\n",
       "      <th>busiest_days</th>\n",
       "      <th>busiest_period_of_day</th>\n",
       "      <th>max_order</th>\n",
       "      <th>loyalty_flag</th>\n",
       "      <th>avg_price_per_user</th>\n",
       "      <th>spending_flag</th>\n",
       "      <th>median_days_per_user</th>\n",
       "      <th>order_frequency_flag</th>\n",
       "    </tr>\n",
       "  </thead>\n",
       "  <tbody>\n",
       "  </tbody>\n",
       "</table>\n",
       "<p>0 rows × 24 columns</p>\n",
       "</div>"
      ],
      "text/plain": [
       "Empty DataFrame\n",
       "Columns: [order_id, user_id, order_number, orders_day_of_week, order_hour_of_day, days_since_prior_order, first_order, product_id, add_to_cart_order, reordered, product_name, aisle_id, department_id, prices, match, price_range_loc, busiest_days, busiest_period_of_day, max_order, loyalty_flag, avg_price_per_user, spending_flag, median_days_per_user, order_frequency_flag]\n",
       "Index: []\n",
       "\n",
       "[0 rows x 24 columns]"
      ]
     },
     "execution_count": 31,
     "metadata": {},
     "output_type": "execute_result"
    }
   ],
   "source": [
    "# Check for prices greater than 100\n",
    "df_ords_prods_merge.loc[df_ords_prods_merge['prices'] > 100]"
   ]
  },
  {
   "cell_type": "markdown",
   "id": "1220f2bf-50eb-46ba-9509-a0f24116b0fe",
   "metadata": {},
   "source": [
    "I had found these outliers in a previous task so this part of the exercise did not work for me. "
   ]
  },
  {
   "cell_type": "code",
   "execution_count": 32,
   "id": "5ca7ae42-064d-40dd-86d9-8a2ded615916",
   "metadata": {},
   "outputs": [
    {
     "data": {
      "text/plain": [
       "25.0"
      ]
     },
     "execution_count": 32,
     "metadata": {},
     "output_type": "execute_result"
    }
   ],
   "source": [
    "# Check max price\n",
    "df_ords_prods_merge['prices'].max()"
   ]
  },
  {
   "cell_type": "code",
   "execution_count": 35,
   "id": "a1300a0a-4e10-4324-93d2-e9c67173ed1e",
   "metadata": {},
   "outputs": [
    {
     "data": {
      "image/png": "[encoded data removed]",
      "text/plain": [
       "<Figure size 640x480 with 1 Axes>"
      ]
     },
     "metadata": {},
     "output_type": "display_data"
    }
   ],
   "source": [
    "# Create histogram of 'prices' column\n",
    "hist = df_ords_prods_merge['prices'].plot.hist(bins = 70)"
   ]
  },
  {
   "cell_type": "code",
   "execution_count": null,
   "id": "578adebf-925b-42aa-9234-eb4f35c410ef",
   "metadata": {},
   "outputs": [],
   "source": []
  },
  {
   "cell_type": "code",
   "execution_count": 36,
   "id": "32645a25-6395-4fae-b9ab-74d75d05b72e",
   "metadata": {},
   "outputs": [],
   "source": [
    "# Export histogram\n",
    "hist.figure.savefig(os.path.join(path, '04 Analysis','Visualisations', 'hist_prices.png'))"
   ]
  },
  {
   "cell_type": "markdown",
   "id": "83d76f2a-c596-4321-96bf-1765adc95ab3",
   "metadata": {},
   "source": [
    "4. Creating Line Charts"
   ]
  },
  {
   "cell_type": "code",
   "execution_count": 40,
   "id": "06e1a785-0325-46af-99b5-e43bd8631ab6",
   "metadata": {},
   "outputs": [],
   "source": [
    "# Create a list holding True/False values to the test np.random.rand() <= 0.7\n",
    "dev = np.random.rand(len(df_ords_prods_merge)) <= 0.7"
   ]
  },
  {
   "cell_type": "code",
   "execution_count": 42,
   "id": "f693bdbf-a5f9-4c15-a0fb-5d3486939198",
   "metadata": {},
   "outputs": [],
   "source": [
    "# Store 70% of the data in the dataframe big\n",
    "big = df_ords_prods_merge[dev]"
   ]
  },
  {
   "cell_type": "code",
   "execution_count": 43,
   "id": "600427ba-be75-4a18-a5e4-492005b4b91b",
   "metadata": {},
   "outputs": [],
   "source": [
    "# Store 30% of the data in the dataframe small\n",
    "small = df_ords_prods_merge[~dev]"
   ]
  },
  {
   "cell_type": "code",
   "execution_count": 44,
   "id": "84b5fdc7-dcad-4712-9aaf-57dea9601f18",
   "metadata": {},
   "outputs": [
    {
     "data": {
      "text/plain": [
       "32434489"
      ]
     },
     "execution_count": 44,
     "metadata": {},
     "output_type": "execute_result"
    }
   ],
   "source": [
    "# Check dataframe size\n",
    "len(df_ords_prods_merge)"
   ]
  },
  {
   "cell_type": "code",
   "execution_count": 45,
   "id": "8849f653-eaac-441a-b92c-f7990a2f5e1d",
   "metadata": {},
   "outputs": [
    {
     "data": {
      "text/plain": [
       "32434489"
      ]
     },
     "execution_count": 45,
     "metadata": {},
     "output_type": "execute_result"
    }
   ],
   "source": [
    "# Check size of the two new datarames added together\n",
    "len(big) + len(small)"
   ]
  },
  {
   "cell_type": "code",
   "execution_count": 46,
   "id": "97c2a3ea-d207-4f24-b63f-13908bcfb8ee",
   "metadata": {},
   "outputs": [],
   "source": [
    "# Reduce sample to columns needed 'orders_day_of_week' and 'prices'\n",
    "df_2 = small[['orders_day_of_week','prices']]"
   ]
  },
  {
   "cell_type": "code",
   "execution_count": 47,
   "id": "77f9e81d-bbe9-473d-98ab-43c263c31108",
   "metadata": {},
   "outputs": [
    {
     "data": {
      "image/png": "[encoded data removed]",
      "text/plain": [
       "<Figure size 640x480 with 1 Axes>"
      ]
     },
     "metadata": {},
     "output_type": "display_data"
    }
   ],
   "source": [
    "# Create a line chart\n",
    "line = sns.lineplot(data = df_2, x = 'orders_day_of_week',y = 'prices')"
   ]
  },
  {
   "cell_type": "code",
   "execution_count": 48,
   "id": "f76ebdab-8ab3-4b8b-8b9c-383ba1e882b7",
   "metadata": {},
   "outputs": [],
   "source": [
    "# Export dataframe\n",
    "df_ords_prods_merge.to_pickle(os.path.join(path, '02 Data', 'Prepared Data', 'ords_prods_merge.pkl'))"
   ]
  },
  {
   "cell_type": "code",
   "execution_count": null,
   "id": "92e44a60-99d6-480f-95e7-9927a7fd6180",
   "metadata": {},
   "outputs": [],
   "source": []
  },
  {
   "cell_type": "code",
   "execution_count": null,
   "id": "91044e8f-d678-47ad-bb7b-269aebd80d88",
   "metadata": {},
   "outputs": [],
   "source": []
  },
  {
   "cell_type": "code",
   "execution_count": null,
   "id": "27a12056-e941-4c3b-97b1-9714b234db1c",
   "metadata": {},
   "outputs": [],
   "source": []
  },
  {
   "cell_type": "code",
   "execution_count": null,
   "id": "97f88ff1-78e8-4193-a09f-f567c86072ad",
   "metadata": {},
   "outputs": [],
   "source": []
  }
 ],
 "metadata": {
  "kernelspec": {
   "display_name": "Python [conda env:base] *",
   "language": "python",
   "name": "conda-base-py"
  },
  "language_info": {
   "codemirror_mode": {
    "name": "ipython",
    "version": 3
   },
   "file_extension": ".py",
   "mimetype": "text/x-python",
   "name": "python",
   "nbconvert_exporter": "python",
   "pygments_lexer": "ipython3",
   "version": "3.12.7"
  }
 },
 "nbformat": 4,
 "nbformat_minor": 5
}
