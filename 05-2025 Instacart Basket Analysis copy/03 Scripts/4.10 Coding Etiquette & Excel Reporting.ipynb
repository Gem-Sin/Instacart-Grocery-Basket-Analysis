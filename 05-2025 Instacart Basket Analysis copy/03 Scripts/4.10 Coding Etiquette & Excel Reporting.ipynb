{
 "cells": [
  {
   "cell_type": "markdown",
   "id": "73d576ba-3b7d-4762-acfc-90f02ceb4917",
   "metadata": {},
   "source": [
    "Table of Contents"
   ]
  },
  {
   "cell_type": "markdown",
   "id": "66433768-130b-4a15-a63c-fea62e992043",
   "metadata": {},
   "source": [
    "1. Import Libraries and Dataframes"
   ]
  },
  {
   "cell_type": "markdown",
   "id": "34d7b2b0-d7a8-45cc-aef5-e44aed1a6c95",
   "metadata": {},
   "source": [
    "2. Remove PIIs "
   ]
  },
  {
   "cell_type": "markdown",
   "id": "b7b98405-2921-48e9-a1fa-cce401c5ec1a",
   "metadata": {},
   "source": [
    "3. Create and Implement Regions "
   ]
  },
  {
   "cell_type": "markdown",
   "id": "7d4421ac-4ca3-4a0c-a855-230c265249ff",
   "metadata": {},
   "source": [
    "4. Create an Exclusion Flag for Low Activity Customers"
   ]
  },
  {
   "cell_type": "markdown",
   "id": "d0f8f6e3-d5ec-47d6-90df-47b4bfc7a579",
   "metadata": {},
   "source": [
    "5. Create New Dataframe with High Activity Customers"
   ]
  },
  {
   "cell_type": "markdown",
   "id": "bdf00eef-e30b-4ce7-863f-64f04163713d",
   "metadata": {},
   "source": [
    "6. Export high activity customers daraframe"
   ]
  },
  {
   "cell_type": "markdown",
   "id": "16e90f58-cb35-4ab8-ad74-db49db31b17d",
   "metadata": {},
   "source": [
    "7. Create Customers Profiles"
   ]
  },
  {
   "cell_type": "markdown",
   "id": "8e637863-edd3-46bd-9133-c7d1efca3d56",
   "metadata": {},
   "source": [
    "8.  Create Customer Profile distribution bar chart and export"
   ]
  },
  {
   "cell_type": "markdown",
   "id": "dc4fabd9-4d20-4b73-82bd-cc77426c97c5",
   "metadata": {},
   "source": [
    "9. Aggregate Mean, Max, Min on Customer Profiles for Expenditure and User Frequency "
   ]
  },
  {
   "cell_type": "markdown",
   "id": "73017e37-78d3-4351-a12a-8d81b817b2f1",
   "metadata": {},
   "source": [
    "10. Comparison of Regions and Departments Based on Customer Profiles Visualisations"
   ]
  },
  {
   "cell_type": "markdown",
   "id": "7319d910-6357-483e-b5da-f6571a56bf01",
   "metadata": {},
   "source": [
    "11. Export Dataframes"
   ]
  },
  {
   "cell_type": "code",
   "execution_count": null,
   "id": "202509ec-fef5-4c21-ac6c-2876e4239d64",
   "metadata": {},
   "outputs": [],
   "source": []
  },
  {
   "cell_type": "markdown",
   "id": "bf560efa-eacf-4a34-b78e-95c682e03651",
   "metadata": {},
   "source": [
    "Question 1. Import Libraries and Dataframes"
   ]
  },
  {
   "cell_type": "markdown",
   "id": "3e5053c7-00f7-4dfd-ad59-9b3dcef33c34",
   "metadata": {},
   "source": [
    "1. Import Libraries and Dataframes"
   ]
  },
  {
   "cell_type": "code",
   "execution_count": 1,
   "id": "4398fbbf-b44e-40a0-95ec-36c111bb100e",
   "metadata": {},
   "outputs": [],
   "source": [
    "# Import libraries\n",
    "import pandas as pd\n",
    "import numpy as np\n",
    "import os\n",
    "import matplotlib.pyplot as plt\n",
    "import seaborn as sns\n",
    "import scipy"
   ]
  },
  {
   "cell_type": "code",
   "execution_count": 2,
   "id": "ad3a6c5a-a71e-4070-a81e-7d8c9f32d3ac",
   "metadata": {},
   "outputs": [],
   "source": [
    "# Create path\n",
    "path = '/Users/ianfleming/Desktop/05-2025 Instacart Basket Analysis'"
   ]
  },
  {
   "cell_type": "code",
   "execution_count": 3,
   "id": "1362fb12-b55f-4f88-bfba-1ed7aa454268",
   "metadata": {},
   "outputs": [],
   "source": [
    "# Import dataframe\n",
    "df_merged = pd.read_pickle(os.path.join(path, '02 Data', 'Prepared Data', 'ords_prods_cust_merged.pkl'))"
   ]
  },
  {
   "cell_type": "code",
   "execution_count": 4,
   "id": "ff3d0bae-d580-43da-83f5-935fe352a3c4",
   "metadata": {},
   "outputs": [
    {
     "data": {
      "text/html": [
       "<div>\n",
       "<style scoped>\n",
       "    .dataframe tbody tr th:only-of-type {\n",
       "        vertical-align: middle;\n",
       "    }\n",
       "\n",
       "    .dataframe tbody tr th {\n",
       "        vertical-align: top;\n",
       "    }\n",
       "\n",
       "    .dataframe thead th {\n",
       "        text-align: right;\n",
       "    }\n",
       "</style>\n",
       "<table border=\"1\" class=\"dataframe\">\n",
       "  <thead>\n",
       "    <tr style=\"text-align: right;\">\n",
       "      <th></th>\n",
       "      <th>order_id</th>\n",
       "      <th>user_id</th>\n",
       "      <th>order_number</th>\n",
       "      <th>orders_day_of_week</th>\n",
       "      <th>order_hour_of_day</th>\n",
       "      <th>days_since_prior_order</th>\n",
       "      <th>first_order</th>\n",
       "      <th>product_id</th>\n",
       "      <th>add_to_cart_order</th>\n",
       "      <th>reordered</th>\n",
       "      <th>...</th>\n",
       "      <th>first_name</th>\n",
       "      <th>last_name</th>\n",
       "      <th>gender</th>\n",
       "      <th>state</th>\n",
       "      <th>age</th>\n",
       "      <th>date_joined</th>\n",
       "      <th>n_dependents</th>\n",
       "      <th>fam_status</th>\n",
       "      <th>income</th>\n",
       "      <th>merge_flag</th>\n",
       "    </tr>\n",
       "  </thead>\n",
       "  <tbody>\n",
       "    <tr>\n",
       "      <th>0</th>\n",
       "      <td>2539329</td>\n",
       "      <td>1</td>\n",
       "      <td>1</td>\n",
       "      <td>2</td>\n",
       "      <td>8</td>\n",
       "      <td>NaN</td>\n",
       "      <td>True</td>\n",
       "      <td>196</td>\n",
       "      <td>1</td>\n",
       "      <td>0</td>\n",
       "      <td>...</td>\n",
       "      <td>Linda</td>\n",
       "      <td>Nguyen</td>\n",
       "      <td>Female</td>\n",
       "      <td>Alabama</td>\n",
       "      <td>31</td>\n",
       "      <td>2/17/2019</td>\n",
       "      <td>3</td>\n",
       "      <td>married</td>\n",
       "      <td>40423</td>\n",
       "      <td>both</td>\n",
       "    </tr>\n",
       "    <tr>\n",
       "      <th>1</th>\n",
       "      <td>2539329</td>\n",
       "      <td>1</td>\n",
       "      <td>1</td>\n",
       "      <td>2</td>\n",
       "      <td>8</td>\n",
       "      <td>NaN</td>\n",
       "      <td>True</td>\n",
       "      <td>14084</td>\n",
       "      <td>2</td>\n",
       "      <td>0</td>\n",
       "      <td>...</td>\n",
       "      <td>Linda</td>\n",
       "      <td>Nguyen</td>\n",
       "      <td>Female</td>\n",
       "      <td>Alabama</td>\n",
       "      <td>31</td>\n",
       "      <td>2/17/2019</td>\n",
       "      <td>3</td>\n",
       "      <td>married</td>\n",
       "      <td>40423</td>\n",
       "      <td>both</td>\n",
       "    </tr>\n",
       "    <tr>\n",
       "      <th>2</th>\n",
       "      <td>2539329</td>\n",
       "      <td>1</td>\n",
       "      <td>1</td>\n",
       "      <td>2</td>\n",
       "      <td>8</td>\n",
       "      <td>NaN</td>\n",
       "      <td>True</td>\n",
       "      <td>12427</td>\n",
       "      <td>3</td>\n",
       "      <td>0</td>\n",
       "      <td>...</td>\n",
       "      <td>Linda</td>\n",
       "      <td>Nguyen</td>\n",
       "      <td>Female</td>\n",
       "      <td>Alabama</td>\n",
       "      <td>31</td>\n",
       "      <td>2/17/2019</td>\n",
       "      <td>3</td>\n",
       "      <td>married</td>\n",
       "      <td>40423</td>\n",
       "      <td>both</td>\n",
       "    </tr>\n",
       "    <tr>\n",
       "      <th>3</th>\n",
       "      <td>2539329</td>\n",
       "      <td>1</td>\n",
       "      <td>1</td>\n",
       "      <td>2</td>\n",
       "      <td>8</td>\n",
       "      <td>NaN</td>\n",
       "      <td>True</td>\n",
       "      <td>26088</td>\n",
       "      <td>4</td>\n",
       "      <td>0</td>\n",
       "      <td>...</td>\n",
       "      <td>Linda</td>\n",
       "      <td>Nguyen</td>\n",
       "      <td>Female</td>\n",
       "      <td>Alabama</td>\n",
       "      <td>31</td>\n",
       "      <td>2/17/2019</td>\n",
       "      <td>3</td>\n",
       "      <td>married</td>\n",
       "      <td>40423</td>\n",
       "      <td>both</td>\n",
       "    </tr>\n",
       "    <tr>\n",
       "      <th>4</th>\n",
       "      <td>2539329</td>\n",
       "      <td>1</td>\n",
       "      <td>1</td>\n",
       "      <td>2</td>\n",
       "      <td>8</td>\n",
       "      <td>NaN</td>\n",
       "      <td>True</td>\n",
       "      <td>26405</td>\n",
       "      <td>5</td>\n",
       "      <td>0</td>\n",
       "      <td>...</td>\n",
       "      <td>Linda</td>\n",
       "      <td>Nguyen</td>\n",
       "      <td>Female</td>\n",
       "      <td>Alabama</td>\n",
       "      <td>31</td>\n",
       "      <td>2/17/2019</td>\n",
       "      <td>3</td>\n",
       "      <td>married</td>\n",
       "      <td>40423</td>\n",
       "      <td>both</td>\n",
       "    </tr>\n",
       "  </tbody>\n",
       "</table>\n",
       "<p>5 rows × 33 columns</p>\n",
       "</div>"
      ],
      "text/plain": [
       "   order_id user_id  order_number  orders_day_of_week  order_hour_of_day  \\\n",
       "0   2539329       1             1                   2                  8   \n",
       "1   2539329       1             1                   2                  8   \n",
       "2   2539329       1             1                   2                  8   \n",
       "3   2539329       1             1                   2                  8   \n",
       "4   2539329       1             1                   2                  8   \n",
       "\n",
       "   days_since_prior_order  first_order  product_id  add_to_cart_order  \\\n",
       "0                     NaN         True         196                  1   \n",
       "1                     NaN         True       14084                  2   \n",
       "2                     NaN         True       12427                  3   \n",
       "3                     NaN         True       26088                  4   \n",
       "4                     NaN         True       26405                  5   \n",
       "\n",
       "   reordered  ... first_name  last_name  gender    state age date_joined  \\\n",
       "0          0  ...      Linda     Nguyen  Female  Alabama  31   2/17/2019   \n",
       "1          0  ...      Linda     Nguyen  Female  Alabama  31   2/17/2019   \n",
       "2          0  ...      Linda     Nguyen  Female  Alabama  31   2/17/2019   \n",
       "3          0  ...      Linda     Nguyen  Female  Alabama  31   2/17/2019   \n",
       "4          0  ...      Linda     Nguyen  Female  Alabama  31   2/17/2019   \n",
       "\n",
       "  n_dependents  fam_status income  merge_flag  \n",
       "0            3     married  40423        both  \n",
       "1            3     married  40423        both  \n",
       "2            3     married  40423        both  \n",
       "3            3     married  40423        both  \n",
       "4            3     married  40423        both  \n",
       "\n",
       "[5 rows x 33 columns]"
      ]
     },
     "execution_count": 4,
     "metadata": {},
     "output_type": "execute_result"
    }
   ],
   "source": [
    "# Check import\n",
    "df_merged.head()"
   ]
  },
  {
   "cell_type": "code",
   "execution_count": 5,
   "id": "a62d7d21-675b-4ef8-beca-fa0d0005e16a",
   "metadata": {},
   "outputs": [
    {
     "data": {
      "text/plain": [
       "(32434489, 33)"
      ]
     },
     "execution_count": 5,
     "metadata": {},
     "output_type": "execute_result"
    }
   ],
   "source": [
    "# Check shape\n",
    "df_merged.shape"
   ]
  },
  {
   "cell_type": "code",
   "execution_count": null,
   "id": "93d61229-52b5-4f4d-bc91-0b3cce4160d3",
   "metadata": {},
   "outputs": [],
   "source": []
  },
  {
   "cell_type": "markdown",
   "id": "7aa9d4f1-d9c9-46dd-9021-d9b91b7c70de",
   "metadata": {},
   "source": [
    "Question 2. Consider the security implications that could exist in the data."
   ]
  },
  {
   "cell_type": "markdown",
   "id": "40a9cdcf-c8ef-4bc2-93d8-770ab1546e6a",
   "metadata": {},
   "source": [
    "2. Remove PIIs "
   ]
  },
  {
   "cell_type": "code",
   "execution_count": 6,
   "id": "d5707062-9885-4871-9fcc-e1b2eaf5f8f9",
   "metadata": {},
   "outputs": [
    {
     "data": {
      "text/plain": [
       "Index(['order_id', 'user_id', 'order_number', 'orders_day_of_week',\n",
       "       'order_hour_of_day', 'days_since_prior_order', 'first_order',\n",
       "       'product_id', 'add_to_cart_order', 'reordered', 'product_name',\n",
       "       'aisle_id', 'department_id', 'prices', 'price_range_loc',\n",
       "       'busiest_days', 'busiest_period_of_day', 'max_order', 'loyalty_flag',\n",
       "       'avg_price_per_user', 'spending_flag', 'median_days_per_user',\n",
       "       'order_frequency_flag', 'first_name', 'last_name', 'gender', 'state',\n",
       "       'age', 'date_joined', 'n_dependents', 'fam_status', 'income',\n",
       "       'merge_flag'],\n",
       "      dtype='object')"
      ]
     },
     "execution_count": 6,
     "metadata": {},
     "output_type": "execute_result"
    }
   ],
   "source": [
    "# Check columns\n",
    "df_merged.columns"
   ]
  },
  {
   "cell_type": "markdown",
   "id": "98740ea3-7964-42bf-9790-a49af007c7c5",
   "metadata": {},
   "source": [
    "Before starting the analysis, I will examine the dataframe for any Personally Identifiable Information (PII). These include 'user_id', 'first_name', and 'last_name'. In the real world, I would ask a senior colleague or whoever is in charge of data security. For the assignment I will create a new dataframe (df_merged_anon and drop 'first_name' and 'last_name' columns, as 'user_id' on its own would not personally identify a customer."
   ]
  },
  {
   "cell_type": "code",
   "execution_count": 7,
   "id": "a5757519-563c-4288-861e-bc25a1aad2f1",
   "metadata": {},
   "outputs": [],
   "source": [
    "# Drop 'first_name' and 'last_name' columns \n",
    "df_merged_anon = df_merged.drop(columns=['first_name', 'last_name'])"
   ]
  },
  {
   "cell_type": "code",
   "execution_count": 8,
   "id": "900d2ef6-622d-4397-bb81-d3c54ef913a3",
   "metadata": {},
   "outputs": [
    {
     "name": "stdout",
     "output_type": "stream",
     "text": [
      "<class 'pandas.core.frame.DataFrame'>\n",
      "RangeIndex: 32434489 entries, 0 to 32434488\n",
      "Data columns (total 31 columns):\n",
      " #   Column                  Dtype   \n",
      "---  ------                  -----   \n",
      " 0   order_id                int64   \n",
      " 1   user_id                 object  \n",
      " 2   order_number            int64   \n",
      " 3   orders_day_of_week      int64   \n",
      " 4   order_hour_of_day       int64   \n",
      " 5   days_since_prior_order  float64 \n",
      " 6   first_order             bool    \n",
      " 7   product_id              int64   \n",
      " 8   add_to_cart_order       int64   \n",
      " 9   reordered               int64   \n",
      " 10  product_name            object  \n",
      " 11  aisle_id                float64 \n",
      " 12  department_id           float64 \n",
      " 13  prices                  float64 \n",
      " 14  price_range_loc         object  \n",
      " 15  busiest_days            object  \n",
      " 16  busiest_period_of_day   object  \n",
      " 17  max_order               int64   \n",
      " 18  loyalty_flag            object  \n",
      " 19  avg_price_per_user      float64 \n",
      " 20  spending_flag           object  \n",
      " 21  median_days_per_user    float64 \n",
      " 22  order_frequency_flag    object  \n",
      " 23  gender                  object  \n",
      " 24  state                   object  \n",
      " 25  age                     int64   \n",
      " 26  date_joined             object  \n",
      " 27  n_dependents            int64   \n",
      " 28  fam_status              object  \n",
      " 29  income                  int64   \n",
      " 30  merge_flag              category\n",
      "dtypes: bool(1), category(1), float64(6), int64(11), object(12)\n",
      "memory usage: 7.1+ GB\n"
     ]
    }
   ],
   "source": [
    "# Check output\n",
    "df_merged_anon.info()"
   ]
  },
  {
   "cell_type": "markdown",
   "id": "55373119-99ec-48a9-9472-6c9c03a8f8f9",
   "metadata": {},
   "source": [
    "The new dataframe has 31 columns and customers are no longer identifiable"
   ]
  },
  {
   "cell_type": "code",
   "execution_count": null,
   "id": "e06ad3b5-c037-448d-bbe6-3257233f6952",
   "metadata": {},
   "outputs": [],
   "source": []
  },
  {
   "cell_type": "markdown",
   "id": "6890ceb4-57cb-4e16-8471-e233575286eb",
   "metadata": {},
   "source": [
    "Question 3. The Instacart officers are interested in comparing customer behavior in different geographic areas."
   ]
  },
  {
   "cell_type": "markdown",
   "id": "3afb6728-7077-4330-b344-1aec3bf0be39",
   "metadata": {},
   "source": [
    "3. Create and Implement Regions "
   ]
  },
  {
   "cell_type": "markdown",
   "id": "bf0ad471-efcc-40aa-9c8d-103c28a98c2e",
   "metadata": {},
   "source": [
    "Define Regions"
   ]
  },
  {
   "cell_type": "code",
   "execution_count": 9,
   "id": "34dcfdcd-ddee-41c2-ba96-64e026bf1104",
   "metadata": {},
   "outputs": [],
   "source": [
    "# Define region 1 Northeast\n",
    "northeast = ['Maine', 'New Hampshire', 'Vermont', 'Massachusetts', 'Rhode Island', 'Connecticut', \n",
    "'New York', 'Pennsylvania', 'New Jersey']"
   ]
  },
  {
   "cell_type": "code",
   "execution_count": 10,
   "id": "c7ced016-1fb9-4156-b671-d92f4212c6e3",
   "metadata": {},
   "outputs": [],
   "source": [
    "# Define region 2 Midwest\n",
    "midwest = ['Wisconsin', 'Michigan', 'Illinois', 'Indiana', 'Ohio', 'North Dakota', 'South Dakota',\n",
    "'Nebraska', 'Kansas', 'Minnesota', 'Iowa', 'Missouri']"
   ]
  },
  {
   "cell_type": "code",
   "execution_count": 11,
   "id": "5bf86d73-d03f-49ff-9b14-2a0b3fc8cfc3",
   "metadata": {},
   "outputs": [],
   "source": [
    "# Define region 3 South\n",
    "south = ['Delaware', 'Maryland', 'District of Columbia', 'Virginia','West Virginia', 'North Carolina', \n",
    "'South Carolina', 'Georgia', 'Florida', 'Kentucky', 'Tennessee', 'Mississippi', 'Alabama', 'Oklahoma',\n",
    "'Texas', 'Arkansas', 'Louisiana']"
   ]
  },
  {
   "cell_type": "code",
   "execution_count": 12,
   "id": "5aad270b-2583-4f71-b38e-5a439366c60d",
   "metadata": {},
   "outputs": [],
   "source": [
    "# Define region 4 West\n",
    "west = ['Idaho', 'Montana', 'Wyoming', 'Nevada', 'Utah', 'Colorado', 'Arizona', 'New Mexico', 'Alaska', 'Washington',\n",
    "'Oregon', 'California', 'Hawaii']"
   ]
  },
  {
   "cell_type": "code",
   "execution_count": 13,
   "id": "bc0177e2-ccaa-47ff-abdb-305c169313dc",
   "metadata": {},
   "outputs": [],
   "source": [
    "# Define the region assignment function\n",
    "def assign_region(state):\n",
    "    if state in northeast:\n",
    "        return 'Northeast'\n",
    "    elif state in midwest:\n",
    "        return 'Midwest'\n",
    "    elif state in south:\n",
    "        return 'South'\n",
    "    elif state in west:\n",
    "        return 'West'\n",
    "    else:\n",
    "        return 'Other'\n",
    "        "
   ]
  },
  {
   "cell_type": "code",
   "execution_count": 14,
   "id": "3b290bd3-415d-466f-a19a-4aa28197dc6a",
   "metadata": {},
   "outputs": [],
   "source": [
    "# Create a new column - 'region'\n",
    "df_merged_anon['region'] = df_merged_anon['state'].apply(assign_region)"
   ]
  },
  {
   "cell_type": "code",
   "execution_count": 15,
   "id": "b83e1118-26d1-4661-b913-bc948bd1524b",
   "metadata": {},
   "outputs": [
    {
     "data": {
      "text/html": [
       "<div>\n",
       "<style scoped>\n",
       "    .dataframe tbody tr th:only-of-type {\n",
       "        vertical-align: middle;\n",
       "    }\n",
       "\n",
       "    .dataframe tbody tr th {\n",
       "        vertical-align: top;\n",
       "    }\n",
       "\n",
       "    .dataframe thead th {\n",
       "        text-align: right;\n",
       "    }\n",
       "</style>\n",
       "<table border=\"1\" class=\"dataframe\">\n",
       "  <thead>\n",
       "    <tr style=\"text-align: right;\">\n",
       "      <th></th>\n",
       "      <th>order_id</th>\n",
       "      <th>user_id</th>\n",
       "      <th>order_number</th>\n",
       "      <th>orders_day_of_week</th>\n",
       "      <th>order_hour_of_day</th>\n",
       "      <th>days_since_prior_order</th>\n",
       "      <th>first_order</th>\n",
       "      <th>product_id</th>\n",
       "      <th>add_to_cart_order</th>\n",
       "      <th>reordered</th>\n",
       "      <th>...</th>\n",
       "      <th>order_frequency_flag</th>\n",
       "      <th>gender</th>\n",
       "      <th>state</th>\n",
       "      <th>age</th>\n",
       "      <th>date_joined</th>\n",
       "      <th>n_dependents</th>\n",
       "      <th>fam_status</th>\n",
       "      <th>income</th>\n",
       "      <th>merge_flag</th>\n",
       "      <th>region</th>\n",
       "    </tr>\n",
       "  </thead>\n",
       "  <tbody>\n",
       "    <tr>\n",
       "      <th>0</th>\n",
       "      <td>2539329</td>\n",
       "      <td>1</td>\n",
       "      <td>1</td>\n",
       "      <td>2</td>\n",
       "      <td>8</td>\n",
       "      <td>NaN</td>\n",
       "      <td>True</td>\n",
       "      <td>196</td>\n",
       "      <td>1</td>\n",
       "      <td>0</td>\n",
       "      <td>...</td>\n",
       "      <td>Non-frequent customer</td>\n",
       "      <td>Female</td>\n",
       "      <td>Alabama</td>\n",
       "      <td>31</td>\n",
       "      <td>2/17/2019</td>\n",
       "      <td>3</td>\n",
       "      <td>married</td>\n",
       "      <td>40423</td>\n",
       "      <td>both</td>\n",
       "      <td>South</td>\n",
       "    </tr>\n",
       "    <tr>\n",
       "      <th>1</th>\n",
       "      <td>2539329</td>\n",
       "      <td>1</td>\n",
       "      <td>1</td>\n",
       "      <td>2</td>\n",
       "      <td>8</td>\n",
       "      <td>NaN</td>\n",
       "      <td>True</td>\n",
       "      <td>14084</td>\n",
       "      <td>2</td>\n",
       "      <td>0</td>\n",
       "      <td>...</td>\n",
       "      <td>Non-frequent customer</td>\n",
       "      <td>Female</td>\n",
       "      <td>Alabama</td>\n",
       "      <td>31</td>\n",
       "      <td>2/17/2019</td>\n",
       "      <td>3</td>\n",
       "      <td>married</td>\n",
       "      <td>40423</td>\n",
       "      <td>both</td>\n",
       "      <td>South</td>\n",
       "    </tr>\n",
       "    <tr>\n",
       "      <th>2</th>\n",
       "      <td>2539329</td>\n",
       "      <td>1</td>\n",
       "      <td>1</td>\n",
       "      <td>2</td>\n",
       "      <td>8</td>\n",
       "      <td>NaN</td>\n",
       "      <td>True</td>\n",
       "      <td>12427</td>\n",
       "      <td>3</td>\n",
       "      <td>0</td>\n",
       "      <td>...</td>\n",
       "      <td>Non-frequent customer</td>\n",
       "      <td>Female</td>\n",
       "      <td>Alabama</td>\n",
       "      <td>31</td>\n",
       "      <td>2/17/2019</td>\n",
       "      <td>3</td>\n",
       "      <td>married</td>\n",
       "      <td>40423</td>\n",
       "      <td>both</td>\n",
       "      <td>South</td>\n",
       "    </tr>\n",
       "    <tr>\n",
       "      <th>3</th>\n",
       "      <td>2539329</td>\n",
       "      <td>1</td>\n",
       "      <td>1</td>\n",
       "      <td>2</td>\n",
       "      <td>8</td>\n",
       "      <td>NaN</td>\n",
       "      <td>True</td>\n",
       "      <td>26088</td>\n",
       "      <td>4</td>\n",
       "      <td>0</td>\n",
       "      <td>...</td>\n",
       "      <td>Non-frequent customer</td>\n",
       "      <td>Female</td>\n",
       "      <td>Alabama</td>\n",
       "      <td>31</td>\n",
       "      <td>2/17/2019</td>\n",
       "      <td>3</td>\n",
       "      <td>married</td>\n",
       "      <td>40423</td>\n",
       "      <td>both</td>\n",
       "      <td>South</td>\n",
       "    </tr>\n",
       "    <tr>\n",
       "      <th>4</th>\n",
       "      <td>2539329</td>\n",
       "      <td>1</td>\n",
       "      <td>1</td>\n",
       "      <td>2</td>\n",
       "      <td>8</td>\n",
       "      <td>NaN</td>\n",
       "      <td>True</td>\n",
       "      <td>26405</td>\n",
       "      <td>5</td>\n",
       "      <td>0</td>\n",
       "      <td>...</td>\n",
       "      <td>Non-frequent customer</td>\n",
       "      <td>Female</td>\n",
       "      <td>Alabama</td>\n",
       "      <td>31</td>\n",
       "      <td>2/17/2019</td>\n",
       "      <td>3</td>\n",
       "      <td>married</td>\n",
       "      <td>40423</td>\n",
       "      <td>both</td>\n",
       "      <td>South</td>\n",
       "    </tr>\n",
       "  </tbody>\n",
       "</table>\n",
       "<p>5 rows × 32 columns</p>\n",
       "</div>"
      ],
      "text/plain": [
       "   order_id user_id  order_number  orders_day_of_week  order_hour_of_day  \\\n",
       "0   2539329       1             1                   2                  8   \n",
       "1   2539329       1             1                   2                  8   \n",
       "2   2539329       1             1                   2                  8   \n",
       "3   2539329       1             1                   2                  8   \n",
       "4   2539329       1             1                   2                  8   \n",
       "\n",
       "   days_since_prior_order  first_order  product_id  add_to_cart_order  \\\n",
       "0                     NaN         True         196                  1   \n",
       "1                     NaN         True       14084                  2   \n",
       "2                     NaN         True       12427                  3   \n",
       "3                     NaN         True       26088                  4   \n",
       "4                     NaN         True       26405                  5   \n",
       "\n",
       "   reordered  ...   order_frequency_flag  gender    state  age date_joined  \\\n",
       "0          0  ...  Non-frequent customer  Female  Alabama   31   2/17/2019   \n",
       "1          0  ...  Non-frequent customer  Female  Alabama   31   2/17/2019   \n",
       "2          0  ...  Non-frequent customer  Female  Alabama   31   2/17/2019   \n",
       "3          0  ...  Non-frequent customer  Female  Alabama   31   2/17/2019   \n",
       "4          0  ...  Non-frequent customer  Female  Alabama   31   2/17/2019   \n",
       "\n",
       "  n_dependents fam_status  income merge_flag  region  \n",
       "0            3    married   40423       both   South  \n",
       "1            3    married   40423       both   South  \n",
       "2            3    married   40423       both   South  \n",
       "3            3    married   40423       both   South  \n",
       "4            3    married   40423       both   South  \n",
       "\n",
       "[5 rows x 32 columns]"
      ]
     },
     "execution_count": 15,
     "metadata": {},
     "output_type": "execute_result"
    }
   ],
   "source": [
    "# Check output\n",
    "df_merged_anon.head()"
   ]
  },
  {
   "cell_type": "code",
   "execution_count": 16,
   "id": "ff7d3036-d5c8-4559-9063-7d435ba39c40",
   "metadata": {},
   "outputs": [
    {
     "data": {
      "text/plain": [
       "region\n",
       "South        10801796\n",
       "West          8300481\n",
       "Midwest       7603861\n",
       "Northeast     5728351\n",
       "Name: count, dtype: int64"
      ]
     },
     "execution_count": 16,
     "metadata": {},
     "output_type": "execute_result"
    }
   ],
   "source": [
    "# Check how many rows in 'region' column\n",
    "df_merged_anon['region'].value_counts()"
   ]
  },
  {
   "cell_type": "code",
   "execution_count": 17,
   "id": "4e77fcbc-f96e-48d4-ab1f-ac7d785eb315",
   "metadata": {},
   "outputs": [
    {
     "data": {
      "text/plain": [
       "32434489"
      ]
     },
     "execution_count": 17,
     "metadata": {},
     "output_type": "execute_result"
    }
   ],
   "source": [
    "# Check does it total the number of rows in dataframe\n",
    "df_merged_anon['region'].value_counts().sum()"
   ]
  },
  {
   "cell_type": "markdown",
   "id": "6f8f1744-b6c3-4dd0-a922-52cd456ae362",
   "metadata": {},
   "source": [
    "Determine whether there’s a difference in spending habits between the different U.S. regions. (Hint: You can do this by crossing the variable you just created with the spending flag.)"
   ]
  },
  {
   "cell_type": "code",
   "execution_count": 18,
   "id": "25b63c53-24fe-4e65-bc9e-3ae347f512dd",
   "metadata": {},
   "outputs": [
    {
     "data": {
      "text/html": [
       "<div>\n",
       "<style scoped>\n",
       "    .dataframe tbody tr th:only-of-type {\n",
       "        vertical-align: middle;\n",
       "    }\n",
       "\n",
       "    .dataframe tbody tr th {\n",
       "        vertical-align: top;\n",
       "    }\n",
       "\n",
       "    .dataframe thead th {\n",
       "        text-align: right;\n",
       "    }\n",
       "</style>\n",
       "<table border=\"1\" class=\"dataframe\">\n",
       "  <thead>\n",
       "    <tr style=\"text-align: right;\">\n",
       "      <th>spending_flag</th>\n",
       "      <th>High spender</th>\n",
       "      <th>Low spender</th>\n",
       "    </tr>\n",
       "    <tr>\n",
       "      <th>region</th>\n",
       "      <th></th>\n",
       "      <th></th>\n",
       "    </tr>\n",
       "  </thead>\n",
       "  <tbody>\n",
       "    <tr>\n",
       "      <th>Midwest</th>\n",
       "      <td>29298</td>\n",
       "      <td>7574563</td>\n",
       "    </tr>\n",
       "    <tr>\n",
       "      <th>Northeast</th>\n",
       "      <td>18662</td>\n",
       "      <td>5709689</td>\n",
       "    </tr>\n",
       "    <tr>\n",
       "      <th>South</th>\n",
       "      <td>40643</td>\n",
       "      <td>10761153</td>\n",
       "    </tr>\n",
       "    <tr>\n",
       "      <th>West</th>\n",
       "      <td>31256</td>\n",
       "      <td>8269225</td>\n",
       "    </tr>\n",
       "  </tbody>\n",
       "</table>\n",
       "</div>"
      ],
      "text/plain": [
       "spending_flag  High spender  Low spender\n",
       "region                                  \n",
       "Midwest               29298      7574563\n",
       "Northeast             18662      5709689\n",
       "South                 40643     10761153\n",
       "West                  31256      8269225"
      ]
     },
     "execution_count": 18,
     "metadata": {},
     "output_type": "execute_result"
    }
   ],
   "source": [
    "# Check spending habits across regions\n",
    "pd.crosstab(df_merged_anon['region'], df_merged_anon['spending_flag'])"
   ]
  },
  {
   "cell_type": "markdown",
   "id": "28bc1e0a-6166-48a3-b6c3-8d3dc1ebb6a7",
   "metadata": {},
   "source": [
    "The vast majority of customers in all regions were classified as low spenders. The South had the largest number of total customers overall, and also the highest absolute number of high spenders (40,643), followed by the West (31,256). However, when looking proportionally, the share of high spenders across regions is very similar — around 0.33–0.39% of each region’s customers fall into this category. This suggests that spending habits are relatively consistent across U.S. regions, with no significant geographic bias in high or low spending behaviour."
   ]
  },
  {
   "cell_type": "code",
   "execution_count": null,
   "id": "af5c3945-25cd-40bf-9e6c-ba57e45dd2e6",
   "metadata": {},
   "outputs": [],
   "source": []
  },
  {
   "cell_type": "markdown",
   "id": "7b9a44ea-ee4a-4686-bf44-dfbb7d4cf182",
   "metadata": {},
   "source": [
    "Question 4. The Instacart CFO isn’t interested in customers who don’t generate much revenue for the app. Create an exclusion flag for low-activity customers (customers with less than 5 orders) and exclude them from the data. Make sure you export this sample."
   ]
  },
  {
   "cell_type": "markdown",
   "id": "85f709aa-d687-40bc-8b62-2a485e2e5435",
   "metadata": {},
   "source": [
    "4. Create an Exclusion Flag for Low Activity Customers"
   ]
  },
  {
   "cell_type": "code",
   "execution_count": 19,
   "id": "e04dc7fb-4d44-4785-b095-e2e9fe2571e3",
   "metadata": {},
   "outputs": [],
   "source": [
    "# Group orders by 'user_id'\n",
    "customer_order_counts = df_merged_anon.groupby('user_id')['order_number'].nunique()"
   ]
  },
  {
   "cell_type": "code",
   "execution_count": 20,
   "id": "28a4db21-0c86-42a0-9e1a-7a75e65def24",
   "metadata": {},
   "outputs": [],
   "source": [
    "# Create a flag column\n",
    "customer_flags = customer_order_counts.to_frame(name='total_orders')"
   ]
  },
  {
   "cell_type": "code",
   "execution_count": 21,
   "id": "98f82dd3-c485-4cab-8203-2672c0e439c7",
   "metadata": {},
   "outputs": [],
   "source": [
    "# Customers with less than 5 orders\n",
    "customer_flags['exclusion_flag'] = customer_flags['total_orders'] < 5"
   ]
  },
  {
   "cell_type": "code",
   "execution_count": 22,
   "id": "f3ed9ea4-5f62-43eb-953d-8ced2de0edd2",
   "metadata": {},
   "outputs": [],
   "source": [
    "# Merge flag into dataframe\n",
    "df_merged_anon = df_merged_anon.merge(customer_flags[['exclusion_flag']], on='user_id', how='left')"
   ]
  },
  {
   "cell_type": "code",
   "execution_count": 23,
   "id": "a7a93c13-9e9e-4491-94ea-a470810cb6ba",
   "metadata": {},
   "outputs": [
    {
     "data": {
      "text/html": [
       "<div>\n",
       "<style scoped>\n",
       "    .dataframe tbody tr th:only-of-type {\n",
       "        vertical-align: middle;\n",
       "    }\n",
       "\n",
       "    .dataframe tbody tr th {\n",
       "        vertical-align: top;\n",
       "    }\n",
       "\n",
       "    .dataframe thead th {\n",
       "        text-align: right;\n",
       "    }\n",
       "</style>\n",
       "<table border=\"1\" class=\"dataframe\">\n",
       "  <thead>\n",
       "    <tr style=\"text-align: right;\">\n",
       "      <th></th>\n",
       "      <th>order_id</th>\n",
       "      <th>user_id</th>\n",
       "      <th>order_number</th>\n",
       "      <th>orders_day_of_week</th>\n",
       "      <th>order_hour_of_day</th>\n",
       "      <th>days_since_prior_order</th>\n",
       "      <th>first_order</th>\n",
       "      <th>product_id</th>\n",
       "      <th>add_to_cart_order</th>\n",
       "      <th>reordered</th>\n",
       "      <th>...</th>\n",
       "      <th>gender</th>\n",
       "      <th>state</th>\n",
       "      <th>age</th>\n",
       "      <th>date_joined</th>\n",
       "      <th>n_dependents</th>\n",
       "      <th>fam_status</th>\n",
       "      <th>income</th>\n",
       "      <th>merge_flag</th>\n",
       "      <th>region</th>\n",
       "      <th>exclusion_flag</th>\n",
       "    </tr>\n",
       "  </thead>\n",
       "  <tbody>\n",
       "    <tr>\n",
       "      <th>0</th>\n",
       "      <td>2539329</td>\n",
       "      <td>1</td>\n",
       "      <td>1</td>\n",
       "      <td>2</td>\n",
       "      <td>8</td>\n",
       "      <td>NaN</td>\n",
       "      <td>True</td>\n",
       "      <td>196</td>\n",
       "      <td>1</td>\n",
       "      <td>0</td>\n",
       "      <td>...</td>\n",
       "      <td>Female</td>\n",
       "      <td>Alabama</td>\n",
       "      <td>31</td>\n",
       "      <td>2/17/2019</td>\n",
       "      <td>3</td>\n",
       "      <td>married</td>\n",
       "      <td>40423</td>\n",
       "      <td>both</td>\n",
       "      <td>South</td>\n",
       "      <td>False</td>\n",
       "    </tr>\n",
       "    <tr>\n",
       "      <th>1</th>\n",
       "      <td>2539329</td>\n",
       "      <td>1</td>\n",
       "      <td>1</td>\n",
       "      <td>2</td>\n",
       "      <td>8</td>\n",
       "      <td>NaN</td>\n",
       "      <td>True</td>\n",
       "      <td>14084</td>\n",
       "      <td>2</td>\n",
       "      <td>0</td>\n",
       "      <td>...</td>\n",
       "      <td>Female</td>\n",
       "      <td>Alabama</td>\n",
       "      <td>31</td>\n",
       "      <td>2/17/2019</td>\n",
       "      <td>3</td>\n",
       "      <td>married</td>\n",
       "      <td>40423</td>\n",
       "      <td>both</td>\n",
       "      <td>South</td>\n",
       "      <td>False</td>\n",
       "    </tr>\n",
       "    <tr>\n",
       "      <th>2</th>\n",
       "      <td>2539329</td>\n",
       "      <td>1</td>\n",
       "      <td>1</td>\n",
       "      <td>2</td>\n",
       "      <td>8</td>\n",
       "      <td>NaN</td>\n",
       "      <td>True</td>\n",
       "      <td>12427</td>\n",
       "      <td>3</td>\n",
       "      <td>0</td>\n",
       "      <td>...</td>\n",
       "      <td>Female</td>\n",
       "      <td>Alabama</td>\n",
       "      <td>31</td>\n",
       "      <td>2/17/2019</td>\n",
       "      <td>3</td>\n",
       "      <td>married</td>\n",
       "      <td>40423</td>\n",
       "      <td>both</td>\n",
       "      <td>South</td>\n",
       "      <td>False</td>\n",
       "    </tr>\n",
       "    <tr>\n",
       "      <th>3</th>\n",
       "      <td>2539329</td>\n",
       "      <td>1</td>\n",
       "      <td>1</td>\n",
       "      <td>2</td>\n",
       "      <td>8</td>\n",
       "      <td>NaN</td>\n",
       "      <td>True</td>\n",
       "      <td>26088</td>\n",
       "      <td>4</td>\n",
       "      <td>0</td>\n",
       "      <td>...</td>\n",
       "      <td>Female</td>\n",
       "      <td>Alabama</td>\n",
       "      <td>31</td>\n",
       "      <td>2/17/2019</td>\n",
       "      <td>3</td>\n",
       "      <td>married</td>\n",
       "      <td>40423</td>\n",
       "      <td>both</td>\n",
       "      <td>South</td>\n",
       "      <td>False</td>\n",
       "    </tr>\n",
       "    <tr>\n",
       "      <th>4</th>\n",
       "      <td>2539329</td>\n",
       "      <td>1</td>\n",
       "      <td>1</td>\n",
       "      <td>2</td>\n",
       "      <td>8</td>\n",
       "      <td>NaN</td>\n",
       "      <td>True</td>\n",
       "      <td>26405</td>\n",
       "      <td>5</td>\n",
       "      <td>0</td>\n",
       "      <td>...</td>\n",
       "      <td>Female</td>\n",
       "      <td>Alabama</td>\n",
       "      <td>31</td>\n",
       "      <td>2/17/2019</td>\n",
       "      <td>3</td>\n",
       "      <td>married</td>\n",
       "      <td>40423</td>\n",
       "      <td>both</td>\n",
       "      <td>South</td>\n",
       "      <td>False</td>\n",
       "    </tr>\n",
       "  </tbody>\n",
       "</table>\n",
       "<p>5 rows × 33 columns</p>\n",
       "</div>"
      ],
      "text/plain": [
       "   order_id user_id  order_number  orders_day_of_week  order_hour_of_day  \\\n",
       "0   2539329       1             1                   2                  8   \n",
       "1   2539329       1             1                   2                  8   \n",
       "2   2539329       1             1                   2                  8   \n",
       "3   2539329       1             1                   2                  8   \n",
       "4   2539329       1             1                   2                  8   \n",
       "\n",
       "   days_since_prior_order  first_order  product_id  add_to_cart_order  \\\n",
       "0                     NaN         True         196                  1   \n",
       "1                     NaN         True       14084                  2   \n",
       "2                     NaN         True       12427                  3   \n",
       "3                     NaN         True       26088                  4   \n",
       "4                     NaN         True       26405                  5   \n",
       "\n",
       "   reordered  ...  gender    state  age  date_joined n_dependents fam_status  \\\n",
       "0          0  ...  Female  Alabama   31    2/17/2019            3    married   \n",
       "1          0  ...  Female  Alabama   31    2/17/2019            3    married   \n",
       "2          0  ...  Female  Alabama   31    2/17/2019            3    married   \n",
       "3          0  ...  Female  Alabama   31    2/17/2019            3    married   \n",
       "4          0  ...  Female  Alabama   31    2/17/2019            3    married   \n",
       "\n",
       "  income  merge_flag region  exclusion_flag  \n",
       "0  40423        both  South           False  \n",
       "1  40423        both  South           False  \n",
       "2  40423        both  South           False  \n",
       "3  40423        both  South           False  \n",
       "4  40423        both  South           False  \n",
       "\n",
       "[5 rows x 33 columns]"
      ]
     },
     "execution_count": 23,
     "metadata": {},
     "output_type": "execute_result"
    }
   ],
   "source": [
    "# Check merge\n",
    "df_merged_anon.head()"
   ]
  },
  {
   "cell_type": "code",
   "execution_count": 24,
   "id": "25794839-f381-4455-a813-ac5d09cf0be3",
   "metadata": {
    "scrolled": true
   },
   "outputs": [
    {
     "data": {
      "text/plain": [
       "(32434489, 33)"
      ]
     },
     "execution_count": 24,
     "metadata": {},
     "output_type": "execute_result"
    }
   ],
   "source": [
    "# Check shape\n",
    "df_merged_anon.shape"
   ]
  },
  {
   "cell_type": "code",
   "execution_count": 25,
   "id": "a9f8d67b-d74d-4877-b474-f56447a169cb",
   "metadata": {},
   "outputs": [
    {
     "data": {
      "text/plain": [
       "exclusion_flag\n",
       "False    30992966\n",
       "True      1441523\n",
       "Name: count, dtype: int64"
      ]
     },
     "execution_count": 25,
     "metadata": {},
     "output_type": "execute_result"
    }
   ],
   "source": [
    "# Check how many false and how many true\n",
    "df_merged_anon['exclusion_flag'].value_counts()"
   ]
  },
  {
   "cell_type": "markdown",
   "id": "a3bab51e-a759-40a0-95ce-920673d5b32f",
   "metadata": {},
   "source": [
    "5. Create New Dataframe with High Activity Customers"
   ]
  },
  {
   "cell_type": "code",
   "execution_count": 26,
   "id": "1103cdec-fe16-4045-93b0-7c14434eb21d",
   "metadata": {},
   "outputs": [],
   "source": [
    "# Create dataframe without low activity customers\n",
    "df_excluded = df_merged_anon[df_merged_anon['exclusion_flag'] == False].copy()"
   ]
  },
  {
   "cell_type": "code",
   "execution_count": 27,
   "id": "ab14c1f4-6211-4358-952d-29a61ca679ba",
   "metadata": {},
   "outputs": [
    {
     "data": {
      "text/plain": [
       "exclusion_flag\n",
       "False    30992966\n",
       "Name: count, dtype: int64"
      ]
     },
     "execution_count": 27,
     "metadata": {},
     "output_type": "execute_result"
    }
   ],
   "source": [
    "# Check counts\n",
    "df_excluded['exclusion_flag'].value_counts()"
   ]
  },
  {
   "cell_type": "markdown",
   "id": "e987312d-29bf-4955-b2a1-c571be58266c",
   "metadata": {},
   "source": [
    "As there are no True(s) in the dataframe, this shows that it contains only high activity customers as per the CFO#s request"
   ]
  },
  {
   "cell_type": "code",
   "execution_count": 28,
   "id": "4cd33b67-c47b-4202-a856-91f4678bd139",
   "metadata": {},
   "outputs": [
    {
     "data": {
      "text/html": [
       "<div>\n",
       "<style scoped>\n",
       "    .dataframe tbody tr th:only-of-type {\n",
       "        vertical-align: middle;\n",
       "    }\n",
       "\n",
       "    .dataframe tbody tr th {\n",
       "        vertical-align: top;\n",
       "    }\n",
       "\n",
       "    .dataframe thead th {\n",
       "        text-align: right;\n",
       "    }\n",
       "</style>\n",
       "<table border=\"1\" class=\"dataframe\">\n",
       "  <thead>\n",
       "    <tr style=\"text-align: right;\">\n",
       "      <th></th>\n",
       "      <th>order_id</th>\n",
       "      <th>user_id</th>\n",
       "      <th>order_number</th>\n",
       "      <th>orders_day_of_week</th>\n",
       "      <th>order_hour_of_day</th>\n",
       "      <th>days_since_prior_order</th>\n",
       "      <th>first_order</th>\n",
       "      <th>product_id</th>\n",
       "      <th>add_to_cart_order</th>\n",
       "      <th>reordered</th>\n",
       "      <th>...</th>\n",
       "      <th>gender</th>\n",
       "      <th>state</th>\n",
       "      <th>age</th>\n",
       "      <th>date_joined</th>\n",
       "      <th>n_dependents</th>\n",
       "      <th>fam_status</th>\n",
       "      <th>income</th>\n",
       "      <th>merge_flag</th>\n",
       "      <th>region</th>\n",
       "      <th>exclusion_flag</th>\n",
       "    </tr>\n",
       "  </thead>\n",
       "  <tbody>\n",
       "    <tr>\n",
       "      <th>0</th>\n",
       "      <td>2539329</td>\n",
       "      <td>1</td>\n",
       "      <td>1</td>\n",
       "      <td>2</td>\n",
       "      <td>8</td>\n",
       "      <td>NaN</td>\n",
       "      <td>True</td>\n",
       "      <td>196</td>\n",
       "      <td>1</td>\n",
       "      <td>0</td>\n",
       "      <td>...</td>\n",
       "      <td>Female</td>\n",
       "      <td>Alabama</td>\n",
       "      <td>31</td>\n",
       "      <td>2/17/2019</td>\n",
       "      <td>3</td>\n",
       "      <td>married</td>\n",
       "      <td>40423</td>\n",
       "      <td>both</td>\n",
       "      <td>South</td>\n",
       "      <td>False</td>\n",
       "    </tr>\n",
       "    <tr>\n",
       "      <th>1</th>\n",
       "      <td>2539329</td>\n",
       "      <td>1</td>\n",
       "      <td>1</td>\n",
       "      <td>2</td>\n",
       "      <td>8</td>\n",
       "      <td>NaN</td>\n",
       "      <td>True</td>\n",
       "      <td>14084</td>\n",
       "      <td>2</td>\n",
       "      <td>0</td>\n",
       "      <td>...</td>\n",
       "      <td>Female</td>\n",
       "      <td>Alabama</td>\n",
       "      <td>31</td>\n",
       "      <td>2/17/2019</td>\n",
       "      <td>3</td>\n",
       "      <td>married</td>\n",
       "      <td>40423</td>\n",
       "      <td>both</td>\n",
       "      <td>South</td>\n",
       "      <td>False</td>\n",
       "    </tr>\n",
       "    <tr>\n",
       "      <th>2</th>\n",
       "      <td>2539329</td>\n",
       "      <td>1</td>\n",
       "      <td>1</td>\n",
       "      <td>2</td>\n",
       "      <td>8</td>\n",
       "      <td>NaN</td>\n",
       "      <td>True</td>\n",
       "      <td>12427</td>\n",
       "      <td>3</td>\n",
       "      <td>0</td>\n",
       "      <td>...</td>\n",
       "      <td>Female</td>\n",
       "      <td>Alabama</td>\n",
       "      <td>31</td>\n",
       "      <td>2/17/2019</td>\n",
       "      <td>3</td>\n",
       "      <td>married</td>\n",
       "      <td>40423</td>\n",
       "      <td>both</td>\n",
       "      <td>South</td>\n",
       "      <td>False</td>\n",
       "    </tr>\n",
       "    <tr>\n",
       "      <th>3</th>\n",
       "      <td>2539329</td>\n",
       "      <td>1</td>\n",
       "      <td>1</td>\n",
       "      <td>2</td>\n",
       "      <td>8</td>\n",
       "      <td>NaN</td>\n",
       "      <td>True</td>\n",
       "      <td>26088</td>\n",
       "      <td>4</td>\n",
       "      <td>0</td>\n",
       "      <td>...</td>\n",
       "      <td>Female</td>\n",
       "      <td>Alabama</td>\n",
       "      <td>31</td>\n",
       "      <td>2/17/2019</td>\n",
       "      <td>3</td>\n",
       "      <td>married</td>\n",
       "      <td>40423</td>\n",
       "      <td>both</td>\n",
       "      <td>South</td>\n",
       "      <td>False</td>\n",
       "    </tr>\n",
       "    <tr>\n",
       "      <th>4</th>\n",
       "      <td>2539329</td>\n",
       "      <td>1</td>\n",
       "      <td>1</td>\n",
       "      <td>2</td>\n",
       "      <td>8</td>\n",
       "      <td>NaN</td>\n",
       "      <td>True</td>\n",
       "      <td>26405</td>\n",
       "      <td>5</td>\n",
       "      <td>0</td>\n",
       "      <td>...</td>\n",
       "      <td>Female</td>\n",
       "      <td>Alabama</td>\n",
       "      <td>31</td>\n",
       "      <td>2/17/2019</td>\n",
       "      <td>3</td>\n",
       "      <td>married</td>\n",
       "      <td>40423</td>\n",
       "      <td>both</td>\n",
       "      <td>South</td>\n",
       "      <td>False</td>\n",
       "    </tr>\n",
       "  </tbody>\n",
       "</table>\n",
       "<p>5 rows × 33 columns</p>\n",
       "</div>"
      ],
      "text/plain": [
       "   order_id user_id  order_number  orders_day_of_week  order_hour_of_day  \\\n",
       "0   2539329       1             1                   2                  8   \n",
       "1   2539329       1             1                   2                  8   \n",
       "2   2539329       1             1                   2                  8   \n",
       "3   2539329       1             1                   2                  8   \n",
       "4   2539329       1             1                   2                  8   \n",
       "\n",
       "   days_since_prior_order  first_order  product_id  add_to_cart_order  \\\n",
       "0                     NaN         True         196                  1   \n",
       "1                     NaN         True       14084                  2   \n",
       "2                     NaN         True       12427                  3   \n",
       "3                     NaN         True       26088                  4   \n",
       "4                     NaN         True       26405                  5   \n",
       "\n",
       "   reordered  ...  gender    state  age  date_joined n_dependents fam_status  \\\n",
       "0          0  ...  Female  Alabama   31    2/17/2019            3    married   \n",
       "1          0  ...  Female  Alabama   31    2/17/2019            3    married   \n",
       "2          0  ...  Female  Alabama   31    2/17/2019            3    married   \n",
       "3          0  ...  Female  Alabama   31    2/17/2019            3    married   \n",
       "4          0  ...  Female  Alabama   31    2/17/2019            3    married   \n",
       "\n",
       "  income  merge_flag region  exclusion_flag  \n",
       "0  40423        both  South           False  \n",
       "1  40423        both  South           False  \n",
       "2  40423        both  South           False  \n",
       "3  40423        both  South           False  \n",
       "4  40423        both  South           False  \n",
       "\n",
       "[5 rows x 33 columns]"
      ]
     },
     "execution_count": 28,
     "metadata": {},
     "output_type": "execute_result"
    }
   ],
   "source": [
    "# Check dataframe\n",
    "df_excluded.head()"
   ]
  },
  {
   "cell_type": "code",
   "execution_count": 29,
   "id": "a3c814c2-f1d3-4d78-ac2b-c27c632fa0d3",
   "metadata": {},
   "outputs": [
    {
     "data": {
      "text/plain": [
       "(30992966, 33)"
      ]
     },
     "execution_count": 29,
     "metadata": {},
     "output_type": "execute_result"
    }
   ],
   "source": [
    "df_excluded.shape"
   ]
  },
  {
   "cell_type": "markdown",
   "id": "af4428f5-22c6-4f27-be75-93b989ec56d7",
   "metadata": {},
   "source": [
    "The new dataframe now contains the 30992966 rows of high activity customers. Note to self: This dataframe is anon with regions and high activity customers"
   ]
  },
  {
   "cell_type": "markdown",
   "id": "8ff6569f-9fc1-404b-bd2e-66e43ffae937",
   "metadata": {},
   "source": [
    "6. Export high activity customers daraframe"
   ]
  },
  {
   "cell_type": "code",
   "execution_count": 30,
   "id": "84f2a233-2210-4095-abf9-d9be12e619b0",
   "metadata": {},
   "outputs": [],
   "source": [
    "# Export high activity customers dataframe \n",
    "df_excluded.to_pickle(os.path.join(path, '02 Data', 'Prepared Data', 'high_activity_customers.pkl'))"
   ]
  },
  {
   "cell_type": "code",
   "execution_count": null,
   "id": "1f79d80d-f52e-4bdb-84fe-09fe59865fab",
   "metadata": {},
   "outputs": [],
   "source": []
  },
  {
   "cell_type": "markdown",
   "id": "0e2e01a7-018e-4af5-9001-1478cbef69bc",
   "metadata": {},
   "source": [
    "Question 5. The marketing and business strategy units at Instacart want to create more-relevant marketing strategies for different products and are, thus, curious about customer profiling in their database. Create a profiling variable based on age, income, certain goods in the “department_id” column, and number of dependents. You might also use the “orders_day_of_week” and “order_hour_of_day” columns if you can think of a way they would impact customer profiles. (Hint: As an example, try thinking of what characteristics would lead you to the profile “Single adult” or “Young parent.”)"
   ]
  },
  {
   "cell_type": "markdown",
   "id": "d9d4b496-2764-42d2-9207-256bc26f56bd",
   "metadata": {},
   "source": [
    "To keep track of dataframes and what they conatin, I will change df_excluded to df_anon_high. I am now working with this dataframe for the rest of this task."
   ]
  },
  {
   "cell_type": "code",
   "execution_count": 31,
   "id": "adbadbd1-814e-40e3-b938-7bd41081bad0",
   "metadata": {},
   "outputs": [],
   "source": [
    "df_anon_high = df_excluded"
   ]
  },
  {
   "cell_type": "code",
   "execution_count": 32,
   "id": "1ec644bc-2783-44f5-9e6d-28cbfeba3dbf",
   "metadata": {},
   "outputs": [
    {
     "data": {
      "text/html": [
       "<div>\n",
       "<style scoped>\n",
       "    .dataframe tbody tr th:only-of-type {\n",
       "        vertical-align: middle;\n",
       "    }\n",
       "\n",
       "    .dataframe tbody tr th {\n",
       "        vertical-align: top;\n",
       "    }\n",
       "\n",
       "    .dataframe thead th {\n",
       "        text-align: right;\n",
       "    }\n",
       "</style>\n",
       "<table border=\"1\" class=\"dataframe\">\n",
       "  <thead>\n",
       "    <tr style=\"text-align: right;\">\n",
       "      <th></th>\n",
       "      <th>order_id</th>\n",
       "      <th>user_id</th>\n",
       "      <th>order_number</th>\n",
       "      <th>orders_day_of_week</th>\n",
       "      <th>order_hour_of_day</th>\n",
       "      <th>days_since_prior_order</th>\n",
       "      <th>first_order</th>\n",
       "      <th>product_id</th>\n",
       "      <th>add_to_cart_order</th>\n",
       "      <th>reordered</th>\n",
       "      <th>...</th>\n",
       "      <th>gender</th>\n",
       "      <th>state</th>\n",
       "      <th>age</th>\n",
       "      <th>date_joined</th>\n",
       "      <th>n_dependents</th>\n",
       "      <th>fam_status</th>\n",
       "      <th>income</th>\n",
       "      <th>merge_flag</th>\n",
       "      <th>region</th>\n",
       "      <th>exclusion_flag</th>\n",
       "    </tr>\n",
       "  </thead>\n",
       "  <tbody>\n",
       "    <tr>\n",
       "      <th>0</th>\n",
       "      <td>2539329</td>\n",
       "      <td>1</td>\n",
       "      <td>1</td>\n",
       "      <td>2</td>\n",
       "      <td>8</td>\n",
       "      <td>NaN</td>\n",
       "      <td>True</td>\n",
       "      <td>196</td>\n",
       "      <td>1</td>\n",
       "      <td>0</td>\n",
       "      <td>...</td>\n",
       "      <td>Female</td>\n",
       "      <td>Alabama</td>\n",
       "      <td>31</td>\n",
       "      <td>2/17/2019</td>\n",
       "      <td>3</td>\n",
       "      <td>married</td>\n",
       "      <td>40423</td>\n",
       "      <td>both</td>\n",
       "      <td>South</td>\n",
       "      <td>False</td>\n",
       "    </tr>\n",
       "    <tr>\n",
       "      <th>1</th>\n",
       "      <td>2539329</td>\n",
       "      <td>1</td>\n",
       "      <td>1</td>\n",
       "      <td>2</td>\n",
       "      <td>8</td>\n",
       "      <td>NaN</td>\n",
       "      <td>True</td>\n",
       "      <td>14084</td>\n",
       "      <td>2</td>\n",
       "      <td>0</td>\n",
       "      <td>...</td>\n",
       "      <td>Female</td>\n",
       "      <td>Alabama</td>\n",
       "      <td>31</td>\n",
       "      <td>2/17/2019</td>\n",
       "      <td>3</td>\n",
       "      <td>married</td>\n",
       "      <td>40423</td>\n",
       "      <td>both</td>\n",
       "      <td>South</td>\n",
       "      <td>False</td>\n",
       "    </tr>\n",
       "    <tr>\n",
       "      <th>2</th>\n",
       "      <td>2539329</td>\n",
       "      <td>1</td>\n",
       "      <td>1</td>\n",
       "      <td>2</td>\n",
       "      <td>8</td>\n",
       "      <td>NaN</td>\n",
       "      <td>True</td>\n",
       "      <td>12427</td>\n",
       "      <td>3</td>\n",
       "      <td>0</td>\n",
       "      <td>...</td>\n",
       "      <td>Female</td>\n",
       "      <td>Alabama</td>\n",
       "      <td>31</td>\n",
       "      <td>2/17/2019</td>\n",
       "      <td>3</td>\n",
       "      <td>married</td>\n",
       "      <td>40423</td>\n",
       "      <td>both</td>\n",
       "      <td>South</td>\n",
       "      <td>False</td>\n",
       "    </tr>\n",
       "    <tr>\n",
       "      <th>3</th>\n",
       "      <td>2539329</td>\n",
       "      <td>1</td>\n",
       "      <td>1</td>\n",
       "      <td>2</td>\n",
       "      <td>8</td>\n",
       "      <td>NaN</td>\n",
       "      <td>True</td>\n",
       "      <td>26088</td>\n",
       "      <td>4</td>\n",
       "      <td>0</td>\n",
       "      <td>...</td>\n",
       "      <td>Female</td>\n",
       "      <td>Alabama</td>\n",
       "      <td>31</td>\n",
       "      <td>2/17/2019</td>\n",
       "      <td>3</td>\n",
       "      <td>married</td>\n",
       "      <td>40423</td>\n",
       "      <td>both</td>\n",
       "      <td>South</td>\n",
       "      <td>False</td>\n",
       "    </tr>\n",
       "    <tr>\n",
       "      <th>4</th>\n",
       "      <td>2539329</td>\n",
       "      <td>1</td>\n",
       "      <td>1</td>\n",
       "      <td>2</td>\n",
       "      <td>8</td>\n",
       "      <td>NaN</td>\n",
       "      <td>True</td>\n",
       "      <td>26405</td>\n",
       "      <td>5</td>\n",
       "      <td>0</td>\n",
       "      <td>...</td>\n",
       "      <td>Female</td>\n",
       "      <td>Alabama</td>\n",
       "      <td>31</td>\n",
       "      <td>2/17/2019</td>\n",
       "      <td>3</td>\n",
       "      <td>married</td>\n",
       "      <td>40423</td>\n",
       "      <td>both</td>\n",
       "      <td>South</td>\n",
       "      <td>False</td>\n",
       "    </tr>\n",
       "  </tbody>\n",
       "</table>\n",
       "<p>5 rows × 33 columns</p>\n",
       "</div>"
      ],
      "text/plain": [
       "   order_id user_id  order_number  orders_day_of_week  order_hour_of_day  \\\n",
       "0   2539329       1             1                   2                  8   \n",
       "1   2539329       1             1                   2                  8   \n",
       "2   2539329       1             1                   2                  8   \n",
       "3   2539329       1             1                   2                  8   \n",
       "4   2539329       1             1                   2                  8   \n",
       "\n",
       "   days_since_prior_order  first_order  product_id  add_to_cart_order  \\\n",
       "0                     NaN         True         196                  1   \n",
       "1                     NaN         True       14084                  2   \n",
       "2                     NaN         True       12427                  3   \n",
       "3                     NaN         True       26088                  4   \n",
       "4                     NaN         True       26405                  5   \n",
       "\n",
       "   reordered  ...  gender    state  age  date_joined n_dependents fam_status  \\\n",
       "0          0  ...  Female  Alabama   31    2/17/2019            3    married   \n",
       "1          0  ...  Female  Alabama   31    2/17/2019            3    married   \n",
       "2          0  ...  Female  Alabama   31    2/17/2019            3    married   \n",
       "3          0  ...  Female  Alabama   31    2/17/2019            3    married   \n",
       "4          0  ...  Female  Alabama   31    2/17/2019            3    married   \n",
       "\n",
       "  income  merge_flag region  exclusion_flag  \n",
       "0  40423        both  South           False  \n",
       "1  40423        both  South           False  \n",
       "2  40423        both  South           False  \n",
       "3  40423        both  South           False  \n",
       "4  40423        both  South           False  \n",
       "\n",
       "[5 rows x 33 columns]"
      ]
     },
     "execution_count": 32,
     "metadata": {},
     "output_type": "execute_result"
    }
   ],
   "source": [
    "df_anon_high.head()"
   ]
  },
  {
   "cell_type": "markdown",
   "id": "c53cc8be-7c9a-4a9a-be03-3db4aee1a9c7",
   "metadata": {},
   "source": [
    "In the new dataframe, I will add a 'profile' column and fill it in as I create customer profiles "
   ]
  },
  {
   "cell_type": "markdown",
   "id": "ce5bc030-66a6-4058-86cd-c3d63c682c2d",
   "metadata": {},
   "source": [
    "7. Create Customers Profiles"
   ]
  },
  {
   "cell_type": "code",
   "execution_count": 33,
   "id": "fc981983-0c8d-4b20-99bd-66b3c06007c7",
   "metadata": {},
   "outputs": [],
   "source": [
    "# Create an empty column called 'profile' \n",
    "df_anon_high['profile'] = np.nan"
   ]
  },
  {
   "cell_type": "code",
   "execution_count": 34,
   "id": "41ffa41f-5d3a-4324-9db3-45e12116b724",
   "metadata": {},
   "outputs": [],
   "source": [
    "# Tell pandas the column contains text not numbers\n",
    "df_anon_high['profile'] = pd.Series(dtype='object')"
   ]
  },
  {
   "cell_type": "markdown",
   "id": "cb348d0e-d3a1-48b9-831e-ba9100865a60",
   "metadata": {},
   "source": [
    "I want to use age, income, different products in 'department_id' and number of dependents to create customers profiles so I will need the department_id information."
   ]
  },
  {
   "cell_type": "code",
   "execution_count": 35,
   "id": "756f64f1-55fe-4c49-9b64-1b32ff610785",
   "metadata": {},
   "outputs": [
    {
     "data": {
      "text/plain": [
       "Index(['order_id', 'user_id', 'order_number', 'orders_day_of_week',\n",
       "       'order_hour_of_day', 'days_since_prior_order', 'first_order',\n",
       "       'product_id', 'add_to_cart_order', 'reordered', 'product_name',\n",
       "       'aisle_id', 'department_id', 'prices', 'price_range_loc',\n",
       "       'busiest_days', 'busiest_period_of_day', 'max_order', 'loyalty_flag',\n",
       "       'avg_price_per_user', 'spending_flag', 'median_days_per_user',\n",
       "       'order_frequency_flag', 'gender', 'state', 'age', 'date_joined',\n",
       "       'n_dependents', 'fam_status', 'income', 'merge_flag', 'region',\n",
       "       'exclusion_flag', 'profile'],\n",
       "      dtype='object')"
      ]
     },
     "execution_count": 35,
     "metadata": {},
     "output_type": "execute_result"
    }
   ],
   "source": [
    "df_anon_high.columns"
   ]
  },
  {
   "cell_type": "code",
   "execution_count": 36,
   "id": "c9e0060a-0e1f-4328-8da2-550ab573687b",
   "metadata": {},
   "outputs": [],
   "source": [
    "# Import departments dataframe\n",
    "df_dep_t_new = pd.read_csv(os.path.join(path, '02 Data','Prepared Data', 'departments_wrangled.csv'))"
   ]
  },
  {
   "cell_type": "code",
   "execution_count": 37,
   "id": "37c1c16c-a109-4c04-9699-a95b4680ea43",
   "metadata": {},
   "outputs": [
    {
     "data": {
      "text/html": [
       "<div>\n",
       "<style scoped>\n",
       "    .dataframe tbody tr th:only-of-type {\n",
       "        vertical-align: middle;\n",
       "    }\n",
       "\n",
       "    .dataframe tbody tr th {\n",
       "        vertical-align: top;\n",
       "    }\n",
       "\n",
       "    .dataframe thead th {\n",
       "        text-align: right;\n",
       "    }\n",
       "</style>\n",
       "<table border=\"1\" class=\"dataframe\">\n",
       "  <thead>\n",
       "    <tr style=\"text-align: right;\">\n",
       "      <th></th>\n",
       "      <th>Unnamed: 0</th>\n",
       "      <th>department</th>\n",
       "    </tr>\n",
       "  </thead>\n",
       "  <tbody>\n",
       "    <tr>\n",
       "      <th>0</th>\n",
       "      <td>1</td>\n",
       "      <td>frozen</td>\n",
       "    </tr>\n",
       "    <tr>\n",
       "      <th>1</th>\n",
       "      <td>2</td>\n",
       "      <td>other</td>\n",
       "    </tr>\n",
       "    <tr>\n",
       "      <th>2</th>\n",
       "      <td>3</td>\n",
       "      <td>bakery</td>\n",
       "    </tr>\n",
       "    <tr>\n",
       "      <th>3</th>\n",
       "      <td>4</td>\n",
       "      <td>produce</td>\n",
       "    </tr>\n",
       "    <tr>\n",
       "      <th>4</th>\n",
       "      <td>5</td>\n",
       "      <td>alcohol</td>\n",
       "    </tr>\n",
       "    <tr>\n",
       "      <th>5</th>\n",
       "      <td>6</td>\n",
       "      <td>international</td>\n",
       "    </tr>\n",
       "    <tr>\n",
       "      <th>6</th>\n",
       "      <td>7</td>\n",
       "      <td>beverages</td>\n",
       "    </tr>\n",
       "    <tr>\n",
       "      <th>7</th>\n",
       "      <td>8</td>\n",
       "      <td>pets</td>\n",
       "    </tr>\n",
       "    <tr>\n",
       "      <th>8</th>\n",
       "      <td>9</td>\n",
       "      <td>dry goods pasta</td>\n",
       "    </tr>\n",
       "    <tr>\n",
       "      <th>9</th>\n",
       "      <td>10</td>\n",
       "      <td>bulk</td>\n",
       "    </tr>\n",
       "    <tr>\n",
       "      <th>10</th>\n",
       "      <td>11</td>\n",
       "      <td>personal care</td>\n",
       "    </tr>\n",
       "    <tr>\n",
       "      <th>11</th>\n",
       "      <td>12</td>\n",
       "      <td>meat seafood</td>\n",
       "    </tr>\n",
       "    <tr>\n",
       "      <th>12</th>\n",
       "      <td>13</td>\n",
       "      <td>pantry</td>\n",
       "    </tr>\n",
       "    <tr>\n",
       "      <th>13</th>\n",
       "      <td>14</td>\n",
       "      <td>breakfast</td>\n",
       "    </tr>\n",
       "    <tr>\n",
       "      <th>14</th>\n",
       "      <td>15</td>\n",
       "      <td>canned goods</td>\n",
       "    </tr>\n",
       "    <tr>\n",
       "      <th>15</th>\n",
       "      <td>16</td>\n",
       "      <td>dairy eggs</td>\n",
       "    </tr>\n",
       "    <tr>\n",
       "      <th>16</th>\n",
       "      <td>17</td>\n",
       "      <td>household</td>\n",
       "    </tr>\n",
       "    <tr>\n",
       "      <th>17</th>\n",
       "      <td>18</td>\n",
       "      <td>babies</td>\n",
       "    </tr>\n",
       "    <tr>\n",
       "      <th>18</th>\n",
       "      <td>19</td>\n",
       "      <td>snacks</td>\n",
       "    </tr>\n",
       "    <tr>\n",
       "      <th>19</th>\n",
       "      <td>20</td>\n",
       "      <td>deli</td>\n",
       "    </tr>\n",
       "    <tr>\n",
       "      <th>20</th>\n",
       "      <td>21</td>\n",
       "      <td>missing</td>\n",
       "    </tr>\n",
       "  </tbody>\n",
       "</table>\n",
       "</div>"
      ],
      "text/plain": [
       "    Unnamed: 0       department\n",
       "0            1           frozen\n",
       "1            2            other\n",
       "2            3           bakery\n",
       "3            4          produce\n",
       "4            5          alcohol\n",
       "5            6    international\n",
       "6            7        beverages\n",
       "7            8             pets\n",
       "8            9  dry goods pasta\n",
       "9           10             bulk\n",
       "10          11    personal care\n",
       "11          12     meat seafood\n",
       "12          13           pantry\n",
       "13          14        breakfast\n",
       "14          15     canned goods\n",
       "15          16       dairy eggs\n",
       "16          17        household\n",
       "17          18           babies\n",
       "18          19           snacks\n",
       "19          20             deli\n",
       "20          21          missing"
      ]
     },
     "execution_count": 37,
     "metadata": {},
     "output_type": "execute_result"
    }
   ],
   "source": [
    "# Check import\n",
    "df_dep_t_new"
   ]
  },
  {
   "cell_type": "markdown",
   "id": "0ecfe891-549a-4533-afc0-1d78338a4e82",
   "metadata": {},
   "source": []
  },
  {
   "cell_type": "code",
   "execution_count": 38,
   "id": "d1e95c60-834d-46d6-97d0-ad0eaf4e9430",
   "metadata": {},
   "outputs": [],
   "source": [
    "# Rename Unnamed to department_id\n",
    "df_dep_t_new.rename(columns={'Unnamed: 0': 'department_id'}, inplace=True)"
   ]
  },
  {
   "cell_type": "code",
   "execution_count": 39,
   "id": "f2c03c6e-0bdc-4198-ad4a-21d8f3cd4ebe",
   "metadata": {},
   "outputs": [],
   "source": [
    "# Merge departments with df_anon_high using department_id key\n",
    "df_anon_high_dept = df_anon_high.merge(df_dep_t_new, on='department_id', how='left')"
   ]
  },
  {
   "cell_type": "code",
   "execution_count": 40,
   "id": "2fe70cb8-1485-47e8-b244-18177921ffef",
   "metadata": {},
   "outputs": [
    {
     "data": {
      "text/html": [
       "<div>\n",
       "<style scoped>\n",
       "    .dataframe tbody tr th:only-of-type {\n",
       "        vertical-align: middle;\n",
       "    }\n",
       "\n",
       "    .dataframe tbody tr th {\n",
       "        vertical-align: top;\n",
       "    }\n",
       "\n",
       "    .dataframe thead th {\n",
       "        text-align: right;\n",
       "    }\n",
       "</style>\n",
       "<table border=\"1\" class=\"dataframe\">\n",
       "  <thead>\n",
       "    <tr style=\"text-align: right;\">\n",
       "      <th></th>\n",
       "      <th>order_id</th>\n",
       "      <th>user_id</th>\n",
       "      <th>order_number</th>\n",
       "      <th>orders_day_of_week</th>\n",
       "      <th>order_hour_of_day</th>\n",
       "      <th>days_since_prior_order</th>\n",
       "      <th>first_order</th>\n",
       "      <th>product_id</th>\n",
       "      <th>add_to_cart_order</th>\n",
       "      <th>reordered</th>\n",
       "      <th>...</th>\n",
       "      <th>age</th>\n",
       "      <th>date_joined</th>\n",
       "      <th>n_dependents</th>\n",
       "      <th>fam_status</th>\n",
       "      <th>income</th>\n",
       "      <th>merge_flag</th>\n",
       "      <th>region</th>\n",
       "      <th>exclusion_flag</th>\n",
       "      <th>profile</th>\n",
       "      <th>department</th>\n",
       "    </tr>\n",
       "  </thead>\n",
       "  <tbody>\n",
       "    <tr>\n",
       "      <th>0</th>\n",
       "      <td>2539329</td>\n",
       "      <td>1</td>\n",
       "      <td>1</td>\n",
       "      <td>2</td>\n",
       "      <td>8</td>\n",
       "      <td>NaN</td>\n",
       "      <td>True</td>\n",
       "      <td>196</td>\n",
       "      <td>1</td>\n",
       "      <td>0</td>\n",
       "      <td>...</td>\n",
       "      <td>31</td>\n",
       "      <td>2/17/2019</td>\n",
       "      <td>3</td>\n",
       "      <td>married</td>\n",
       "      <td>40423</td>\n",
       "      <td>both</td>\n",
       "      <td>South</td>\n",
       "      <td>False</td>\n",
       "      <td>NaN</td>\n",
       "      <td>beverages</td>\n",
       "    </tr>\n",
       "    <tr>\n",
       "      <th>1</th>\n",
       "      <td>2539329</td>\n",
       "      <td>1</td>\n",
       "      <td>1</td>\n",
       "      <td>2</td>\n",
       "      <td>8</td>\n",
       "      <td>NaN</td>\n",
       "      <td>True</td>\n",
       "      <td>14084</td>\n",
       "      <td>2</td>\n",
       "      <td>0</td>\n",
       "      <td>...</td>\n",
       "      <td>31</td>\n",
       "      <td>2/17/2019</td>\n",
       "      <td>3</td>\n",
       "      <td>married</td>\n",
       "      <td>40423</td>\n",
       "      <td>both</td>\n",
       "      <td>South</td>\n",
       "      <td>False</td>\n",
       "      <td>NaN</td>\n",
       "      <td>dairy eggs</td>\n",
       "    </tr>\n",
       "    <tr>\n",
       "      <th>2</th>\n",
       "      <td>2539329</td>\n",
       "      <td>1</td>\n",
       "      <td>1</td>\n",
       "      <td>2</td>\n",
       "      <td>8</td>\n",
       "      <td>NaN</td>\n",
       "      <td>True</td>\n",
       "      <td>12427</td>\n",
       "      <td>3</td>\n",
       "      <td>0</td>\n",
       "      <td>...</td>\n",
       "      <td>31</td>\n",
       "      <td>2/17/2019</td>\n",
       "      <td>3</td>\n",
       "      <td>married</td>\n",
       "      <td>40423</td>\n",
       "      <td>both</td>\n",
       "      <td>South</td>\n",
       "      <td>False</td>\n",
       "      <td>NaN</td>\n",
       "      <td>snacks</td>\n",
       "    </tr>\n",
       "    <tr>\n",
       "      <th>3</th>\n",
       "      <td>2539329</td>\n",
       "      <td>1</td>\n",
       "      <td>1</td>\n",
       "      <td>2</td>\n",
       "      <td>8</td>\n",
       "      <td>NaN</td>\n",
       "      <td>True</td>\n",
       "      <td>26088</td>\n",
       "      <td>4</td>\n",
       "      <td>0</td>\n",
       "      <td>...</td>\n",
       "      <td>31</td>\n",
       "      <td>2/17/2019</td>\n",
       "      <td>3</td>\n",
       "      <td>married</td>\n",
       "      <td>40423</td>\n",
       "      <td>both</td>\n",
       "      <td>South</td>\n",
       "      <td>False</td>\n",
       "      <td>NaN</td>\n",
       "      <td>snacks</td>\n",
       "    </tr>\n",
       "    <tr>\n",
       "      <th>4</th>\n",
       "      <td>2539329</td>\n",
       "      <td>1</td>\n",
       "      <td>1</td>\n",
       "      <td>2</td>\n",
       "      <td>8</td>\n",
       "      <td>NaN</td>\n",
       "      <td>True</td>\n",
       "      <td>26405</td>\n",
       "      <td>5</td>\n",
       "      <td>0</td>\n",
       "      <td>...</td>\n",
       "      <td>31</td>\n",
       "      <td>2/17/2019</td>\n",
       "      <td>3</td>\n",
       "      <td>married</td>\n",
       "      <td>40423</td>\n",
       "      <td>both</td>\n",
       "      <td>South</td>\n",
       "      <td>False</td>\n",
       "      <td>NaN</td>\n",
       "      <td>household</td>\n",
       "    </tr>\n",
       "  </tbody>\n",
       "</table>\n",
       "<p>5 rows × 35 columns</p>\n",
       "</div>"
      ],
      "text/plain": [
       "   order_id user_id  order_number  orders_day_of_week  order_hour_of_day  \\\n",
       "0   2539329       1             1                   2                  8   \n",
       "1   2539329       1             1                   2                  8   \n",
       "2   2539329       1             1                   2                  8   \n",
       "3   2539329       1             1                   2                  8   \n",
       "4   2539329       1             1                   2                  8   \n",
       "\n",
       "   days_since_prior_order  first_order  product_id  add_to_cart_order  \\\n",
       "0                     NaN         True         196                  1   \n",
       "1                     NaN         True       14084                  2   \n",
       "2                     NaN         True       12427                  3   \n",
       "3                     NaN         True       26088                  4   \n",
       "4                     NaN         True       26405                  5   \n",
       "\n",
       "   reordered  ... age  date_joined  n_dependents  fam_status income  \\\n",
       "0          0  ...  31    2/17/2019             3     married  40423   \n",
       "1          0  ...  31    2/17/2019             3     married  40423   \n",
       "2          0  ...  31    2/17/2019             3     married  40423   \n",
       "3          0  ...  31    2/17/2019             3     married  40423   \n",
       "4          0  ...  31    2/17/2019             3     married  40423   \n",
       "\n",
       "  merge_flag region  exclusion_flag profile  department  \n",
       "0       both  South           False     NaN   beverages  \n",
       "1       both  South           False     NaN  dairy eggs  \n",
       "2       both  South           False     NaN      snacks  \n",
       "3       both  South           False     NaN      snacks  \n",
       "4       both  South           False     NaN   household  \n",
       "\n",
       "[5 rows x 35 columns]"
      ]
     },
     "execution_count": 40,
     "metadata": {},
     "output_type": "execute_result"
    }
   ],
   "source": [
    "# Check merge\n",
    "df_anon_high_dept.head()"
   ]
  },
  {
   "cell_type": "markdown",
   "id": "1ed7e78a-920f-4d30-bc1a-2c9ff3aaaf80",
   "metadata": {},
   "source": [
    "Now that department names have been added, I will create profiles for customers based on a couple of departments as well as age, income and number of dependents. "
   ]
  },
  {
   "cell_type": "code",
   "execution_count": 41,
   "id": "b13343c1-a78a-46ea-87db-db9489c95958",
   "metadata": {},
   "outputs": [],
   "source": [
    "# Create an empty column called 'profile' \n",
    "df_anon_high_dept['profile'] = np.nan"
   ]
  },
  {
   "cell_type": "code",
   "execution_count": 42,
   "id": "37a81d95-c6e0-4d99-82b2-6c95826ee0fb",
   "metadata": {},
   "outputs": [],
   "source": [
    "df_anon_high_dept['profile'] = ''"
   ]
  },
  {
   "cell_type": "code",
   "execution_count": 43,
   "id": "927e49b6-2b98-4332-a501-e5f3ac640574",
   "metadata": {},
   "outputs": [],
   "source": [
    "# Profile 1: New Parent – based on baby department (department_id == 18)\n",
    "df_anon_high_dept.loc[\n",
    "    df_anon_high_dept['department_id'] == 18,\n",
    "    'profile'] = 'New Parent'\n"
   ]
  },
  {
   "cell_type": "code",
   "execution_count": 44,
   "id": "c1f8c1c6-f48f-40aa-91b5-19cb751f67dc",
   "metadata": {},
   "outputs": [],
   "source": [
    "# Profile 2: Young Parent – age under 35, with dependents\n",
    "df_anon_high_dept.loc[\n",
    "    (df_anon_high_dept['age'] < 35) &\n",
    "    (df_anon_high_dept['n_dependents'] > 0) &\n",
    "    (df_anon_high_dept['profile'] == ''),\n",
    "    'profile'] = 'Young Parent'\n"
   ]
  },
  {
   "cell_type": "code",
   "execution_count": 45,
   "id": "ffcaa7ee-64b4-4ce3-bc77-dabacfe8c2a4",
   "metadata": {},
   "outputs": [],
   "source": [
    "# Profile 3: Affluent Family – high income, multiple dependents\n",
    "df_anon_high_dept.loc[\n",
    "    (df_anon_high_dept['income'] > 100000) &\n",
    "    (df_anon_high_dept['n_dependents'] >= 2) &\n",
    "    (df_anon_high_dept['profile'] == ''),\n",
    "    'profile'] = 'Affluent Family'\n"
   ]
  },
  {
   "cell_type": "code",
   "execution_count": 46,
   "id": "e1e0b036-f609-49a5-b7aa-f1447277a27d",
   "metadata": {},
   "outputs": [],
   "source": [
    "# Profile 4: Young Budget Single – under 30, no dependents, low income\n",
    "df_anon_high_dept.loc[\n",
    "    (df_anon_high_dept['age'] < 30) &\n",
    "    (df_anon_high_dept['n_dependents'] == 0) &\n",
    "    (df_anon_high_dept['income'] < 40000),\n",
    "    'profile'] = 'Young Budget Single'\n"
   ]
  },
  {
   "cell_type": "code",
   "execution_count": 47,
   "id": "0c9b938f-fb63-4ef1-ac82-37f2c6c6e53c",
   "metadata": {},
   "outputs": [],
   "source": [
    "# Profile 5: Young Single Adult – under 30, no dependents, not budget\n",
    "df_anon_high_dept.loc[\n",
    "    (df_anon_high_dept['age'] < 30) &\n",
    "    (df_anon_high_dept['n_dependents'] == 0) &\n",
    "    (df_anon_high_dept['profile'] == ''),\n",
    "    'profile'] = 'Young Single Adult'\n"
   ]
  },
  {
   "cell_type": "code",
   "execution_count": 48,
   "id": "b02da4a2-16f8-4632-96b8-7a12adb71b6a",
   "metadata": {},
   "outputs": [],
   "source": [
    "# Profile 6: Senior Shopper – age 60+\n",
    "df_anon_high_dept.loc[\n",
    "    (df_anon_high_dept['age'] >= 60) &\n",
    "    (df_anon_high_dept['profile'] == ''),\n",
    "    'profile'] = 'Senior Shopper'\n"
   ]
  },
  {
   "cell_type": "code",
   "execution_count": 49,
   "id": "e5faf701-760d-4255-b945-ba207a775bce",
   "metadata": {},
   "outputs": [],
   "source": [
    "# Profile 7: Late Shopper – orders placed 8pm or later\n",
    "df_anon_high_dept.loc[\n",
    "    (df_anon_high_dept['order_hour_of_day'] >= 20) &\n",
    "    (df_anon_high_dept['profile'] == ''),\n",
    "    'profile'] = 'Late Shopper'\n"
   ]
  },
  {
   "cell_type": "code",
   "execution_count": 50,
   "id": "fd40a317-cae3-4237-b77b-2c1f80ae9114",
   "metadata": {},
   "outputs": [],
   "source": [
    "# Profile 8: Budget-Conscious – low income and low avg spend\n",
    "df_anon_high_dept.loc[\n",
    "    (df_anon_high_dept['income'] < 50000) &\n",
    "    (df_anon_high_dept['avg_price_per_user'] < 5) &\n",
    "    (df_anon_high_dept['profile'] == ''),\n",
    "    'profile'] = 'Budget-Conscious'\n"
   ]
  },
  {
   "cell_type": "code",
   "execution_count": 51,
   "id": "d5a6aa61-710b-48e5-8aac-867376ca16a9",
   "metadata": {},
   "outputs": [],
   "source": [
    "# Profile 9: Other – catch-all\n",
    "df_anon_high_dept.loc[\n",
    "    df_anon_high_dept['profile'] == '',\n",
    "    'profile'] = 'Other'\n"
   ]
  },
  {
   "cell_type": "code",
   "execution_count": 52,
   "id": "f4fa0be0-666f-43eb-afbf-4e68b71fffba",
   "metadata": {},
   "outputs": [
    {
     "data": {
      "text/plain": [
       "profile\n",
       "Other                  8579469\n",
       "Affluent Family        6887565\n",
       "Senior Shopper         6743373\n",
       "Young Parent           6104747\n",
       "Young Single Adult     1323515\n",
       "Late Shopper            815358\n",
       "New Parent              409645\n",
       "Young Budget Single     105830\n",
       "Budget-Conscious         23464\n",
       "Name: count, dtype: int64"
      ]
     },
     "execution_count": 52,
     "metadata": {},
     "output_type": "execute_result"
    }
   ],
   "source": [
    "# Check how many customers fall into each category\n",
    "df_anon_high_dept['profile'].value_counts()"
   ]
  },
  {
   "cell_type": "code",
   "execution_count": 53,
   "id": "3819c02d-c4e5-4068-9992-70d1908ee34c",
   "metadata": {},
   "outputs": [
    {
     "data": {
      "text/plain": [
       "0"
      ]
     },
     "execution_count": 53,
     "metadata": {},
     "output_type": "execute_result"
    }
   ],
   "source": [
    "# Check all rows were assigned\n",
    "df_anon_high_dept['profile'].isna().sum()  "
   ]
  },
  {
   "cell_type": "markdown",
   "id": "f4e299f8-a900-4583-8e01-a04522620a00",
   "metadata": {},
   "source": [
    "A large number of customers fall into the 'Other' profile"
   ]
  },
  {
   "cell_type": "code",
   "execution_count": 54,
   "id": "fa9b7627-b2b3-4984-ba9d-8e02d88c3fb7",
   "metadata": {},
   "outputs": [
    {
     "data": {
      "text/plain": [
       "profile\n",
       "Other                  27.7\n",
       "Affluent Family        22.2\n",
       "Senior Shopper         21.8\n",
       "Young Parent           19.7\n",
       "Young Single Adult      4.3\n",
       "Late Shopper            2.6\n",
       "New Parent              1.3\n",
       "Young Budget Single     0.3\n",
       "Budget-Conscious        0.1\n",
       "Name: proportion, dtype: float64"
      ]
     },
     "execution_count": 54,
     "metadata": {},
     "output_type": "execute_result"
    }
   ],
   "source": [
    "# Check distribution\n",
    "df_anon_high_dept['profile'].value_counts(normalize=True).round(3) * 100"
   ]
  },
  {
   "cell_type": "code",
   "execution_count": 55,
   "id": "9402426b-4002-47d1-b996-19c11faa8d37",
   "metadata": {},
   "outputs": [],
   "source": [
    "# Export high activity customers with profiles dataframe \n",
    "df_anon_high_dept.to_pickle(os.path.join(path, '02 Data', 'Prepared Data', 'high_activity_customers_with_profiles.pkl'))"
   ]
  },
  {
   "cell_type": "code",
   "execution_count": 56,
   "id": "b5247e8c-380b-49f5-8f40-e19b73a48c66",
   "metadata": {},
   "outputs": [
    {
     "data": {
      "text/html": [
       "<div>\n",
       "<style scoped>\n",
       "    .dataframe tbody tr th:only-of-type {\n",
       "        vertical-align: middle;\n",
       "    }\n",
       "\n",
       "    .dataframe tbody tr th {\n",
       "        vertical-align: top;\n",
       "    }\n",
       "\n",
       "    .dataframe thead th {\n",
       "        text-align: right;\n",
       "    }\n",
       "</style>\n",
       "<table border=\"1\" class=\"dataframe\">\n",
       "  <thead>\n",
       "    <tr style=\"text-align: right;\">\n",
       "      <th></th>\n",
       "      <th>order_id</th>\n",
       "      <th>user_id</th>\n",
       "      <th>order_number</th>\n",
       "      <th>orders_day_of_week</th>\n",
       "      <th>order_hour_of_day</th>\n",
       "      <th>days_since_prior_order</th>\n",
       "      <th>first_order</th>\n",
       "      <th>product_id</th>\n",
       "      <th>add_to_cart_order</th>\n",
       "      <th>reordered</th>\n",
       "      <th>...</th>\n",
       "      <th>age</th>\n",
       "      <th>date_joined</th>\n",
       "      <th>n_dependents</th>\n",
       "      <th>fam_status</th>\n",
       "      <th>income</th>\n",
       "      <th>merge_flag</th>\n",
       "      <th>region</th>\n",
       "      <th>exclusion_flag</th>\n",
       "      <th>profile</th>\n",
       "      <th>department</th>\n",
       "    </tr>\n",
       "  </thead>\n",
       "  <tbody>\n",
       "    <tr>\n",
       "      <th>0</th>\n",
       "      <td>2539329</td>\n",
       "      <td>1</td>\n",
       "      <td>1</td>\n",
       "      <td>2</td>\n",
       "      <td>8</td>\n",
       "      <td>NaN</td>\n",
       "      <td>True</td>\n",
       "      <td>196</td>\n",
       "      <td>1</td>\n",
       "      <td>0</td>\n",
       "      <td>...</td>\n",
       "      <td>31</td>\n",
       "      <td>2/17/2019</td>\n",
       "      <td>3</td>\n",
       "      <td>married</td>\n",
       "      <td>40423</td>\n",
       "      <td>both</td>\n",
       "      <td>South</td>\n",
       "      <td>False</td>\n",
       "      <td>Young Parent</td>\n",
       "      <td>beverages</td>\n",
       "    </tr>\n",
       "    <tr>\n",
       "      <th>1</th>\n",
       "      <td>2539329</td>\n",
       "      <td>1</td>\n",
       "      <td>1</td>\n",
       "      <td>2</td>\n",
       "      <td>8</td>\n",
       "      <td>NaN</td>\n",
       "      <td>True</td>\n",
       "      <td>14084</td>\n",
       "      <td>2</td>\n",
       "      <td>0</td>\n",
       "      <td>...</td>\n",
       "      <td>31</td>\n",
       "      <td>2/17/2019</td>\n",
       "      <td>3</td>\n",
       "      <td>married</td>\n",
       "      <td>40423</td>\n",
       "      <td>both</td>\n",
       "      <td>South</td>\n",
       "      <td>False</td>\n",
       "      <td>Young Parent</td>\n",
       "      <td>dairy eggs</td>\n",
       "    </tr>\n",
       "    <tr>\n",
       "      <th>2</th>\n",
       "      <td>2539329</td>\n",
       "      <td>1</td>\n",
       "      <td>1</td>\n",
       "      <td>2</td>\n",
       "      <td>8</td>\n",
       "      <td>NaN</td>\n",
       "      <td>True</td>\n",
       "      <td>12427</td>\n",
       "      <td>3</td>\n",
       "      <td>0</td>\n",
       "      <td>...</td>\n",
       "      <td>31</td>\n",
       "      <td>2/17/2019</td>\n",
       "      <td>3</td>\n",
       "      <td>married</td>\n",
       "      <td>40423</td>\n",
       "      <td>both</td>\n",
       "      <td>South</td>\n",
       "      <td>False</td>\n",
       "      <td>Young Parent</td>\n",
       "      <td>snacks</td>\n",
       "    </tr>\n",
       "    <tr>\n",
       "      <th>3</th>\n",
       "      <td>2539329</td>\n",
       "      <td>1</td>\n",
       "      <td>1</td>\n",
       "      <td>2</td>\n",
       "      <td>8</td>\n",
       "      <td>NaN</td>\n",
       "      <td>True</td>\n",
       "      <td>26088</td>\n",
       "      <td>4</td>\n",
       "      <td>0</td>\n",
       "      <td>...</td>\n",
       "      <td>31</td>\n",
       "      <td>2/17/2019</td>\n",
       "      <td>3</td>\n",
       "      <td>married</td>\n",
       "      <td>40423</td>\n",
       "      <td>both</td>\n",
       "      <td>South</td>\n",
       "      <td>False</td>\n",
       "      <td>Young Parent</td>\n",
       "      <td>snacks</td>\n",
       "    </tr>\n",
       "    <tr>\n",
       "      <th>4</th>\n",
       "      <td>2539329</td>\n",
       "      <td>1</td>\n",
       "      <td>1</td>\n",
       "      <td>2</td>\n",
       "      <td>8</td>\n",
       "      <td>NaN</td>\n",
       "      <td>True</td>\n",
       "      <td>26405</td>\n",
       "      <td>5</td>\n",
       "      <td>0</td>\n",
       "      <td>...</td>\n",
       "      <td>31</td>\n",
       "      <td>2/17/2019</td>\n",
       "      <td>3</td>\n",
       "      <td>married</td>\n",
       "      <td>40423</td>\n",
       "      <td>both</td>\n",
       "      <td>South</td>\n",
       "      <td>False</td>\n",
       "      <td>Young Parent</td>\n",
       "      <td>household</td>\n",
       "    </tr>\n",
       "  </tbody>\n",
       "</table>\n",
       "<p>5 rows × 35 columns</p>\n",
       "</div>"
      ],
      "text/plain": [
       "   order_id user_id  order_number  orders_day_of_week  order_hour_of_day  \\\n",
       "0   2539329       1             1                   2                  8   \n",
       "1   2539329       1             1                   2                  8   \n",
       "2   2539329       1             1                   2                  8   \n",
       "3   2539329       1             1                   2                  8   \n",
       "4   2539329       1             1                   2                  8   \n",
       "\n",
       "   days_since_prior_order  first_order  product_id  add_to_cart_order  \\\n",
       "0                     NaN         True         196                  1   \n",
       "1                     NaN         True       14084                  2   \n",
       "2                     NaN         True       12427                  3   \n",
       "3                     NaN         True       26088                  4   \n",
       "4                     NaN         True       26405                  5   \n",
       "\n",
       "   reordered  ... age  date_joined  n_dependents  fam_status income  \\\n",
       "0          0  ...  31    2/17/2019             3     married  40423   \n",
       "1          0  ...  31    2/17/2019             3     married  40423   \n",
       "2          0  ...  31    2/17/2019             3     married  40423   \n",
       "3          0  ...  31    2/17/2019             3     married  40423   \n",
       "4          0  ...  31    2/17/2019             3     married  40423   \n",
       "\n",
       "  merge_flag region  exclusion_flag       profile  department  \n",
       "0       both  South           False  Young Parent   beverages  \n",
       "1       both  South           False  Young Parent  dairy eggs  \n",
       "2       both  South           False  Young Parent      snacks  \n",
       "3       both  South           False  Young Parent      snacks  \n",
       "4       both  South           False  Young Parent   household  \n",
       "\n",
       "[5 rows x 35 columns]"
      ]
     },
     "execution_count": 56,
     "metadata": {},
     "output_type": "execute_result"
    }
   ],
   "source": [
    "df_anon_high_dept.head()"
   ]
  },
  {
   "cell_type": "code",
   "execution_count": 57,
   "id": "acf3035e-1597-4224-ad5a-5f948e00b799",
   "metadata": {},
   "outputs": [
    {
     "data": {
      "text/plain": [
       "Index(['order_id', 'user_id', 'order_number', 'orders_day_of_week',\n",
       "       'order_hour_of_day', 'days_since_prior_order', 'first_order',\n",
       "       'product_id', 'add_to_cart_order', 'reordered', 'product_name',\n",
       "       'aisle_id', 'department_id', 'prices', 'price_range_loc',\n",
       "       'busiest_days', 'busiest_period_of_day', 'max_order', 'loyalty_flag',\n",
       "       'avg_price_per_user', 'spending_flag', 'median_days_per_user',\n",
       "       'order_frequency_flag', 'gender', 'state', 'age', 'date_joined',\n",
       "       'n_dependents', 'fam_status', 'income', 'merge_flag', 'region',\n",
       "       'exclusion_flag', 'profile', 'department'],\n",
       "      dtype='object')"
      ]
     },
     "execution_count": 57,
     "metadata": {},
     "output_type": "execute_result"
    }
   ],
   "source": [
    "df_anon_high_dept.columns"
   ]
  },
  {
   "cell_type": "code",
   "execution_count": 58,
   "id": "19ca3e38-0287-4f38-85d3-ea0be48e6d68",
   "metadata": {},
   "outputs": [],
   "source": [
    "# Change name of dataframe to include profiles\n",
    "df_anon_high_prof = df_anon_high_dept"
   ]
  },
  {
   "cell_type": "code",
   "execution_count": 59,
   "id": "50478f07-e76f-4295-94da-fbf7aacc222d",
   "metadata": {},
   "outputs": [
    {
     "data": {
      "text/html": [
       "<div>\n",
       "<style scoped>\n",
       "    .dataframe tbody tr th:only-of-type {\n",
       "        vertical-align: middle;\n",
       "    }\n",
       "\n",
       "    .dataframe tbody tr th {\n",
       "        vertical-align: top;\n",
       "    }\n",
       "\n",
       "    .dataframe thead th {\n",
       "        text-align: right;\n",
       "    }\n",
       "</style>\n",
       "<table border=\"1\" class=\"dataframe\">\n",
       "  <thead>\n",
       "    <tr style=\"text-align: right;\">\n",
       "      <th></th>\n",
       "      <th>order_id</th>\n",
       "      <th>user_id</th>\n",
       "      <th>order_number</th>\n",
       "      <th>orders_day_of_week</th>\n",
       "      <th>order_hour_of_day</th>\n",
       "      <th>days_since_prior_order</th>\n",
       "      <th>first_order</th>\n",
       "      <th>product_id</th>\n",
       "      <th>add_to_cart_order</th>\n",
       "      <th>reordered</th>\n",
       "      <th>...</th>\n",
       "      <th>age</th>\n",
       "      <th>date_joined</th>\n",
       "      <th>n_dependents</th>\n",
       "      <th>fam_status</th>\n",
       "      <th>income</th>\n",
       "      <th>merge_flag</th>\n",
       "      <th>region</th>\n",
       "      <th>exclusion_flag</th>\n",
       "      <th>profile</th>\n",
       "      <th>department</th>\n",
       "    </tr>\n",
       "  </thead>\n",
       "  <tbody>\n",
       "    <tr>\n",
       "      <th>0</th>\n",
       "      <td>2539329</td>\n",
       "      <td>1</td>\n",
       "      <td>1</td>\n",
       "      <td>2</td>\n",
       "      <td>8</td>\n",
       "      <td>NaN</td>\n",
       "      <td>True</td>\n",
       "      <td>196</td>\n",
       "      <td>1</td>\n",
       "      <td>0</td>\n",
       "      <td>...</td>\n",
       "      <td>31</td>\n",
       "      <td>2/17/2019</td>\n",
       "      <td>3</td>\n",
       "      <td>married</td>\n",
       "      <td>40423</td>\n",
       "      <td>both</td>\n",
       "      <td>South</td>\n",
       "      <td>False</td>\n",
       "      <td>Young Parent</td>\n",
       "      <td>beverages</td>\n",
       "    </tr>\n",
       "    <tr>\n",
       "      <th>1</th>\n",
       "      <td>2539329</td>\n",
       "      <td>1</td>\n",
       "      <td>1</td>\n",
       "      <td>2</td>\n",
       "      <td>8</td>\n",
       "      <td>NaN</td>\n",
       "      <td>True</td>\n",
       "      <td>14084</td>\n",
       "      <td>2</td>\n",
       "      <td>0</td>\n",
       "      <td>...</td>\n",
       "      <td>31</td>\n",
       "      <td>2/17/2019</td>\n",
       "      <td>3</td>\n",
       "      <td>married</td>\n",
       "      <td>40423</td>\n",
       "      <td>both</td>\n",
       "      <td>South</td>\n",
       "      <td>False</td>\n",
       "      <td>Young Parent</td>\n",
       "      <td>dairy eggs</td>\n",
       "    </tr>\n",
       "    <tr>\n",
       "      <th>2</th>\n",
       "      <td>2539329</td>\n",
       "      <td>1</td>\n",
       "      <td>1</td>\n",
       "      <td>2</td>\n",
       "      <td>8</td>\n",
       "      <td>NaN</td>\n",
       "      <td>True</td>\n",
       "      <td>12427</td>\n",
       "      <td>3</td>\n",
       "      <td>0</td>\n",
       "      <td>...</td>\n",
       "      <td>31</td>\n",
       "      <td>2/17/2019</td>\n",
       "      <td>3</td>\n",
       "      <td>married</td>\n",
       "      <td>40423</td>\n",
       "      <td>both</td>\n",
       "      <td>South</td>\n",
       "      <td>False</td>\n",
       "      <td>Young Parent</td>\n",
       "      <td>snacks</td>\n",
       "    </tr>\n",
       "    <tr>\n",
       "      <th>3</th>\n",
       "      <td>2539329</td>\n",
       "      <td>1</td>\n",
       "      <td>1</td>\n",
       "      <td>2</td>\n",
       "      <td>8</td>\n",
       "      <td>NaN</td>\n",
       "      <td>True</td>\n",
       "      <td>26088</td>\n",
       "      <td>4</td>\n",
       "      <td>0</td>\n",
       "      <td>...</td>\n",
       "      <td>31</td>\n",
       "      <td>2/17/2019</td>\n",
       "      <td>3</td>\n",
       "      <td>married</td>\n",
       "      <td>40423</td>\n",
       "      <td>both</td>\n",
       "      <td>South</td>\n",
       "      <td>False</td>\n",
       "      <td>Young Parent</td>\n",
       "      <td>snacks</td>\n",
       "    </tr>\n",
       "    <tr>\n",
       "      <th>4</th>\n",
       "      <td>2539329</td>\n",
       "      <td>1</td>\n",
       "      <td>1</td>\n",
       "      <td>2</td>\n",
       "      <td>8</td>\n",
       "      <td>NaN</td>\n",
       "      <td>True</td>\n",
       "      <td>26405</td>\n",
       "      <td>5</td>\n",
       "      <td>0</td>\n",
       "      <td>...</td>\n",
       "      <td>31</td>\n",
       "      <td>2/17/2019</td>\n",
       "      <td>3</td>\n",
       "      <td>married</td>\n",
       "      <td>40423</td>\n",
       "      <td>both</td>\n",
       "      <td>South</td>\n",
       "      <td>False</td>\n",
       "      <td>Young Parent</td>\n",
       "      <td>household</td>\n",
       "    </tr>\n",
       "  </tbody>\n",
       "</table>\n",
       "<p>5 rows × 35 columns</p>\n",
       "</div>"
      ],
      "text/plain": [
       "   order_id user_id  order_number  orders_day_of_week  order_hour_of_day  \\\n",
       "0   2539329       1             1                   2                  8   \n",
       "1   2539329       1             1                   2                  8   \n",
       "2   2539329       1             1                   2                  8   \n",
       "3   2539329       1             1                   2                  8   \n",
       "4   2539329       1             1                   2                  8   \n",
       "\n",
       "   days_since_prior_order  first_order  product_id  add_to_cart_order  \\\n",
       "0                     NaN         True         196                  1   \n",
       "1                     NaN         True       14084                  2   \n",
       "2                     NaN         True       12427                  3   \n",
       "3                     NaN         True       26088                  4   \n",
       "4                     NaN         True       26405                  5   \n",
       "\n",
       "   reordered  ... age  date_joined  n_dependents  fam_status income  \\\n",
       "0          0  ...  31    2/17/2019             3     married  40423   \n",
       "1          0  ...  31    2/17/2019             3     married  40423   \n",
       "2          0  ...  31    2/17/2019             3     married  40423   \n",
       "3          0  ...  31    2/17/2019             3     married  40423   \n",
       "4          0  ...  31    2/17/2019             3     married  40423   \n",
       "\n",
       "  merge_flag region  exclusion_flag       profile  department  \n",
       "0       both  South           False  Young Parent   beverages  \n",
       "1       both  South           False  Young Parent  dairy eggs  \n",
       "2       both  South           False  Young Parent      snacks  \n",
       "3       both  South           False  Young Parent      snacks  \n",
       "4       both  South           False  Young Parent   household  \n",
       "\n",
       "[5 rows x 35 columns]"
      ]
     },
     "execution_count": 59,
     "metadata": {},
     "output_type": "execute_result"
    }
   ],
   "source": [
    "df_anon_high_prof.head()"
   ]
  },
  {
   "cell_type": "code",
   "execution_count": null,
   "id": "5136cf8b-354b-478a-81e5-897401e31085",
   "metadata": {},
   "outputs": [],
   "source": []
  },
  {
   "cell_type": "markdown",
   "id": "4e038f11-b7b4-4747-8555-822ca7ea25df",
   "metadata": {},
   "source": [
    "Question 6. Create an appropriate visualization to show the distribution of profiles"
   ]
  },
  {
   "cell_type": "markdown",
   "id": "d179182a-f8c9-4e47-a671-ed8d9e14cd28",
   "metadata": {},
   "source": [
    "8.  Create Customer Profile distribution bar chart and export"
   ]
  },
  {
   "cell_type": "code",
   "execution_count": 60,
   "id": "beaa30c4-a191-4014-bac0-6a96d5a967bb",
   "metadata": {},
   "outputs": [
    {
     "data": {
      "image/png": "[encoded data removed]",
      "text/plain": [
       "<Figure size 640x480 with 1 Axes>"
      ]
     },
     "metadata": {},
     "output_type": "display_data"
    }
   ],
   "source": [
    "# Create bar chart\n",
    "Prof_bar = df_anon_high_prof['profile'].value_counts().plot.bar()"
   ]
  },
  {
   "cell_type": "code",
   "execution_count": 61,
   "id": "9a7f1520-f4b3-4ebe-a88e-922dec686bc4",
   "metadata": {},
   "outputs": [],
   "source": [
    "# Export bar chart\n",
    "Prof_bar.figure.savefig(os.path.join(path, '04 Analysis', 'Visualisations', 'bar_customer_profiles_sample.png'))"
   ]
  },
  {
   "cell_type": "code",
   "execution_count": null,
   "id": "63723476-f265-409b-813c-b5393ee7e02b",
   "metadata": {},
   "outputs": [],
   "source": []
  },
  {
   "cell_type": "markdown",
   "id": "61a92482-a89a-46cf-9561-3166884f7c24",
   "metadata": {},
   "source": [
    "Question 7. Aggregate the max, mean, and min variables on a customer-profile level for usage frequency and expenditure."
   ]
  },
  {
   "cell_type": "markdown",
   "id": "b8573799-ba5f-424b-b6c9-14e209ec63c3",
   "metadata": {},
   "source": [
    "9.  Aggregate Mean, Max, Min on Customer Profiles for Expenditure and User Frequency "
   ]
  },
  {
   "cell_type": "markdown",
   "id": "70ead84a-f5b6-4d5b-8c4f-c1636ae3d70d",
   "metadata": {},
   "source": [
    "For usage frequency I will use order_number and for expenditure I will use avg_proce_per_user"
   ]
  },
  {
   "cell_type": "code",
   "execution_count": 62,
   "id": "f477c76e-d69d-4aae-8fde-f460f997ff5c",
   "metadata": {},
   "outputs": [],
   "source": [
    "# Aggregate profiles\n",
    "agg_profiles = df_anon_high_prof.groupby('profile').agg({'avg_price_per_user': ['mean', 'min', 'max'],'order_number': ['mean', 'min', 'max']})"
   ]
  },
  {
   "cell_type": "code",
   "execution_count": 63,
   "id": "83932e16-5b6e-49e6-85ca-fb0ad15e2efa",
   "metadata": {},
   "outputs": [
    {
     "data": {
      "text/html": [
       "<div>\n",
       "<style scoped>\n",
       "    .dataframe tbody tr th:only-of-type {\n",
       "        vertical-align: middle;\n",
       "    }\n",
       "\n",
       "    .dataframe tbody tr th {\n",
       "        vertical-align: top;\n",
       "    }\n",
       "\n",
       "    .dataframe thead tr th {\n",
       "        text-align: left;\n",
       "    }\n",
       "\n",
       "    .dataframe thead tr:last-of-type th {\n",
       "        text-align: right;\n",
       "    }\n",
       "</style>\n",
       "<table border=\"1\" class=\"dataframe\">\n",
       "  <thead>\n",
       "    <tr>\n",
       "      <th></th>\n",
       "      <th colspan=\"3\" halign=\"left\">avg_price_per_user</th>\n",
       "      <th colspan=\"3\" halign=\"left\">order_number</th>\n",
       "    </tr>\n",
       "    <tr>\n",
       "      <th></th>\n",
       "      <th>mean</th>\n",
       "      <th>min</th>\n",
       "      <th>max</th>\n",
       "      <th>mean</th>\n",
       "      <th>min</th>\n",
       "      <th>max</th>\n",
       "    </tr>\n",
       "    <tr>\n",
       "      <th>profile</th>\n",
       "      <th></th>\n",
       "      <th></th>\n",
       "      <th></th>\n",
       "      <th></th>\n",
       "      <th></th>\n",
       "      <th></th>\n",
       "    </tr>\n",
       "  </thead>\n",
       "  <tbody>\n",
       "    <tr>\n",
       "      <th>Affluent Family</th>\n",
       "      <td>7.954512</td>\n",
       "      <td>4.465854</td>\n",
       "      <td>20.114286</td>\n",
       "      <td>17.831184</td>\n",
       "      <td>1</td>\n",
       "      <td>99</td>\n",
       "    </tr>\n",
       "    <tr>\n",
       "      <th>Budget-Conscious</th>\n",
       "      <td>4.385468</td>\n",
       "      <td>1.000000</td>\n",
       "      <td>4.998077</td>\n",
       "      <td>13.003409</td>\n",
       "      <td>1</td>\n",
       "      <td>99</td>\n",
       "    </tr>\n",
       "    <tr>\n",
       "      <th>Late Shopper</th>\n",
       "      <td>7.773227</td>\n",
       "      <td>1.000000</td>\n",
       "      <td>15.800000</td>\n",
       "      <td>17.680155</td>\n",
       "      <td>1</td>\n",
       "      <td>99</td>\n",
       "    </tr>\n",
       "    <tr>\n",
       "      <th>New Parent</th>\n",
       "      <td>7.828636</td>\n",
       "      <td>1.425000</td>\n",
       "      <td>15.706667</td>\n",
       "      <td>19.885476</td>\n",
       "      <td>1</td>\n",
       "      <td>99</td>\n",
       "    </tr>\n",
       "    <tr>\n",
       "      <th>Other</th>\n",
       "      <td>7.737074</td>\n",
       "      <td>1.522222</td>\n",
       "      <td>18.233333</td>\n",
       "      <td>17.961748</td>\n",
       "      <td>1</td>\n",
       "      <td>99</td>\n",
       "    </tr>\n",
       "    <tr>\n",
       "      <th>Senior Shopper</th>\n",
       "      <td>7.711527</td>\n",
       "      <td>1.262500</td>\n",
       "      <td>19.400000</td>\n",
       "      <td>17.636148</td>\n",
       "      <td>1</td>\n",
       "      <td>99</td>\n",
       "    </tr>\n",
       "    <tr>\n",
       "      <th>Young Budget Single</th>\n",
       "      <td>6.491353</td>\n",
       "      <td>2.600000</td>\n",
       "      <td>7.000000</td>\n",
       "      <td>16.485326</td>\n",
       "      <td>1</td>\n",
       "      <td>99</td>\n",
       "    </tr>\n",
       "    <tr>\n",
       "      <th>Young Parent</th>\n",
       "      <td>7.785613</td>\n",
       "      <td>1.628571</td>\n",
       "      <td>14.900000</td>\n",
       "      <td>17.825653</td>\n",
       "      <td>1</td>\n",
       "      <td>99</td>\n",
       "    </tr>\n",
       "    <tr>\n",
       "      <th>Young Single Adult</th>\n",
       "      <td>7.871586</td>\n",
       "      <td>2.100000</td>\n",
       "      <td>14.761905</td>\n",
       "      <td>17.716474</td>\n",
       "      <td>1</td>\n",
       "      <td>99</td>\n",
       "    </tr>\n",
       "  </tbody>\n",
       "</table>\n",
       "</div>"
      ],
      "text/plain": [
       "                    avg_price_per_user                      order_number      \\\n",
       "                                  mean       min        max         mean min   \n",
       "profile                                                                        \n",
       "Affluent Family               7.954512  4.465854  20.114286    17.831184   1   \n",
       "Budget-Conscious              4.385468  1.000000   4.998077    13.003409   1   \n",
       "Late Shopper                  7.773227  1.000000  15.800000    17.680155   1   \n",
       "New Parent                    7.828636  1.425000  15.706667    19.885476   1   \n",
       "Other                         7.737074  1.522222  18.233333    17.961748   1   \n",
       "Senior Shopper                7.711527  1.262500  19.400000    17.636148   1   \n",
       "Young Budget Single           6.491353  2.600000   7.000000    16.485326   1   \n",
       "Young Parent                  7.785613  1.628571  14.900000    17.825653   1   \n",
       "Young Single Adult            7.871586  2.100000  14.761905    17.716474   1   \n",
       "\n",
       "                         \n",
       "                    max  \n",
       "profile                  \n",
       "Affluent Family      99  \n",
       "Budget-Conscious     99  \n",
       "Late Shopper         99  \n",
       "New Parent           99  \n",
       "Other                99  \n",
       "Senior Shopper       99  \n",
       "Young Budget Single  99  \n",
       "Young Parent         99  \n",
       "Young Single Adult   99  "
      ]
     },
     "execution_count": 63,
     "metadata": {},
     "output_type": "execute_result"
    }
   ],
   "source": [
    "agg_profiles"
   ]
  },
  {
   "cell_type": "code",
   "execution_count": 64,
   "id": "a0ff3938-228f-4b15-872c-8e2a6f0fd641",
   "metadata": {},
   "outputs": [],
   "source": [
    "# Export agg_profiles\n",
    "agg_profiles.to_pickle(os.path.join(path, '02 Data', 'Prepared Data', 'agg_customer_profiles_expenditure_frequency.pkl'))"
   ]
  },
  {
   "cell_type": "code",
   "execution_count": 88,
   "id": "c32a34fd-ac9f-47ed-87b7-4970374d11e8",
   "metadata": {},
   "outputs": [
    {
     "data": {
      "image/png": "[encoded data removed]",
      "text/plain": [
       "<Figure size 640x480 with 1 Axes>"
      ]
     },
     "metadata": {},
     "output_type": "display_data"
    }
   ],
   "source": [
    "# Create bar chart \n",
    "agg_bar_chart = agg_profiles.xs('mean', axis=1, level=1).plot.bar(\n",
    "    title='Avg Spend and Orders per Profile')\n",
    "plt.xticks(rotation=45, ha='right')\n",
    "plt.ylabel('Average Value')\n",
    "plt.xlabel('Profile')\n",
    "plt.tight_layout()\n",
    "plt.savefig('avg_spend_orders_by_profile.png', bbox_inches='tight')\n"
   ]
  },
  {
   "cell_type": "code",
   "execution_count": 87,
   "id": "c81a26a7-ee7f-4111-be13-586c2b2e2562",
   "metadata": {},
   "outputs": [],
   "source": [
    "# Export chart\n",
    "agg_bar_chart.figure.savefig(os.path.join(path, '04 Analysis', 'Visualisations', 'bar_avg_spend_orders_per_profile.png'))"
   ]
  },
  {
   "cell_type": "code",
   "execution_count": 89,
   "id": "1cc8567a-1bc5-42b9-901b-74351dcfdc6f",
   "metadata": {},
   "outputs": [
    {
     "data": {
      "image/png": "[encoded data removed]",
      "text/plain": [
       "<Figure size 640x480 with 1 Axes>"
      ]
     },
     "metadata": {},
     "output_type": "display_data"
    }
   ],
   "source": [
    "# Create a loyalty bar chart\n",
    "loyalty_bar = df_anon_high_dept['loyalty_flag'].value_counts().plot(kind='bar')\n",
    "plt.title(\"Distribution of Customers by Loyalty Segment\")\n",
    "plt.xlabel(\"Loyalty Flag\")\n",
    "plt.ylabel(\"Customer Count\")\n",
    "plt.xticks(rotation=0)\n",
    "plt.tight_layout()\n"
   ]
  },
  {
   "cell_type": "code",
   "execution_count": 91,
   "id": "842984f7-3d7c-4f60-826b-bfbf0063a3ba",
   "metadata": {},
   "outputs": [],
   "source": [
    "# Save and export bar chart\n",
    "loyalty_bar.figure.savefig(os.path.join(path, '04 Analysis', 'Visualisations', 'loyalty_flag_bar.png'))"
   ]
  },
  {
   "cell_type": "code",
   "execution_count": null,
   "id": "a514701b-6d36-457e-a039-059d6e0984aa",
   "metadata": {},
   "outputs": [],
   "source": []
  },
  {
   "cell_type": "code",
   "execution_count": null,
   "id": "361d8495-474c-4fb5-99b2-da3c90d8c117",
   "metadata": {},
   "outputs": [],
   "source": []
  },
  {
   "cell_type": "code",
   "execution_count": null,
   "id": "a5596e56-43cf-4b6a-b7d0-efe05763c263",
   "metadata": {},
   "outputs": [],
   "source": []
  },
  {
   "cell_type": "markdown",
   "id": "2da875f5-60e6-48e3-b9aa-c5cb9d29ae65",
   "metadata": {},
   "source": [
    "Question 8. Compare your customer profiles with regions and departments. Can you identify a link between them? Customers may demonstrate different behaviors across regions, which could make this information important."
   ]
  },
  {
   "cell_type": "markdown",
   "id": "07eefe43-1800-4086-bcb5-d31512a9643a",
   "metadata": {},
   "source": [
    "11. Comparison of Regions and Departments Based on Customer Profiles Visualisations"
   ]
  },
  {
   "cell_type": "code",
   "execution_count": 67,
   "id": "7763accd-b13d-4e69-b834-0113b1d8403c",
   "metadata": {},
   "outputs": [],
   "source": [
    "# Check how many users from each profile are in each region\n",
    "profile_region = df_anon_high_prof.groupby(['region', 'profile']).agg({'user_id': 'count'})"
   ]
  },
  {
   "cell_type": "code",
   "execution_count": 68,
   "id": "7e2914eb-0ac6-4049-9fec-273b32523760",
   "metadata": {},
   "outputs": [
    {
     "data": {
      "text/html": [
       "<div>\n",
       "<style scoped>\n",
       "    .dataframe tbody tr th:only-of-type {\n",
       "        vertical-align: middle;\n",
       "    }\n",
       "\n",
       "    .dataframe tbody tr th {\n",
       "        vertical-align: top;\n",
       "    }\n",
       "\n",
       "    .dataframe thead th {\n",
       "        text-align: right;\n",
       "    }\n",
       "</style>\n",
       "<table border=\"1\" class=\"dataframe\">\n",
       "  <thead>\n",
       "    <tr style=\"text-align: right;\">\n",
       "      <th></th>\n",
       "      <th></th>\n",
       "      <th>user_id</th>\n",
       "    </tr>\n",
       "    <tr>\n",
       "      <th>region</th>\n",
       "      <th>profile</th>\n",
       "      <th></th>\n",
       "    </tr>\n",
       "  </thead>\n",
       "  <tbody>\n",
       "    <tr>\n",
       "      <th rowspan=\"9\" valign=\"top\">Midwest</th>\n",
       "      <th>Affluent Family</th>\n",
       "      <td>1642249</td>\n",
       "    </tr>\n",
       "    <tr>\n",
       "      <th>Budget-Conscious</th>\n",
       "      <td>5197</td>\n",
       "    </tr>\n",
       "    <tr>\n",
       "      <th>Late Shopper</th>\n",
       "      <td>192473</td>\n",
       "    </tr>\n",
       "    <tr>\n",
       "      <th>New Parent</th>\n",
       "      <td>95563</td>\n",
       "    </tr>\n",
       "    <tr>\n",
       "      <th>Other</th>\n",
       "      <td>2027991</td>\n",
       "    </tr>\n",
       "    <tr>\n",
       "      <th>Senior Shopper</th>\n",
       "      <td>1551691</td>\n",
       "    </tr>\n",
       "    <tr>\n",
       "      <th>Young Budget Single</th>\n",
       "      <td>21297</td>\n",
       "    </tr>\n",
       "    <tr>\n",
       "      <th>Young Parent</th>\n",
       "      <td>1427032</td>\n",
       "    </tr>\n",
       "    <tr>\n",
       "      <th>Young Single Adult</th>\n",
       "      <td>304262</td>\n",
       "    </tr>\n",
       "    <tr>\n",
       "      <th rowspan=\"9\" valign=\"top\">Northeast</th>\n",
       "      <th>Affluent Family</th>\n",
       "      <td>1234549</td>\n",
       "    </tr>\n",
       "    <tr>\n",
       "      <th>Budget-Conscious</th>\n",
       "      <td>3921</td>\n",
       "    </tr>\n",
       "    <tr>\n",
       "      <th>Late Shopper</th>\n",
       "      <td>142100</td>\n",
       "    </tr>\n",
       "    <tr>\n",
       "      <th>New Parent</th>\n",
       "      <td>72465</td>\n",
       "    </tr>\n",
       "    <tr>\n",
       "      <th>Other</th>\n",
       "      <td>1473633</td>\n",
       "    </tr>\n",
       "    <tr>\n",
       "      <th>Senior Shopper</th>\n",
       "      <td>1210936</td>\n",
       "    </tr>\n",
       "    <tr>\n",
       "      <th>Young Budget Single</th>\n",
       "      <td>18787</td>\n",
       "    </tr>\n",
       "    <tr>\n",
       "      <th>Young Parent</th>\n",
       "      <td>1071485</td>\n",
       "    </tr>\n",
       "    <tr>\n",
       "      <th>Young Single Adult</th>\n",
       "      <td>242204</td>\n",
       "    </tr>\n",
       "    <tr>\n",
       "      <th rowspan=\"9\" valign=\"top\">South</th>\n",
       "      <th>Affluent Family</th>\n",
       "      <td>2260790</td>\n",
       "    </tr>\n",
       "    <tr>\n",
       "      <th>Budget-Conscious</th>\n",
       "      <td>8792</td>\n",
       "    </tr>\n",
       "    <tr>\n",
       "      <th>Late Shopper</th>\n",
       "      <td>273270</td>\n",
       "    </tr>\n",
       "    <tr>\n",
       "      <th>New Parent</th>\n",
       "      <td>139333</td>\n",
       "    </tr>\n",
       "    <tr>\n",
       "      <th>Other</th>\n",
       "      <td>2852011</td>\n",
       "    </tr>\n",
       "    <tr>\n",
       "      <th>Senior Shopper</th>\n",
       "      <td>2250602</td>\n",
       "    </tr>\n",
       "    <tr>\n",
       "      <th>Young Budget Single</th>\n",
       "      <td>34823</td>\n",
       "    </tr>\n",
       "    <tr>\n",
       "      <th>Young Parent</th>\n",
       "      <td>2048145</td>\n",
       "    </tr>\n",
       "    <tr>\n",
       "      <th>Young Single Adult</th>\n",
       "      <td>452895</td>\n",
       "    </tr>\n",
       "    <tr>\n",
       "      <th rowspan=\"9\" valign=\"top\">West</th>\n",
       "      <th>Affluent Family</th>\n",
       "      <td>1749977</td>\n",
       "    </tr>\n",
       "    <tr>\n",
       "      <th>Budget-Conscious</th>\n",
       "      <td>5554</td>\n",
       "    </tr>\n",
       "    <tr>\n",
       "      <th>Late Shopper</th>\n",
       "      <td>207515</td>\n",
       "    </tr>\n",
       "    <tr>\n",
       "      <th>New Parent</th>\n",
       "      <td>102284</td>\n",
       "    </tr>\n",
       "    <tr>\n",
       "      <th>Other</th>\n",
       "      <td>2225834</td>\n",
       "    </tr>\n",
       "    <tr>\n",
       "      <th>Senior Shopper</th>\n",
       "      <td>1730144</td>\n",
       "    </tr>\n",
       "    <tr>\n",
       "      <th>Young Budget Single</th>\n",
       "      <td>30923</td>\n",
       "    </tr>\n",
       "    <tr>\n",
       "      <th>Young Parent</th>\n",
       "      <td>1558085</td>\n",
       "    </tr>\n",
       "    <tr>\n",
       "      <th>Young Single Adult</th>\n",
       "      <td>324154</td>\n",
       "    </tr>\n",
       "  </tbody>\n",
       "</table>\n",
       "</div>"
      ],
      "text/plain": [
       "                               user_id\n",
       "region    profile                     \n",
       "Midwest   Affluent Family      1642249\n",
       "          Budget-Conscious        5197\n",
       "          Late Shopper          192473\n",
       "          New Parent             95563\n",
       "          Other                2027991\n",
       "          Senior Shopper       1551691\n",
       "          Young Budget Single    21297\n",
       "          Young Parent         1427032\n",
       "          Young Single Adult    304262\n",
       "Northeast Affluent Family      1234549\n",
       "          Budget-Conscious        3921\n",
       "          Late Shopper          142100\n",
       "          New Parent             72465\n",
       "          Other                1473633\n",
       "          Senior Shopper       1210936\n",
       "          Young Budget Single    18787\n",
       "          Young Parent         1071485\n",
       "          Young Single Adult    242204\n",
       "South     Affluent Family      2260790\n",
       "          Budget-Conscious        8792\n",
       "          Late Shopper          273270\n",
       "          New Parent            139333\n",
       "          Other                2852011\n",
       "          Senior Shopper       2250602\n",
       "          Young Budget Single    34823\n",
       "          Young Parent         2048145\n",
       "          Young Single Adult    452895\n",
       "West      Affluent Family      1749977\n",
       "          Budget-Conscious        5554\n",
       "          Late Shopper          207515\n",
       "          New Parent            102284\n",
       "          Other                2225834\n",
       "          Senior Shopper       1730144\n",
       "          Young Budget Single    30923\n",
       "          Young Parent         1558085\n",
       "          Young Single Adult    324154"
      ]
     },
     "execution_count": 68,
     "metadata": {},
     "output_type": "execute_result"
    }
   ],
   "source": [
    "# Check output\n",
    "profile_region"
   ]
  },
  {
   "cell_type": "code",
   "execution_count": 69,
   "id": "261ce870-8df2-4906-a655-9bda92efdbc7",
   "metadata": {},
   "outputs": [
    {
     "data": {
      "image/png": "[encoded data removed]",
      "text/plain": [
       "<Figure size 1200x600 with 1 Axes>"
      ]
     },
     "metadata": {},
     "output_type": "display_data"
    }
   ],
   "source": [
    "# Create a grouped bar chart for customer profiles in each region\n",
    "bar_profile_region = profile_region.unstack().plot(kind='bar', stacked=False, figsize=(12, 6))\n",
    "plt.title('Customer Profiles by Region')\n",
    "plt.xlabel('Region')\n",
    "plt.ylabel('Customer Count')\n",
    "\n",
    "plt.legend(title='Profile', bbox_to_anchor=(1.05, 1), loc='upper left')\n",
    "plt.tight_layout()\n"
   ]
  },
  {
   "cell_type": "code",
   "execution_count": 70,
   "id": "6e87416c-00a3-472e-a9e1-bdb9507b0648",
   "metadata": {},
   "outputs": [
    {
     "data": {
      "text/plain": [
       "<Axes: title={'center': 'Customer Profiles by Region (Stacked)'}, xlabel='region,profile'>"
      ]
     },
     "execution_count": 70,
     "metadata": {},
     "output_type": "execute_result"
    },
    {
     "data": {
      "image/png": "[encoded data removed]",
      "text/plain": [
       "<Figure size 640x480 with 1 Axes>"
      ]
     },
     "metadata": {},
     "output_type": "display_data"
    }
   ],
   "source": [
    "# Create a stacked bar chart\n",
    "profile_region.plot(kind='bar', stacked=True, title='Customer Profiles by Region (Stacked)')"
   ]
  },
  {
   "cell_type": "markdown",
   "id": "34e40807-683b-47b5-afa2-7dc418faa37c",
   "metadata": {},
   "source": [
    "The stacked is too messy but in the grouped, the key/legend is too large and the chart is unclear. I will export the grouped  "
   ]
  },
  {
   "cell_type": "code",
   "execution_count": 71,
   "id": "549ff5be-c986-447b-99c5-e874ec3fa02e",
   "metadata": {},
   "outputs": [],
   "source": [
    "# Export the grouped bar chart representing customer profiles per region\n",
    "bar_profile_region.figure.savefig(os.path.join(path, '04 Analysis', 'Visualisations', 'bar_profile_region.png'))"
   ]
  },
  {
   "cell_type": "code",
   "execution_count": null,
   "id": "003ff0bb-8aa8-4997-90ad-45b0b4143f85",
   "metadata": {},
   "outputs": [],
   "source": []
  },
  {
   "cell_type": "code",
   "execution_count": null,
   "id": "f93685f6-bedd-4483-ad7a-0dd94cff2670",
   "metadata": {},
   "outputs": [],
   "source": []
  },
  {
   "cell_type": "code",
   "execution_count": null,
   "id": "8f9ae3c0-5b53-49ad-a6d5-7b99c9501c41",
   "metadata": {},
   "outputs": [],
   "source": []
  },
  {
   "cell_type": "code",
   "execution_count": 72,
   "id": "8d095a9f-f96f-4093-921b-f054c47839d9",
   "metadata": {},
   "outputs": [],
   "source": [
    "# Check customer profiles per department\n",
    "department_profile = df_anon_high_prof.groupby(['department', 'profile'])['user_id'].count()"
   ]
  },
  {
   "cell_type": "code",
   "execution_count": 73,
   "id": "f89a22c1-7273-4bac-81fd-a8559f83d250",
   "metadata": {},
   "outputs": [
    {
     "data": {
      "text/plain": [
       "department  profile            \n",
       "alcohol     Affluent Family         31958\n",
       "            Budget-Conscious          127\n",
       "            Late Shopper             2225\n",
       "            Other                   41862\n",
       "            Senior Shopper          31496\n",
       "                                    ...  \n",
       "snacks      Other                  811448\n",
       "            Senior Shopper         648534\n",
       "            Young Budget Single     18406\n",
       "            Young Parent           556245\n",
       "            Young Single Adult     111560\n",
       "Name: user_id, Length: 162, dtype: int64"
      ]
     },
     "execution_count": 73,
     "metadata": {},
     "output_type": "execute_result"
    }
   ],
   "source": [
    "department_profile"
   ]
  },
  {
   "cell_type": "code",
   "execution_count": 74,
   "id": "bfb4541a-812f-455a-8019-c4455124730e",
   "metadata": {},
   "outputs": [],
   "source": [
    "# Crosstab region and department\n",
    "Cross_RegionDepartment = pd.crosstab(df_anon_high_prof['region'], df_anon_high_prof['department'], dropna=False)"
   ]
  },
  {
   "cell_type": "code",
   "execution_count": 75,
   "id": "5d7fac14-feca-4846-8743-ad3f1bda8d01",
   "metadata": {},
   "outputs": [
    {
     "data": {
      "text/html": [
       "<div>\n",
       "<style scoped>\n",
       "    .dataframe tbody tr th:only-of-type {\n",
       "        vertical-align: middle;\n",
       "    }\n",
       "\n",
       "    .dataframe tbody tr th {\n",
       "        vertical-align: top;\n",
       "    }\n",
       "\n",
       "    .dataframe thead th {\n",
       "        text-align: right;\n",
       "    }\n",
       "</style>\n",
       "<table border=\"1\" class=\"dataframe\">\n",
       "  <thead>\n",
       "    <tr style=\"text-align: right;\">\n",
       "      <th>department</th>\n",
       "      <th>alcohol</th>\n",
       "      <th>babies</th>\n",
       "      <th>bakery</th>\n",
       "      <th>beverages</th>\n",
       "      <th>breakfast</th>\n",
       "      <th>bulk</th>\n",
       "      <th>canned goods</th>\n",
       "      <th>dairy eggs</th>\n",
       "      <th>deli</th>\n",
       "      <th>dry goods pasta</th>\n",
       "      <th>...</th>\n",
       "      <th>international</th>\n",
       "      <th>meat seafood</th>\n",
       "      <th>missing</th>\n",
       "      <th>other</th>\n",
       "      <th>pantry</th>\n",
       "      <th>personal care</th>\n",
       "      <th>pets</th>\n",
       "      <th>produce</th>\n",
       "      <th>snacks</th>\n",
       "      <th>NaN</th>\n",
       "    </tr>\n",
       "    <tr>\n",
       "      <th>region</th>\n",
       "      <th></th>\n",
       "      <th></th>\n",
       "      <th></th>\n",
       "      <th></th>\n",
       "      <th></th>\n",
       "      <th></th>\n",
       "      <th></th>\n",
       "      <th></th>\n",
       "      <th></th>\n",
       "      <th></th>\n",
       "      <th></th>\n",
       "      <th></th>\n",
       "      <th></th>\n",
       "      <th></th>\n",
       "      <th></th>\n",
       "      <th></th>\n",
       "      <th></th>\n",
       "      <th></th>\n",
       "      <th></th>\n",
       "      <th></th>\n",
       "      <th></th>\n",
       "    </tr>\n",
       "  </thead>\n",
       "  <tbody>\n",
       "    <tr>\n",
       "      <th>Midwest</th>\n",
       "      <td>34043</td>\n",
       "      <td>95739</td>\n",
       "      <td>261753</td>\n",
       "      <td>598979</td>\n",
       "      <td>156155</td>\n",
       "      <td>7929</td>\n",
       "      <td>237459</td>\n",
       "      <td>1212345</td>\n",
       "      <td>234464</td>\n",
       "      <td>193463</td>\n",
       "      <td>...</td>\n",
       "      <td>60666</td>\n",
       "      <td>158260</td>\n",
       "      <td>15563</td>\n",
       "      <td>7983</td>\n",
       "      <td>420334</td>\n",
       "      <td>100398</td>\n",
       "      <td>21358</td>\n",
       "      <td>2134116</td>\n",
       "      <td>645143</td>\n",
       "      <td>6388</td>\n",
       "    </tr>\n",
       "    <tr>\n",
       "      <th>Northeast</th>\n",
       "      <td>25017</td>\n",
       "      <td>72712</td>\n",
       "      <td>199300</td>\n",
       "      <td>462929</td>\n",
       "      <td>117904</td>\n",
       "      <td>5599</td>\n",
       "      <td>176936</td>\n",
       "      <td>914532</td>\n",
       "      <td>178398</td>\n",
       "      <td>143817</td>\n",
       "      <td>...</td>\n",
       "      <td>44678</td>\n",
       "      <td>118571</td>\n",
       "      <td>11512</td>\n",
       "      <td>6268</td>\n",
       "      <td>312731</td>\n",
       "      <td>74765</td>\n",
       "      <td>17734</td>\n",
       "      <td>1593004</td>\n",
       "      <td>493154</td>\n",
       "      <td>5479</td>\n",
       "    </tr>\n",
       "    <tr>\n",
       "      <th>South</th>\n",
       "      <td>48813</td>\n",
       "      <td>139511</td>\n",
       "      <td>371620</td>\n",
       "      <td>859419</td>\n",
       "      <td>223172</td>\n",
       "      <td>11180</td>\n",
       "      <td>337458</td>\n",
       "      <td>1722847</td>\n",
       "      <td>333620</td>\n",
       "      <td>272813</td>\n",
       "      <td>...</td>\n",
       "      <td>84649</td>\n",
       "      <td>224120</td>\n",
       "      <td>21787</td>\n",
       "      <td>11579</td>\n",
       "      <td>591754</td>\n",
       "      <td>142496</td>\n",
       "      <td>29909</td>\n",
       "      <td>3027478</td>\n",
       "      <td>916780</td>\n",
       "      <td>9687</td>\n",
       "    </tr>\n",
       "    <tr>\n",
       "      <th>West</th>\n",
       "      <td>36754</td>\n",
       "      <td>102422</td>\n",
       "      <td>288155</td>\n",
       "      <td>650574</td>\n",
       "      <td>173619</td>\n",
       "      <td>8743</td>\n",
       "      <td>260221</td>\n",
       "      <td>1326944</td>\n",
       "      <td>257352</td>\n",
       "      <td>212043</td>\n",
       "      <td>...</td>\n",
       "      <td>65998</td>\n",
       "      <td>173830</td>\n",
       "      <td>15906</td>\n",
       "      <td>8581</td>\n",
       "      <td>457886</td>\n",
       "      <td>106647</td>\n",
       "      <td>24059</td>\n",
       "      <td>2324678</td>\n",
       "      <td>711329</td>\n",
       "      <td>7365</td>\n",
       "    </tr>\n",
       "  </tbody>\n",
       "</table>\n",
       "<p>4 rows × 22 columns</p>\n",
       "</div>"
      ],
      "text/plain": [
       "department  alcohol  babies  bakery  beverages  breakfast   bulk  \\\n",
       "region                                                             \n",
       "Midwest       34043   95739  261753     598979     156155   7929   \n",
       "Northeast     25017   72712  199300     462929     117904   5599   \n",
       "South         48813  139511  371620     859419     223172  11180   \n",
       "West          36754  102422  288155     650574     173619   8743   \n",
       "\n",
       "department  canned goods  dairy eggs    deli  dry goods pasta  ...  \\\n",
       "region                                                         ...   \n",
       "Midwest           237459     1212345  234464           193463  ...   \n",
       "Northeast         176936      914532  178398           143817  ...   \n",
       "South             337458     1722847  333620           272813  ...   \n",
       "West              260221     1326944  257352           212043  ...   \n",
       "\n",
       "department  international  meat seafood  missing  other  pantry  \\\n",
       "region                                                            \n",
       "Midwest             60666        158260    15563   7983  420334   \n",
       "Northeast           44678        118571    11512   6268  312731   \n",
       "South               84649        224120    21787  11579  591754   \n",
       "West                65998        173830    15906   8581  457886   \n",
       "\n",
       "department  personal care   pets  produce  snacks   NaN  \n",
       "region                                                   \n",
       "Midwest            100398  21358  2134116  645143  6388  \n",
       "Northeast           74765  17734  1593004  493154  5479  \n",
       "South              142496  29909  3027478  916780  9687  \n",
       "West               106647  24059  2324678  711329  7365  \n",
       "\n",
       "[4 rows x 22 columns]"
      ]
     },
     "execution_count": 75,
     "metadata": {},
     "output_type": "execute_result"
    }
   ],
   "source": [
    "Cross_RegionDepartment"
   ]
  },
  {
   "cell_type": "code",
   "execution_count": 76,
   "id": "8cfc3f0a-bc89-4570-9356-723dbea67cbb",
   "metadata": {},
   "outputs": [],
   "source": [
    "# Save crosstab to clipboard\n",
    "Cross_RegionDepartment.to_clipboard()"
   ]
  },
  {
   "cell_type": "code",
   "execution_count": null,
   "id": "ebc521b1-53a8-48df-9a1f-b46ccb09355b",
   "metadata": {},
   "outputs": [],
   "source": []
  },
  {
   "cell_type": "code",
   "execution_count": 107,
   "id": "e1b01ddc-f283-46ff-86c2-65d80226097b",
   "metadata": {},
   "outputs": [
    {
     "data": {
      "image/png": "[encoded data removed]",
      "text/plain": [
       "<Figure size 1200x600 with 1 Axes>"
      ]
     },
     "metadata": {},
     "output_type": "display_data"
    }
   ],
   "source": [
    "# Create the chart with the legend outside of the chart\n",
    "crosstab_bar_region_department = Cross_RegionDepartment.plot(kind='barh', figsize=(12, 6),colormap='tab20')\n",
    "\n",
    "plt.title('Department Orders by Region')\n",
    "plt.xlabel('Order Count')\n",
    "plt.ylabel('Region')\n",
    "plt.legend(\n",
    "    title='Department',\n",
    "    bbox_to_anchor=(1.05, 1),\n",
    "    loc='upper left'\n",
    ")\n",
    "\n",
    "plt.tight_layout()\n",
    "plt.show()\n"
   ]
  },
  {
   "cell_type": "code",
   "execution_count": 98,
   "id": "ab06395e-449e-404c-95be-2b970da40a28",
   "metadata": {},
   "outputs": [],
   "source": [
    "# Export department orders by region\n",
    "crosstab_bar_region_department.figure.savefig(os.path.join(path, '04 Analysis', 'Visualisations', 'bar_department_orders_by_region.png'))"
   ]
  },
  {
   "cell_type": "markdown",
   "id": "92d782fd-8aad-4fc2-aef8-8d0e54f05375",
   "metadata": {},
   "source": [
    "as this chart contains so many departments, I will filter it down to the top departments"
   ]
  },
  {
   "cell_type": "code",
   "execution_count": 109,
   "id": "60492c90-a25e-4219-b55a-c50c6ef82245",
   "metadata": {},
   "outputs": [],
   "source": [
    "# Identify top departments\n",
    "top_departments = Cross_RegionDepartment.sum(axis=0).nlargest(10).index"
   ]
  },
  {
   "cell_type": "code",
   "execution_count": 110,
   "id": "2b34f9f9-f232-4142-bdf2-540a54a40d24",
   "metadata": {},
   "outputs": [],
   "source": [
    "# Filter the crosstab\n",
    "filtered_crosstab = Cross_RegionDepartment[top_departments]"
   ]
  },
  {
   "cell_type": "code",
   "execution_count": 113,
   "id": "b3a019c0-cc20-47e7-a1ab-891ae825d91f",
   "metadata": {},
   "outputs": [
    {
     "data": {
      "image/png": "[encoded data removed]",
      "text/plain": [
       "<Figure size 1200x600 with 1 Axes>"
      ]
     },
     "metadata": {},
     "output_type": "display_data"
    }
   ],
   "source": [
    "# Create bar chart\n",
    "dep_ords_region = filtered_crosstab.plot(\n",
    "    kind='barh',\n",
    "    figsize=(12, 6),\n",
    "    colormap='tab10')\n",
    "\n",
    "plt.title('Top Department Orders by Region')\n",
    "plt.xlabel('Order Count')\n",
    "plt.ylabel('Region')\n",
    "plt.legend(title='Department', bbox_to_anchor=(1.05, 1), loc='upper left')\n",
    "plt.tight_layout()\n",
    "plt.show()\n"
   ]
  },
  {
   "cell_type": "code",
   "execution_count": 114,
   "id": "e038f251-3807-4919-9262-959c41962b64",
   "metadata": {},
   "outputs": [],
   "source": [
    "# Export and Save\n",
    "dep_ords_region.figure.savefig(os.path.join(path, '04 Analysis', 'Visualisations', 'bar_crosstab_departments_regions.png'))"
   ]
  },
  {
   "cell_type": "code",
   "execution_count": null,
   "id": "3a51e70e-2579-4935-9f59-385cc21870d4",
   "metadata": {},
   "outputs": [],
   "source": []
  },
  {
   "cell_type": "code",
   "execution_count": 80,
   "id": "5bbbffd2-7a80-4fd6-ad11-e6c39122d2a0",
   "metadata": {},
   "outputs": [],
   "source": [
    "profile_dept = department_profile.sort_values(ascending=False)"
   ]
  },
  {
   "cell_type": "code",
   "execution_count": 81,
   "id": "7d38671f-46ba-4fe8-84ec-da68f5201a68",
   "metadata": {},
   "outputs": [
    {
     "data": {
      "image/png": "[encoded data removed]",
      "text/plain": [
       "<Figure size 1200x600 with 1 Axes>"
      ]
     },
     "metadata": {},
     "output_type": "display_data"
    }
   ],
   "source": [
    "bar_profile_department = profile_dept.unstack().plot(kind='bar', figsize=(12, 6))\n",
    "\n",
    "plt.title(\"Customer Profiles by Department\")\n",
    "plt.xlabel(\"Department\")\n",
    "plt.ylabel(\"Order Count\")\n",
    "\n",
    "plt.legend(title='Profile', bbox_to_anchor=(1.05, 1), loc='upper left')\n",
    "plt.tight_layout()\n"
   ]
  },
  {
   "cell_type": "code",
   "execution_count": 82,
   "id": "a17ced55-f029-49f7-9f2c-82ac9d7fd30c",
   "metadata": {},
   "outputs": [],
   "source": [
    "# Export department grouped bar chart\n",
    "bar_profile_department.figure.savefig(os.path.join(path, '04 Analysis', 'Visualisations', 'bar_profile_department.png'))"
   ]
  },
  {
   "cell_type": "markdown",
   "id": "4d573ba0-9563-4214-b505-8b9685a0402d",
   "metadata": {},
   "source": [
    "I created three charts to comapre customer profiles by region and department. From the charts I found tha South has the highest number of orders across all profiles. The Northeast has the least. 'Affluent Family' and 'Young Parent' dominate departments like Produce and Dairy. The South and the West lead in Frozen foods.  \n"
   ]
  },
  {
   "cell_type": "code",
   "execution_count": null,
   "id": "8fbdbbfa-2d3e-4396-b25a-6f25cad0da9e",
   "metadata": {},
   "outputs": [],
   "source": []
  },
  {
   "cell_type": "code",
   "execution_count": null,
   "id": "16eece81-70de-4f3f-ba32-97656715d3eb",
   "metadata": {},
   "outputs": [],
   "source": []
  },
  {
   "cell_type": "code",
   "execution_count": null,
   "id": "6d4b76ab-195a-44fd-9346-5fd5a1f0fc7d",
   "metadata": {},
   "outputs": [],
   "source": []
  },
  {
   "cell_type": "markdown",
   "id": "15a58b55-91bf-406c-8c34-d896fca08684",
   "metadata": {},
   "source": [
    "For my final report, I had to come back and create a bar chart for customer orders by loyalty"
   ]
  },
  {
   "cell_type": "code",
   "execution_count": 93,
   "id": "1c425658-2777-4fd8-9f46-d588de6e6ffe",
   "metadata": {},
   "outputs": [
    {
     "data": {
      "image/png": "[encoded data removed]",
      "text/plain": [
       "<Figure size 640x480 with 1 Axes>"
      ]
     },
     "metadata": {},
     "output_type": "display_data"
    }
   ],
   "source": [
    "# Create a bar chart showing orders using loyalty flag\n",
    "loyalty_orders_bar = df_anon_high_dept.groupby('loyalty_flag')['order_number'].mean().plot(kind='bar')\n",
    "plt.title(\"Avg Number of Orders by Loyalty Segment\")\n",
    "plt.xlabel(\"Loyalty Segment\")\n",
    "plt.ylabel(\"Avg Order Number\")\n",
    "plt.tight_layout()\n"
   ]
  },
  {
   "cell_type": "code",
   "execution_count": 94,
   "id": "9b10c5a7-aca5-4742-8aed-34710c76d85e",
   "metadata": {},
   "outputs": [],
   "source": [
    "# Export and save bar chart\n",
    "loyalty_orders_bar.figure.savefig(os.path.join(path, '04 Analysis', 'Visualisations', 'loyalty_orders_bar.png'))"
   ]
  },
  {
   "cell_type": "code",
   "execution_count": null,
   "id": "a6eba352-07dd-46cc-a474-688e9c9ace5f",
   "metadata": {},
   "outputs": [],
   "source": []
  },
  {
   "cell_type": "markdown",
   "id": "d27dfdbe-7d0e-47e3-82aa-b4b55cebb052",
   "metadata": {},
   "source": [
    "11. Export Dataframes"
   ]
  },
  {
   "cell_type": "code",
   "execution_count": null,
   "id": "6e55d5dc-94b6-4dad-ada7-e1cf5ddd4e98",
   "metadata": {},
   "outputs": [],
   "source": []
  },
  {
   "cell_type": "code",
   "execution_count": 83,
   "id": "40ab2e24-ac38-42bc-b642-9b8b5b3c5597",
   "metadata": {},
   "outputs": [],
   "source": [
    "# Export original dataframe\n",
    "df_merged.to_pickle(os.path.join(path, '02 Data', 'Prepared Data', 'ords_prods_cust_merged.pkl'))"
   ]
  },
  {
   "cell_type": "code",
   "execution_count": 84,
   "id": "920473fa-c781-49b0-9e69-622c3b9767fa",
   "metadata": {},
   "outputs": [],
   "source": [
    "# Export df_merged_anon_high\n",
    "df_anon_high.to_pickle(os.path.join(path, '02 Data', 'Prepared Data', 'high_activity_customers.pkl'))"
   ]
  },
  {
   "cell_type": "code",
   "execution_count": 85,
   "id": "fab97932-1aed-453c-8dc1-7d28a983ac30",
   "metadata": {},
   "outputs": [],
   "source": [
    "# Export high activity customers with profiles dataframe \n",
    "df_anon_high_dept.to_pickle(os.path.join(path, '02 Data', 'Prepared Data', 'high_activity_customers_with_profiles.pkl'))"
   ]
  },
  {
   "cell_type": "code",
   "execution_count": null,
   "id": "2486e59a-26a2-4bb5-81b5-f95ec19e5a08",
   "metadata": {},
   "outputs": [],
   "source": []
  }
 ],
 "metadata": {
  "kernelspec": {
   "display_name": "Python [conda env:base] *",
   "language": "python",
   "name": "conda-base-py"
  },
  "language_info": {
   "codemirror_mode": {
    "name": "ipython",
    "version": 3
   },
   "file_extension": ".py",
   "mimetype": "text/x-python",
   "name": "python",
   "nbconvert_exporter": "python",
   "pygments_lexer": "ipython3",
   "version": "3.12.7"
  }
 },
 "nbformat": 4,
 "nbformat_minor": 5
}
