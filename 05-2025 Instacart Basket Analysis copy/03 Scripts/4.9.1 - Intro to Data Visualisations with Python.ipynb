{
 "cells": [
  {
   "cell_type": "markdown",
   "id": "eedb08dd-a10a-45cf-82e3-ff9a4f2b146b",
   "metadata": {},
   "source": [
    "Table of Contents"
   ]
  },
  {
   "cell_type": "markdown",
   "id": "dbb38e3a-6c25-4f8d-b269-95c3e819d696",
   "metadata": {},
   "source": [
    "1. Import Libraies"
   ]
  },
  {
   "cell_type": "markdown",
   "id": "8ae120f2-a69d-45b7-85c8-92386e6b5c0f",
   "metadata": {},
   "source": [
    "2. Import Data"
   ]
  },
  {
   "cell_type": "markdown",
   "id": "815cc97b-a15a-49c5-bd8a-aa0fe9ba263b",
   "metadata": {},
   "source": [
    "3. Wrangle the Data (Customer Dataframe)"
   ]
  },
  {
   "cell_type": "markdown",
   "id": "a200a8c2-fb05-4fbb-8b68-29d3b105c030",
   "metadata": {},
   "source": [
    "4. Data Consistency Checks"
   ]
  },
  {
   "cell_type": "markdown",
   "id": "10a8b3fc-0ef3-4680-be67-61f053ba7a79",
   "metadata": {},
   "source": [
    "5. Import ords_prods_merge dataframe"
   ]
  },
  {
   "cell_type": "markdown",
   "id": "52b7d039-f31f-481b-bf99-9bba9bfa2038",
   "metadata": {},
   "source": [
    "6. Check Data Types of Both Dataframes and Change if Applicable"
   ]
  },
  {
   "cell_type": "markdown",
   "id": "19bf641e-1c4b-4efd-8951-4644ce1372c6",
   "metadata": {},
   "source": [
    "7. Combine df_customers with df_ords_prods_merge on 'user_id' column and check merge"
   ]
  },
  {
   "cell_type": "markdown",
   "id": "0f8ff9e8-b210-454c-a8e5-42ed30204fe3",
   "metadata": {},
   "source": [
    "8. Export Dataframe"
   ]
  },
  {
   "cell_type": "code",
   "execution_count": null,
   "id": "198e5b1d-c98b-49f6-a6e2-84cdbac9fff1",
   "metadata": {},
   "outputs": [],
   "source": []
  },
  {
   "cell_type": "markdown",
   "id": "67843bb2-8446-4276-8b3b-5e3c1842c40e",
   "metadata": {},
   "source": [
    "Question 3. Import Libraries and New Customer Data Set"
   ]
  },
  {
   "cell_type": "markdown",
   "id": "464936c2-59f0-4e57-9686-1f6e07a720ba",
   "metadata": {},
   "source": [
    "1. Import Libraries"
   ]
  },
  {
   "cell_type": "code",
   "execution_count": 35,
   "id": "d509ccbd-c7b2-4bd8-bedb-f69444d6c67f",
   "metadata": {},
   "outputs": [],
   "source": [
    "# Import libraries\n",
    "import pandas as pd\n",
    "import numpy as np\n",
    "import os\n",
    "import matplotlib.pyplot as plt\n",
    "import seaborn as sns\n",
    "import scipy"
   ]
  },
  {
   "cell_type": "markdown",
   "id": "72b77f0d-a7a4-4273-889e-0663c92de3de",
   "metadata": {},
   "source": [
    "2. Import Data"
   ]
  },
  {
   "cell_type": "code",
   "execution_count": 36,
   "id": "a7e7fc5d-786a-478d-9ac1-1fc27210394e",
   "metadata": {},
   "outputs": [],
   "source": [
    "# Create path\n",
    "path = '/Users/ianfleming/Desktop/05-2025 Instacart Basket Analysis'"
   ]
  },
  {
   "cell_type": "code",
   "execution_count": 37,
   "id": "2bdccc33-f50e-482c-b970-2e039e467caa",
   "metadata": {},
   "outputs": [],
   "source": [
    "# Import new customer data set as dataframe\n",
    "df_customers = pd.read_csv(os.path.join(path, '02 Data', 'Original Data', 'customers.csv'))"
   ]
  },
  {
   "cell_type": "code",
   "execution_count": 38,
   "id": "39409d86-c7ee-4959-b4dd-f7158b0a21c4",
   "metadata": {},
   "outputs": [
    {
     "data": {
      "text/html": [
       "<div>\n",
       "<style scoped>\n",
       "    .dataframe tbody tr th:only-of-type {\n",
       "        vertical-align: middle;\n",
       "    }\n",
       "\n",
       "    .dataframe tbody tr th {\n",
       "        vertical-align: top;\n",
       "    }\n",
       "\n",
       "    .dataframe thead th {\n",
       "        text-align: right;\n",
       "    }\n",
       "</style>\n",
       "<table border=\"1\" class=\"dataframe\">\n",
       "  <thead>\n",
       "    <tr style=\"text-align: right;\">\n",
       "      <th></th>\n",
       "      <th>user_id</th>\n",
       "      <th>First Name</th>\n",
       "      <th>Surnam</th>\n",
       "      <th>Gender</th>\n",
       "      <th>STATE</th>\n",
       "      <th>Age</th>\n",
       "      <th>date_joined</th>\n",
       "      <th>n_dependants</th>\n",
       "      <th>fam_status</th>\n",
       "      <th>income</th>\n",
       "    </tr>\n",
       "  </thead>\n",
       "  <tbody>\n",
       "    <tr>\n",
       "      <th>0</th>\n",
       "      <td>26711</td>\n",
       "      <td>Deborah</td>\n",
       "      <td>Esquivel</td>\n",
       "      <td>Female</td>\n",
       "      <td>Missouri</td>\n",
       "      <td>48</td>\n",
       "      <td>1/1/2017</td>\n",
       "      <td>3</td>\n",
       "      <td>married</td>\n",
       "      <td>165665</td>\n",
       "    </tr>\n",
       "    <tr>\n",
       "      <th>1</th>\n",
       "      <td>33890</td>\n",
       "      <td>Patricia</td>\n",
       "      <td>Hart</td>\n",
       "      <td>Female</td>\n",
       "      <td>New Mexico</td>\n",
       "      <td>36</td>\n",
       "      <td>1/1/2017</td>\n",
       "      <td>0</td>\n",
       "      <td>single</td>\n",
       "      <td>59285</td>\n",
       "    </tr>\n",
       "    <tr>\n",
       "      <th>2</th>\n",
       "      <td>65803</td>\n",
       "      <td>Kenneth</td>\n",
       "      <td>Farley</td>\n",
       "      <td>Male</td>\n",
       "      <td>Idaho</td>\n",
       "      <td>35</td>\n",
       "      <td>1/1/2017</td>\n",
       "      <td>2</td>\n",
       "      <td>married</td>\n",
       "      <td>99568</td>\n",
       "    </tr>\n",
       "    <tr>\n",
       "      <th>3</th>\n",
       "      <td>125935</td>\n",
       "      <td>Michelle</td>\n",
       "      <td>Hicks</td>\n",
       "      <td>Female</td>\n",
       "      <td>Iowa</td>\n",
       "      <td>40</td>\n",
       "      <td>1/1/2017</td>\n",
       "      <td>0</td>\n",
       "      <td>single</td>\n",
       "      <td>42049</td>\n",
       "    </tr>\n",
       "    <tr>\n",
       "      <th>4</th>\n",
       "      <td>130797</td>\n",
       "      <td>Ann</td>\n",
       "      <td>Gilmore</td>\n",
       "      <td>Female</td>\n",
       "      <td>Maryland</td>\n",
       "      <td>26</td>\n",
       "      <td>1/1/2017</td>\n",
       "      <td>1</td>\n",
       "      <td>married</td>\n",
       "      <td>40374</td>\n",
       "    </tr>\n",
       "    <tr>\n",
       "      <th>...</th>\n",
       "      <td>...</td>\n",
       "      <td>...</td>\n",
       "      <td>...</td>\n",
       "      <td>...</td>\n",
       "      <td>...</td>\n",
       "      <td>...</td>\n",
       "      <td>...</td>\n",
       "      <td>...</td>\n",
       "      <td>...</td>\n",
       "      <td>...</td>\n",
       "    </tr>\n",
       "    <tr>\n",
       "      <th>206204</th>\n",
       "      <td>168073</td>\n",
       "      <td>Lisa</td>\n",
       "      <td>Case</td>\n",
       "      <td>Female</td>\n",
       "      <td>North Carolina</td>\n",
       "      <td>44</td>\n",
       "      <td>4/1/2020</td>\n",
       "      <td>1</td>\n",
       "      <td>married</td>\n",
       "      <td>148828</td>\n",
       "    </tr>\n",
       "    <tr>\n",
       "      <th>206205</th>\n",
       "      <td>49635</td>\n",
       "      <td>Jeremy</td>\n",
       "      <td>Robbins</td>\n",
       "      <td>Male</td>\n",
       "      <td>Hawaii</td>\n",
       "      <td>62</td>\n",
       "      <td>4/1/2020</td>\n",
       "      <td>3</td>\n",
       "      <td>married</td>\n",
       "      <td>168639</td>\n",
       "    </tr>\n",
       "    <tr>\n",
       "      <th>206206</th>\n",
       "      <td>135902</td>\n",
       "      <td>Doris</td>\n",
       "      <td>Richmond</td>\n",
       "      <td>Female</td>\n",
       "      <td>Missouri</td>\n",
       "      <td>66</td>\n",
       "      <td>4/1/2020</td>\n",
       "      <td>2</td>\n",
       "      <td>married</td>\n",
       "      <td>53374</td>\n",
       "    </tr>\n",
       "    <tr>\n",
       "      <th>206207</th>\n",
       "      <td>81095</td>\n",
       "      <td>Rose</td>\n",
       "      <td>Rollins</td>\n",
       "      <td>Female</td>\n",
       "      <td>California</td>\n",
       "      <td>27</td>\n",
       "      <td>4/1/2020</td>\n",
       "      <td>1</td>\n",
       "      <td>married</td>\n",
       "      <td>99799</td>\n",
       "    </tr>\n",
       "    <tr>\n",
       "      <th>206208</th>\n",
       "      <td>80148</td>\n",
       "      <td>Cynthia</td>\n",
       "      <td>Noble</td>\n",
       "      <td>Female</td>\n",
       "      <td>New York</td>\n",
       "      <td>55</td>\n",
       "      <td>4/1/2020</td>\n",
       "      <td>1</td>\n",
       "      <td>married</td>\n",
       "      <td>57095</td>\n",
       "    </tr>\n",
       "  </tbody>\n",
       "</table>\n",
       "<p>206209 rows × 10 columns</p>\n",
       "</div>"
      ],
      "text/plain": [
       "        user_id First Name    Surnam  Gender           STATE  Age date_joined  \\\n",
       "0         26711    Deborah  Esquivel  Female        Missouri   48    1/1/2017   \n",
       "1         33890   Patricia      Hart  Female      New Mexico   36    1/1/2017   \n",
       "2         65803    Kenneth    Farley    Male           Idaho   35    1/1/2017   \n",
       "3        125935   Michelle     Hicks  Female            Iowa   40    1/1/2017   \n",
       "4        130797        Ann   Gilmore  Female        Maryland   26    1/1/2017   \n",
       "...         ...        ...       ...     ...             ...  ...         ...   \n",
       "206204   168073       Lisa      Case  Female  North Carolina   44    4/1/2020   \n",
       "206205    49635     Jeremy   Robbins    Male          Hawaii   62    4/1/2020   \n",
       "206206   135902      Doris  Richmond  Female        Missouri   66    4/1/2020   \n",
       "206207    81095       Rose   Rollins  Female      California   27    4/1/2020   \n",
       "206208    80148    Cynthia     Noble  Female        New York   55    4/1/2020   \n",
       "\n",
       "        n_dependants fam_status  income  \n",
       "0                  3    married  165665  \n",
       "1                  0     single   59285  \n",
       "2                  2    married   99568  \n",
       "3                  0     single   42049  \n",
       "4                  1    married   40374  \n",
       "...              ...        ...     ...  \n",
       "206204             1    married  148828  \n",
       "206205             3    married  168639  \n",
       "206206             2    married   53374  \n",
       "206207             1    married   99799  \n",
       "206208             1    married   57095  \n",
       "\n",
       "[206209 rows x 10 columns]"
      ]
     },
     "execution_count": 38,
     "metadata": {},
     "output_type": "execute_result"
    }
   ],
   "source": [
    "# Check import\n",
    "df_customers"
   ]
  },
  {
   "cell_type": "markdown",
   "id": "5531724f-f265-4cd8-b4fb-7120ba9dc31e",
   "metadata": {},
   "source": [
    "Question 4. Wrangle the Data "
   ]
  },
  {
   "cell_type": "markdown",
   "id": "ce579cc4-88e7-4276-9ac7-8689bf5f9406",
   "metadata": {},
   "source": [
    "3. Wrangle the Data"
   ]
  },
  {
   "cell_type": "markdown",
   "id": "43452e15-ce1e-4719-9655-ed76f906cab0",
   "metadata": {},
   "source": [
    "Rename columns for consistencies"
   ]
  },
  {
   "cell_type": "code",
   "execution_count": 39,
   "id": "402fc654-0064-4c50-ae06-ed0b599a14bb",
   "metadata": {},
   "outputs": [],
   "source": [
    "# Rename columns\n",
    "df_customers.rename(columns = {'First Name' : 'first_name', 'Surnam' : 'last_name', 'Gender' : 'gender', 'STATE' : 'state', 'Age' : 'age', 'n_dependants' : 'n_dependents'}, inplace = True)"
   ]
  },
  {
   "cell_type": "raw",
   "id": "a86d45d9-ceb9-4d8d-8704-85ac1c5b3290",
   "metadata": {},
   "source": []
  },
  {
   "cell_type": "code",
   "execution_count": 40,
   "id": "c496d207-8a70-4f78-8747-278baae2caf6",
   "metadata": {},
   "outputs": [
    {
     "data": {
      "text/plain": [
       "Index(['user_id', 'first_name', 'last_name', 'gender', 'state', 'age',\n",
       "       'date_joined', 'n_dependents', 'fam_status', 'income'],\n",
       "      dtype='object')"
      ]
     },
     "execution_count": 40,
     "metadata": {},
     "output_type": "execute_result"
    }
   ],
   "source": [
    "# Check column names\n",
    "df_customers.columns"
   ]
  },
  {
   "cell_type": "code",
   "execution_count": null,
   "id": "33920f30-a64c-4a34-9b37-8103ed66b15b",
   "metadata": {},
   "outputs": [],
   "source": []
  },
  {
   "cell_type": "markdown",
   "id": "83cf5ecf-8435-4588-83e3-d21aa5ed23e5",
   "metadata": {},
   "source": [
    "4. Data Consistency Checks "
   ]
  },
  {
   "cell_type": "markdown",
   "id": "77a53b39-be5b-4cca-b789-e2e451f77db5",
   "metadata": {},
   "source": [
    "Checking Data Types"
   ]
  },
  {
   "cell_type": "code",
   "execution_count": 41,
   "id": "9ec3d0bf-50d6-47f4-8729-0cd6fb9862c3",
   "metadata": {},
   "outputs": [
    {
     "data": {
      "text/plain": [
       "user_id          int64\n",
       "first_name      object\n",
       "last_name       object\n",
       "gender          object\n",
       "state           object\n",
       "age              int64\n",
       "date_joined     object\n",
       "n_dependents     int64\n",
       "fam_status      object\n",
       "income           int64\n",
       "dtype: object"
      ]
     },
     "execution_count": 41,
     "metadata": {},
     "output_type": "execute_result"
    }
   ],
   "source": [
    "# Check data types\n",
    "df_customers.dtypes"
   ]
  },
  {
   "cell_type": "code",
   "execution_count": 42,
   "id": "42c0988d-1bcb-4a59-86cf-d3b6a84305b5",
   "metadata": {},
   "outputs": [
    {
     "data": {
      "text/plain": [
       "array(['Female', 'Male'], dtype=object)"
      ]
     },
     "execution_count": 42,
     "metadata": {},
     "output_type": "execute_result"
    }
   ],
   "source": [
    "# Check unique values in 'gender' column\n",
    "df_customers['gender'].unique()"
   ]
  },
  {
   "cell_type": "code",
   "execution_count": 43,
   "id": "41c02d84-502e-44f0-9d4f-3db39b07cb0c",
   "metadata": {},
   "outputs": [
    {
     "data": {
      "text/plain": [
       "array(['married', 'single', 'living with parents and siblings',\n",
       "       'divorced/widowed'], dtype=object)"
      ]
     },
     "execution_count": 43,
     "metadata": {},
     "output_type": "execute_result"
    }
   ],
   "source": [
    "# Check unique values in 'fam_status' column\n",
    "df_customers['fam_status'].unique()"
   ]
  },
  {
   "cell_type": "code",
   "execution_count": 44,
   "id": "faac484a-5e45-44f9-95f5-5c793a59b95b",
   "metadata": {},
   "outputs": [
    {
     "data": {
      "text/plain": [
       "array(['Missouri', 'New Mexico', 'Idaho', 'Iowa', 'Maryland', 'Kentucky',\n",
       "       'Montana', 'South Carolina', 'Texas', 'Virginia', 'Nevada',\n",
       "       'Nebraska', 'Georgia', 'Wyoming', 'Colorado', 'North Dakota',\n",
       "       'Wisconsin', 'Alaska', 'Vermont', 'Arkansas', 'Maine',\n",
       "       'North Carolina', 'West Virginia', 'Indiana', 'Oregon', 'Florida',\n",
       "       'California', 'Pennsylvania', 'Ohio', 'Connecticut', 'Arizona',\n",
       "       'Louisiana', 'Washington', 'New York', 'Mississippi', 'Oklahoma',\n",
       "       'Utah', 'New Hampshire', 'Hawaii', 'District of Columbia',\n",
       "       'Alabama', 'Massachusetts', 'Rhode Island', 'Michigan',\n",
       "       'New Jersey', 'Kansas', 'South Dakota', 'Minnesota', 'Illinois',\n",
       "       'Tennessee', 'Delaware'], dtype=object)"
      ]
     },
     "execution_count": 44,
     "metadata": {},
     "output_type": "execute_result"
    }
   ],
   "source": [
    "# Check unique values in 'state' column\n",
    "df_customers['state'].unique()"
   ]
  },
  {
   "cell_type": "code",
   "execution_count": 45,
   "id": "18741496-56b3-4a9d-939f-a1ec4dbf0c53",
   "metadata": {},
   "outputs": [
    {
     "data": {
      "text/plain": [
       "gender\n",
       "Male      104067\n",
       "Female    102142\n",
       "Name: count, dtype: int64"
      ]
     },
     "execution_count": 45,
     "metadata": {},
     "output_type": "execute_result"
    }
   ],
   "source": [
    "# Check counts in 'gender' column\n",
    "df_customers['gender'].value_counts(dropna=False)"
   ]
  },
  {
   "cell_type": "code",
   "execution_count": 46,
   "id": "83ee1d7e-fe28-41c8-8083-be857799c19e",
   "metadata": {},
   "outputs": [
    {
     "data": {
      "text/plain": [
       "fam_status\n",
       "married                             144906\n",
       "single                               33962\n",
       "divorced/widowed                     17640\n",
       "living with parents and siblings      9701\n",
       "Name: count, dtype: int64"
      ]
     },
     "execution_count": 46,
     "metadata": {},
     "output_type": "execute_result"
    }
   ],
   "source": [
    "# Check counts in 'fam_status' column\n",
    "df_customers['fam_status'].value_counts(dropna=False)"
   ]
  },
  {
   "cell_type": "code",
   "execution_count": 48,
   "id": "68fb230f-e6f4-47bf-9cb6-98422eaa3de1",
   "metadata": {},
   "outputs": [],
   "source": [
    "# Change 'user_id' column to a string\n",
    "df_customers['user_id'] = df_customers['user_id'].astype(str)\n"
   ]
  },
  {
   "cell_type": "markdown",
   "id": "095a9bb0-3f5f-4c0e-a57a-819ae77d4e46",
   "metadata": {},
   "source": [
    "I changed 'user_id' column to a string because I do not need this to perform statistics on"
   ]
  },
  {
   "cell_type": "code",
   "execution_count": 49,
   "id": "7465d013-0257-4bf3-aa44-000b06efbfce",
   "metadata": {},
   "outputs": [
    {
     "data": {
      "text/plain": [
       "dtype('O')"
      ]
     },
     "execution_count": 49,
     "metadata": {},
     "output_type": "execute_result"
    }
   ],
   "source": [
    "# Check the data type change\n",
    "df_customers['user_id'].dtype"
   ]
  },
  {
   "cell_type": "markdown",
   "id": "8c792456-0b35-497b-96b9-f783134b0e10",
   "metadata": {},
   "source": [
    "Checking for Missing Values"
   ]
  },
  {
   "cell_type": "code",
   "execution_count": 50,
   "id": "c1bc97f6-242c-469a-a7f7-619c3f9d3b86",
   "metadata": {},
   "outputs": [
    {
     "data": {
      "text/plain": [
       "user_id             0\n",
       "first_name      11259\n",
       "last_name           0\n",
       "gender              0\n",
       "state               0\n",
       "age                 0\n",
       "date_joined         0\n",
       "n_dependents        0\n",
       "fam_status          0\n",
       "income              0\n",
       "dtype: int64"
      ]
     },
     "execution_count": 50,
     "metadata": {},
     "output_type": "execute_result"
    }
   ],
   "source": [
    "# Check for missing values\n",
    "df_customers.isnull().sum()"
   ]
  },
  {
   "cell_type": "markdown",
   "id": "514c8e34-569f-4e84-bf78-cf274ee541b4",
   "metadata": {},
   "source": [
    "The dataframe has 11,259 missing first names. "
   ]
  },
  {
   "cell_type": "code",
   "execution_count": 51,
   "id": "1255c86e-ebbc-48eb-aa34-8e67560e3a9a",
   "metadata": {},
   "outputs": [],
   "source": [
    "# Investigate missing values\n",
    "df_customers_nan = df_customers[df_customers['first_name'].isnull() == True]"
   ]
  },
  {
   "cell_type": "code",
   "execution_count": 52,
   "id": "9b97ed78-5ab7-4315-99a3-32fd8274aeef",
   "metadata": {},
   "outputs": [
    {
     "data": {
      "text/html": [
       "<div>\n",
       "<style scoped>\n",
       "    .dataframe tbody tr th:only-of-type {\n",
       "        vertical-align: middle;\n",
       "    }\n",
       "\n",
       "    .dataframe tbody tr th {\n",
       "        vertical-align: top;\n",
       "    }\n",
       "\n",
       "    .dataframe thead th {\n",
       "        text-align: right;\n",
       "    }\n",
       "</style>\n",
       "<table border=\"1\" class=\"dataframe\">\n",
       "  <thead>\n",
       "    <tr style=\"text-align: right;\">\n",
       "      <th></th>\n",
       "      <th>user_id</th>\n",
       "      <th>first_name</th>\n",
       "      <th>last_name</th>\n",
       "      <th>gender</th>\n",
       "      <th>state</th>\n",
       "      <th>age</th>\n",
       "      <th>date_joined</th>\n",
       "      <th>n_dependents</th>\n",
       "      <th>fam_status</th>\n",
       "      <th>income</th>\n",
       "    </tr>\n",
       "  </thead>\n",
       "  <tbody>\n",
       "    <tr>\n",
       "      <th>53</th>\n",
       "      <td>76659</td>\n",
       "      <td>NaN</td>\n",
       "      <td>Gilbert</td>\n",
       "      <td>Male</td>\n",
       "      <td>Colorado</td>\n",
       "      <td>26</td>\n",
       "      <td>1/1/2017</td>\n",
       "      <td>2</td>\n",
       "      <td>married</td>\n",
       "      <td>41709</td>\n",
       "    </tr>\n",
       "    <tr>\n",
       "      <th>73</th>\n",
       "      <td>13738</td>\n",
       "      <td>NaN</td>\n",
       "      <td>Frost</td>\n",
       "      <td>Female</td>\n",
       "      <td>Louisiana</td>\n",
       "      <td>39</td>\n",
       "      <td>1/1/2017</td>\n",
       "      <td>0</td>\n",
       "      <td>single</td>\n",
       "      <td>82518</td>\n",
       "    </tr>\n",
       "    <tr>\n",
       "      <th>82</th>\n",
       "      <td>89996</td>\n",
       "      <td>NaN</td>\n",
       "      <td>Dawson</td>\n",
       "      <td>Female</td>\n",
       "      <td>Oregon</td>\n",
       "      <td>52</td>\n",
       "      <td>1/1/2017</td>\n",
       "      <td>3</td>\n",
       "      <td>married</td>\n",
       "      <td>117099</td>\n",
       "    </tr>\n",
       "    <tr>\n",
       "      <th>99</th>\n",
       "      <td>96166</td>\n",
       "      <td>NaN</td>\n",
       "      <td>Oconnor</td>\n",
       "      <td>Male</td>\n",
       "      <td>Oklahoma</td>\n",
       "      <td>51</td>\n",
       "      <td>1/1/2017</td>\n",
       "      <td>1</td>\n",
       "      <td>married</td>\n",
       "      <td>155673</td>\n",
       "    </tr>\n",
       "    <tr>\n",
       "      <th>105</th>\n",
       "      <td>29778</td>\n",
       "      <td>NaN</td>\n",
       "      <td>Dawson</td>\n",
       "      <td>Female</td>\n",
       "      <td>Utah</td>\n",
       "      <td>63</td>\n",
       "      <td>1/1/2017</td>\n",
       "      <td>3</td>\n",
       "      <td>married</td>\n",
       "      <td>151819</td>\n",
       "    </tr>\n",
       "    <tr>\n",
       "      <th>...</th>\n",
       "      <td>...</td>\n",
       "      <td>...</td>\n",
       "      <td>...</td>\n",
       "      <td>...</td>\n",
       "      <td>...</td>\n",
       "      <td>...</td>\n",
       "      <td>...</td>\n",
       "      <td>...</td>\n",
       "      <td>...</td>\n",
       "      <td>...</td>\n",
       "    </tr>\n",
       "    <tr>\n",
       "      <th>206038</th>\n",
       "      <td>121317</td>\n",
       "      <td>NaN</td>\n",
       "      <td>Melton</td>\n",
       "      <td>Male</td>\n",
       "      <td>Pennsylvania</td>\n",
       "      <td>28</td>\n",
       "      <td>3/31/2020</td>\n",
       "      <td>3</td>\n",
       "      <td>married</td>\n",
       "      <td>87783</td>\n",
       "    </tr>\n",
       "    <tr>\n",
       "      <th>206044</th>\n",
       "      <td>200799</td>\n",
       "      <td>NaN</td>\n",
       "      <td>Copeland</td>\n",
       "      <td>Female</td>\n",
       "      <td>Hawaii</td>\n",
       "      <td>52</td>\n",
       "      <td>4/1/2020</td>\n",
       "      <td>2</td>\n",
       "      <td>married</td>\n",
       "      <td>108488</td>\n",
       "    </tr>\n",
       "    <tr>\n",
       "      <th>206090</th>\n",
       "      <td>167394</td>\n",
       "      <td>NaN</td>\n",
       "      <td>Frost</td>\n",
       "      <td>Female</td>\n",
       "      <td>Hawaii</td>\n",
       "      <td>61</td>\n",
       "      <td>4/1/2020</td>\n",
       "      <td>1</td>\n",
       "      <td>married</td>\n",
       "      <td>45275</td>\n",
       "    </tr>\n",
       "    <tr>\n",
       "      <th>206162</th>\n",
       "      <td>187532</td>\n",
       "      <td>NaN</td>\n",
       "      <td>Floyd</td>\n",
       "      <td>Female</td>\n",
       "      <td>California</td>\n",
       "      <td>39</td>\n",
       "      <td>4/1/2020</td>\n",
       "      <td>0</td>\n",
       "      <td>single</td>\n",
       "      <td>56325</td>\n",
       "    </tr>\n",
       "    <tr>\n",
       "      <th>206171</th>\n",
       "      <td>116898</td>\n",
       "      <td>NaN</td>\n",
       "      <td>Delgado</td>\n",
       "      <td>Female</td>\n",
       "      <td>Colorado</td>\n",
       "      <td>23</td>\n",
       "      <td>4/1/2020</td>\n",
       "      <td>2</td>\n",
       "      <td>married</td>\n",
       "      <td>59222</td>\n",
       "    </tr>\n",
       "  </tbody>\n",
       "</table>\n",
       "<p>11259 rows × 10 columns</p>\n",
       "</div>"
      ],
      "text/plain": [
       "       user_id first_name last_name  gender         state  age date_joined  \\\n",
       "53       76659        NaN   Gilbert    Male      Colorado   26    1/1/2017   \n",
       "73       13738        NaN     Frost  Female     Louisiana   39    1/1/2017   \n",
       "82       89996        NaN    Dawson  Female        Oregon   52    1/1/2017   \n",
       "99       96166        NaN   Oconnor    Male      Oklahoma   51    1/1/2017   \n",
       "105      29778        NaN    Dawson  Female          Utah   63    1/1/2017   \n",
       "...        ...        ...       ...     ...           ...  ...         ...   \n",
       "206038  121317        NaN    Melton    Male  Pennsylvania   28   3/31/2020   \n",
       "206044  200799        NaN  Copeland  Female        Hawaii   52    4/1/2020   \n",
       "206090  167394        NaN     Frost  Female        Hawaii   61    4/1/2020   \n",
       "206162  187532        NaN     Floyd  Female    California   39    4/1/2020   \n",
       "206171  116898        NaN   Delgado  Female      Colorado   23    4/1/2020   \n",
       "\n",
       "        n_dependents fam_status  income  \n",
       "53                 2    married   41709  \n",
       "73                 0     single   82518  \n",
       "82                 3    married  117099  \n",
       "99                 1    married  155673  \n",
       "105                3    married  151819  \n",
       "...              ...        ...     ...  \n",
       "206038             3    married   87783  \n",
       "206044             2    married  108488  \n",
       "206090             1    married   45275  \n",
       "206162             0     single   56325  \n",
       "206171             2    married   59222  \n",
       "\n",
       "[11259 rows x 10 columns]"
      ]
     },
     "execution_count": 52,
     "metadata": {},
     "output_type": "execute_result"
    }
   ],
   "source": [
    "df_customers_nan"
   ]
  },
  {
   "cell_type": "markdown",
   "id": "54cb3794-9218-40a4-a69e-2a5d23fe89e3",
   "metadata": {},
   "source": [
    "I am going to leave the missing first names as NaN so no action is required."
   ]
  },
  {
   "cell_type": "markdown",
   "id": "de45530e-be86-4730-ba6e-e5d3eea24084",
   "metadata": {},
   "source": [
    "Checking for Duplicates"
   ]
  },
  {
   "cell_type": "code",
   "execution_count": 53,
   "id": "b952d3a7-fec7-45d6-ad19-4e1b4f228bfc",
   "metadata": {},
   "outputs": [],
   "source": [
    "# Check for duplicates\n",
    "df_customers_dups = df_customers[df_customers.duplicated()]"
   ]
  },
  {
   "cell_type": "code",
   "execution_count": 54,
   "id": "43c801ac-575b-45cc-8f62-ea1e069ada15",
   "metadata": {},
   "outputs": [
    {
     "data": {
      "text/html": [
       "<div>\n",
       "<style scoped>\n",
       "    .dataframe tbody tr th:only-of-type {\n",
       "        vertical-align: middle;\n",
       "    }\n",
       "\n",
       "    .dataframe tbody tr th {\n",
       "        vertical-align: top;\n",
       "    }\n",
       "\n",
       "    .dataframe thead th {\n",
       "        text-align: right;\n",
       "    }\n",
       "</style>\n",
       "<table border=\"1\" class=\"dataframe\">\n",
       "  <thead>\n",
       "    <tr style=\"text-align: right;\">\n",
       "      <th></th>\n",
       "      <th>user_id</th>\n",
       "      <th>first_name</th>\n",
       "      <th>last_name</th>\n",
       "      <th>gender</th>\n",
       "      <th>state</th>\n",
       "      <th>age</th>\n",
       "      <th>date_joined</th>\n",
       "      <th>n_dependents</th>\n",
       "      <th>fam_status</th>\n",
       "      <th>income</th>\n",
       "    </tr>\n",
       "  </thead>\n",
       "  <tbody>\n",
       "  </tbody>\n",
       "</table>\n",
       "</div>"
      ],
      "text/plain": [
       "Empty DataFrame\n",
       "Columns: [user_id, first_name, last_name, gender, state, age, date_joined, n_dependents, fam_status, income]\n",
       "Index: []"
      ]
     },
     "execution_count": 54,
     "metadata": {},
     "output_type": "execute_result"
    }
   ],
   "source": [
    "# Check result\n",
    "df_customers_dups"
   ]
  },
  {
   "cell_type": "markdown",
   "id": "01745b92-3b08-44a4-8703-dfa8becb0b03",
   "metadata": {},
   "source": [
    "There were no duplicates found"
   ]
  },
  {
   "cell_type": "code",
   "execution_count": 55,
   "id": "88ba76ef-3bd5-41df-b3f9-a367116c41be",
   "metadata": {},
   "outputs": [
    {
     "data": {
      "text/plain": [
       "0"
      ]
     },
     "execution_count": 55,
     "metadata": {},
     "output_type": "execute_result"
    }
   ],
   "source": [
    "# Double check the key column for duplicates\n",
    "df_customers['user_id'].duplicated().sum()"
   ]
  },
  {
   "cell_type": "markdown",
   "id": "c6f945f9-a244-4dc0-be46-a3175be14daf",
   "metadata": {},
   "source": [
    "Checking for Outliers or Strange Values"
   ]
  },
  {
   "cell_type": "code",
   "execution_count": 56,
   "id": "6cff5a19-368f-420c-a4aa-0617d35d9358",
   "metadata": {},
   "outputs": [
    {
     "data": {
      "text/html": [
       "<div>\n",
       "<style scoped>\n",
       "    .dataframe tbody tr th:only-of-type {\n",
       "        vertical-align: middle;\n",
       "    }\n",
       "\n",
       "    .dataframe tbody tr th {\n",
       "        vertical-align: top;\n",
       "    }\n",
       "\n",
       "    .dataframe thead th {\n",
       "        text-align: right;\n",
       "    }\n",
       "</style>\n",
       "<table border=\"1\" class=\"dataframe\">\n",
       "  <thead>\n",
       "    <tr style=\"text-align: right;\">\n",
       "      <th></th>\n",
       "      <th>age</th>\n",
       "      <th>n_dependents</th>\n",
       "      <th>income</th>\n",
       "    </tr>\n",
       "  </thead>\n",
       "  <tbody>\n",
       "    <tr>\n",
       "      <th>count</th>\n",
       "      <td>206209.000000</td>\n",
       "      <td>206209.000000</td>\n",
       "      <td>206209.000000</td>\n",
       "    </tr>\n",
       "    <tr>\n",
       "      <th>mean</th>\n",
       "      <td>49.501646</td>\n",
       "      <td>1.499823</td>\n",
       "      <td>94632.852548</td>\n",
       "    </tr>\n",
       "    <tr>\n",
       "      <th>std</th>\n",
       "      <td>18.480962</td>\n",
       "      <td>1.118433</td>\n",
       "      <td>42473.786988</td>\n",
       "    </tr>\n",
       "    <tr>\n",
       "      <th>min</th>\n",
       "      <td>18.000000</td>\n",
       "      <td>0.000000</td>\n",
       "      <td>25903.000000</td>\n",
       "    </tr>\n",
       "    <tr>\n",
       "      <th>25%</th>\n",
       "      <td>33.000000</td>\n",
       "      <td>0.000000</td>\n",
       "      <td>59874.000000</td>\n",
       "    </tr>\n",
       "    <tr>\n",
       "      <th>50%</th>\n",
       "      <td>49.000000</td>\n",
       "      <td>1.000000</td>\n",
       "      <td>93547.000000</td>\n",
       "    </tr>\n",
       "    <tr>\n",
       "      <th>75%</th>\n",
       "      <td>66.000000</td>\n",
       "      <td>3.000000</td>\n",
       "      <td>124244.000000</td>\n",
       "    </tr>\n",
       "    <tr>\n",
       "      <th>max</th>\n",
       "      <td>81.000000</td>\n",
       "      <td>3.000000</td>\n",
       "      <td>593901.000000</td>\n",
       "    </tr>\n",
       "  </tbody>\n",
       "</table>\n",
       "</div>"
      ],
      "text/plain": [
       "                 age   n_dependents         income\n",
       "count  206209.000000  206209.000000  206209.000000\n",
       "mean       49.501646       1.499823   94632.852548\n",
       "std        18.480962       1.118433   42473.786988\n",
       "min        18.000000       0.000000   25903.000000\n",
       "25%        33.000000       0.000000   59874.000000\n",
       "50%        49.000000       1.000000   93547.000000\n",
       "75%        66.000000       3.000000  124244.000000\n",
       "max        81.000000       3.000000  593901.000000"
      ]
     },
     "execution_count": 56,
     "metadata": {},
     "output_type": "execute_result"
    }
   ],
   "source": [
    "df_customers.describe()"
   ]
  },
  {
   "cell_type": "markdown",
   "id": "973f99c2-8ef9-4b7b-9d44-0c0c862aedf6",
   "metadata": {},
   "source": [
    "The max income is very high 593,901 and needs further investigation"
   ]
  },
  {
   "cell_type": "code",
   "execution_count": 59,
   "id": "64b30bc8-c107-4f6c-83b2-1ecab91d1099",
   "metadata": {},
   "outputs": [
    {
     "data": {
      "text/html": [
       "<div>\n",
       "<style scoped>\n",
       "    .dataframe tbody tr th:only-of-type {\n",
       "        vertical-align: middle;\n",
       "    }\n",
       "\n",
       "    .dataframe tbody tr th {\n",
       "        vertical-align: top;\n",
       "    }\n",
       "\n",
       "    .dataframe thead th {\n",
       "        text-align: right;\n",
       "    }\n",
       "</style>\n",
       "<table border=\"1\" class=\"dataframe\">\n",
       "  <thead>\n",
       "    <tr style=\"text-align: right;\">\n",
       "      <th></th>\n",
       "      <th>user_id</th>\n",
       "      <th>first_name</th>\n",
       "      <th>last_name</th>\n",
       "      <th>gender</th>\n",
       "      <th>state</th>\n",
       "      <th>age</th>\n",
       "      <th>date_joined</th>\n",
       "      <th>n_dependents</th>\n",
       "      <th>fam_status</th>\n",
       "      <th>income</th>\n",
       "    </tr>\n",
       "  </thead>\n",
       "  <tbody>\n",
       "    <tr>\n",
       "      <th>21726</th>\n",
       "      <td>58596</td>\n",
       "      <td>Thomas</td>\n",
       "      <td>Cohen</td>\n",
       "      <td>Male</td>\n",
       "      <td>Washington</td>\n",
       "      <td>75</td>\n",
       "      <td>5/6/2017</td>\n",
       "      <td>2</td>\n",
       "      <td>married</td>\n",
       "      <td>593901</td>\n",
       "    </tr>\n",
       "    <tr>\n",
       "      <th>202655</th>\n",
       "      <td>98580</td>\n",
       "      <td>NaN</td>\n",
       "      <td>Patterson</td>\n",
       "      <td>Male</td>\n",
       "      <td>Washington</td>\n",
       "      <td>43</td>\n",
       "      <td>3/12/2020</td>\n",
       "      <td>2</td>\n",
       "      <td>married</td>\n",
       "      <td>592409</td>\n",
       "    </tr>\n",
       "    <tr>\n",
       "      <th>81583</th>\n",
       "      <td>103702</td>\n",
       "      <td>Kathryn</td>\n",
       "      <td>Mclaughlin</td>\n",
       "      <td>Female</td>\n",
       "      <td>Louisiana</td>\n",
       "      <td>55</td>\n",
       "      <td>4/14/2018</td>\n",
       "      <td>3</td>\n",
       "      <td>married</td>\n",
       "      <td>591089</td>\n",
       "    </tr>\n",
       "    <tr>\n",
       "      <th>111950</th>\n",
       "      <td>187680</td>\n",
       "      <td>Catherine</td>\n",
       "      <td>Church</td>\n",
       "      <td>Female</td>\n",
       "      <td>Wyoming</td>\n",
       "      <td>43</td>\n",
       "      <td>10/7/2018</td>\n",
       "      <td>2</td>\n",
       "      <td>married</td>\n",
       "      <td>590790</td>\n",
       "    </tr>\n",
       "    <tr>\n",
       "      <th>167037</th>\n",
       "      <td>189861</td>\n",
       "      <td>Pamela</td>\n",
       "      <td>Jordan</td>\n",
       "      <td>Female</td>\n",
       "      <td>Pennsylvania</td>\n",
       "      <td>47</td>\n",
       "      <td>8/21/2019</td>\n",
       "      <td>0</td>\n",
       "      <td>single</td>\n",
       "      <td>584097</td>\n",
       "    </tr>\n",
       "    <tr>\n",
       "      <th>...</th>\n",
       "      <td>...</td>\n",
       "      <td>...</td>\n",
       "      <td>...</td>\n",
       "      <td>...</td>\n",
       "      <td>...</td>\n",
       "      <td>...</td>\n",
       "      <td>...</td>\n",
       "      <td>...</td>\n",
       "      <td>...</td>\n",
       "      <td>...</td>\n",
       "    </tr>\n",
       "    <tr>\n",
       "      <th>80006</th>\n",
       "      <td>168516</td>\n",
       "      <td>Nancy</td>\n",
       "      <td>Gutierrez</td>\n",
       "      <td>Female</td>\n",
       "      <td>Hawaii</td>\n",
       "      <td>48</td>\n",
       "      <td>4/5/2018</td>\n",
       "      <td>3</td>\n",
       "      <td>married</td>\n",
       "      <td>504053</td>\n",
       "    </tr>\n",
       "    <tr>\n",
       "      <th>174110</th>\n",
       "      <td>114554</td>\n",
       "      <td>Carlos</td>\n",
       "      <td>Medina</td>\n",
       "      <td>Male</td>\n",
       "      <td>Delaware</td>\n",
       "      <td>55</td>\n",
       "      <td>9/30/2019</td>\n",
       "      <td>2</td>\n",
       "      <td>married</td>\n",
       "      <td>503088</td>\n",
       "    </tr>\n",
       "    <tr>\n",
       "      <th>143953</th>\n",
       "      <td>167103</td>\n",
       "      <td>Rebecca</td>\n",
       "      <td>Yu</td>\n",
       "      <td>Female</td>\n",
       "      <td>New York</td>\n",
       "      <td>45</td>\n",
       "      <td>4/10/2019</td>\n",
       "      <td>1</td>\n",
       "      <td>married</td>\n",
       "      <td>502865</td>\n",
       "    </tr>\n",
       "    <tr>\n",
       "      <th>91847</th>\n",
       "      <td>197521</td>\n",
       "      <td>Kathy</td>\n",
       "      <td>Mitchell</td>\n",
       "      <td>Female</td>\n",
       "      <td>West Virginia</td>\n",
       "      <td>81</td>\n",
       "      <td>6/12/2018</td>\n",
       "      <td>1</td>\n",
       "      <td>married</td>\n",
       "      <td>501962</td>\n",
       "    </tr>\n",
       "    <tr>\n",
       "      <th>47924</th>\n",
       "      <td>61454</td>\n",
       "      <td>Beverly</td>\n",
       "      <td>Townsend</td>\n",
       "      <td>Female</td>\n",
       "      <td>Wisconsin</td>\n",
       "      <td>47</td>\n",
       "      <td>10/3/2017</td>\n",
       "      <td>1</td>\n",
       "      <td>married</td>\n",
       "      <td>500871</td>\n",
       "    </tr>\n",
       "  </tbody>\n",
       "</table>\n",
       "<p>70 rows × 10 columns</p>\n",
       "</div>"
      ],
      "text/plain": [
       "       user_id first_name   last_name  gender          state  age date_joined  \\\n",
       "21726    58596     Thomas       Cohen    Male     Washington   75    5/6/2017   \n",
       "202655   98580        NaN   Patterson    Male     Washington   43   3/12/2020   \n",
       "81583   103702    Kathryn  Mclaughlin  Female      Louisiana   55   4/14/2018   \n",
       "111950  187680  Catherine      Church  Female        Wyoming   43   10/7/2018   \n",
       "167037  189861     Pamela      Jordan  Female   Pennsylvania   47   8/21/2019   \n",
       "...        ...        ...         ...     ...            ...  ...         ...   \n",
       "80006   168516      Nancy   Gutierrez  Female         Hawaii   48    4/5/2018   \n",
       "174110  114554     Carlos      Medina    Male       Delaware   55   9/30/2019   \n",
       "143953  167103    Rebecca          Yu  Female       New York   45   4/10/2019   \n",
       "91847   197521      Kathy    Mitchell  Female  West Virginia   81   6/12/2018   \n",
       "47924    61454    Beverly    Townsend  Female      Wisconsin   47   10/3/2017   \n",
       "\n",
       "        n_dependents fam_status  income  \n",
       "21726              2    married  593901  \n",
       "202655             2    married  592409  \n",
       "81583              3    married  591089  \n",
       "111950             2    married  590790  \n",
       "167037             0     single  584097  \n",
       "...              ...        ...     ...  \n",
       "80006              3    married  504053  \n",
       "174110             2    married  503088  \n",
       "143953             1    married  502865  \n",
       "91847              1    married  501962  \n",
       "47924              1    married  500871  \n",
       "\n",
       "[70 rows x 10 columns]"
      ]
     },
     "execution_count": 59,
     "metadata": {},
     "output_type": "execute_result"
    }
   ],
   "source": [
    "# Check high incomes\n",
    "df_customers[df_customers['income'] > 500000].sort_values(by='income', ascending=False)"
   ]
  },
  {
   "cell_type": "markdown",
   "id": "1a0b8fd5-bf08-4118-81a4-3346e7b734ad",
   "metadata": {},
   "source": [
    "There are 70 rows of customers earning over 500,000. Because I am not sure if they are typos or actual income, I will use the median rather than the mean for income analysis. "
   ]
  },
  {
   "cell_type": "markdown",
   "id": "802a394a-48de-4c7d-b0a1-ab6b7e859564",
   "metadata": {},
   "source": []
  },
  {
   "cell_type": "markdown",
   "id": "829cf1db-92ef-431c-bea2-35161fcddf84",
   "metadata": {},
   "source": [
    "5. Import ords_prods_merge dataframe"
   ]
  },
  {
   "cell_type": "code",
   "execution_count": 61,
   "id": "29184a95-f880-47d5-bcc3-e53e684cbaca",
   "metadata": {},
   "outputs": [],
   "source": [
    "# Import ords_prods_merge datarame\n",
    "df_ords_prods_merge = pd.read_pickle(os.path.join(path, '02 Data', 'Prepared Data', 'ords_prods_merge.pkl'))"
   ]
  },
  {
   "cell_type": "code",
   "execution_count": 63,
   "id": "d75e7f96-7e8e-410c-a9f9-9b0c85ef3560",
   "metadata": {},
   "outputs": [
    {
     "data": {
      "text/html": [
       "<div>\n",
       "<style scoped>\n",
       "    .dataframe tbody tr th:only-of-type {\n",
       "        vertical-align: middle;\n",
       "    }\n",
       "\n",
       "    .dataframe tbody tr th {\n",
       "        vertical-align: top;\n",
       "    }\n",
       "\n",
       "    .dataframe thead th {\n",
       "        text-align: right;\n",
       "    }\n",
       "</style>\n",
       "<table border=\"1\" class=\"dataframe\">\n",
       "  <thead>\n",
       "    <tr style=\"text-align: right;\">\n",
       "      <th></th>\n",
       "      <th>order_id</th>\n",
       "      <th>user_id</th>\n",
       "      <th>order_number</th>\n",
       "      <th>orders_day_of_week</th>\n",
       "      <th>order_hour_of_day</th>\n",
       "      <th>days_since_prior_order</th>\n",
       "      <th>first_order</th>\n",
       "      <th>product_id</th>\n",
       "      <th>add_to_cart_order</th>\n",
       "      <th>reordered</th>\n",
       "      <th>...</th>\n",
       "      <th>match</th>\n",
       "      <th>price_range_loc</th>\n",
       "      <th>busiest_days</th>\n",
       "      <th>busiest_period_of_day</th>\n",
       "      <th>max_order</th>\n",
       "      <th>loyalty_flag</th>\n",
       "      <th>avg_price_per_user</th>\n",
       "      <th>spending_flag</th>\n",
       "      <th>median_days_per_user</th>\n",
       "      <th>order_frequency_flag</th>\n",
       "    </tr>\n",
       "  </thead>\n",
       "  <tbody>\n",
       "    <tr>\n",
       "      <th>0</th>\n",
       "      <td>2539329</td>\n",
       "      <td>1</td>\n",
       "      <td>1</td>\n",
       "      <td>2</td>\n",
       "      <td>8</td>\n",
       "      <td>NaN</td>\n",
       "      <td>True</td>\n",
       "      <td>196</td>\n",
       "      <td>1</td>\n",
       "      <td>0</td>\n",
       "      <td>...</td>\n",
       "      <td>both</td>\n",
       "      <td>Mid–range product</td>\n",
       "      <td>Regularly busy</td>\n",
       "      <td>Average orders</td>\n",
       "      <td>10</td>\n",
       "      <td>New customer</td>\n",
       "      <td>6.367797</td>\n",
       "      <td>Low spender</td>\n",
       "      <td>20.5</td>\n",
       "      <td>Non-frequent customer</td>\n",
       "    </tr>\n",
       "    <tr>\n",
       "      <th>1</th>\n",
       "      <td>2539329</td>\n",
       "      <td>1</td>\n",
       "      <td>1</td>\n",
       "      <td>2</td>\n",
       "      <td>8</td>\n",
       "      <td>NaN</td>\n",
       "      <td>True</td>\n",
       "      <td>14084</td>\n",
       "      <td>2</td>\n",
       "      <td>0</td>\n",
       "      <td>...</td>\n",
       "      <td>both</td>\n",
       "      <td>Mid–range product</td>\n",
       "      <td>Regularly busy</td>\n",
       "      <td>Average orders</td>\n",
       "      <td>10</td>\n",
       "      <td>New customer</td>\n",
       "      <td>6.367797</td>\n",
       "      <td>Low spender</td>\n",
       "      <td>20.5</td>\n",
       "      <td>Non-frequent customer</td>\n",
       "    </tr>\n",
       "    <tr>\n",
       "      <th>2</th>\n",
       "      <td>2539329</td>\n",
       "      <td>1</td>\n",
       "      <td>1</td>\n",
       "      <td>2</td>\n",
       "      <td>8</td>\n",
       "      <td>NaN</td>\n",
       "      <td>True</td>\n",
       "      <td>12427</td>\n",
       "      <td>3</td>\n",
       "      <td>0</td>\n",
       "      <td>...</td>\n",
       "      <td>both</td>\n",
       "      <td>Low-range product</td>\n",
       "      <td>Regularly busy</td>\n",
       "      <td>Average orders</td>\n",
       "      <td>10</td>\n",
       "      <td>New customer</td>\n",
       "      <td>6.367797</td>\n",
       "      <td>Low spender</td>\n",
       "      <td>20.5</td>\n",
       "      <td>Non-frequent customer</td>\n",
       "    </tr>\n",
       "    <tr>\n",
       "      <th>3</th>\n",
       "      <td>2539329</td>\n",
       "      <td>1</td>\n",
       "      <td>1</td>\n",
       "      <td>2</td>\n",
       "      <td>8</td>\n",
       "      <td>NaN</td>\n",
       "      <td>True</td>\n",
       "      <td>26088</td>\n",
       "      <td>4</td>\n",
       "      <td>0</td>\n",
       "      <td>...</td>\n",
       "      <td>both</td>\n",
       "      <td>Low-range product</td>\n",
       "      <td>Regularly busy</td>\n",
       "      <td>Average orders</td>\n",
       "      <td>10</td>\n",
       "      <td>New customer</td>\n",
       "      <td>6.367797</td>\n",
       "      <td>Low spender</td>\n",
       "      <td>20.5</td>\n",
       "      <td>Non-frequent customer</td>\n",
       "    </tr>\n",
       "    <tr>\n",
       "      <th>4</th>\n",
       "      <td>2539329</td>\n",
       "      <td>1</td>\n",
       "      <td>1</td>\n",
       "      <td>2</td>\n",
       "      <td>8</td>\n",
       "      <td>NaN</td>\n",
       "      <td>True</td>\n",
       "      <td>26405</td>\n",
       "      <td>5</td>\n",
       "      <td>0</td>\n",
       "      <td>...</td>\n",
       "      <td>both</td>\n",
       "      <td>Low-range product</td>\n",
       "      <td>Regularly busy</td>\n",
       "      <td>Average orders</td>\n",
       "      <td>10</td>\n",
       "      <td>New customer</td>\n",
       "      <td>6.367797</td>\n",
       "      <td>Low spender</td>\n",
       "      <td>20.5</td>\n",
       "      <td>Non-frequent customer</td>\n",
       "    </tr>\n",
       "    <tr>\n",
       "      <th>...</th>\n",
       "      <td>...</td>\n",
       "      <td>...</td>\n",
       "      <td>...</td>\n",
       "      <td>...</td>\n",
       "      <td>...</td>\n",
       "      <td>...</td>\n",
       "      <td>...</td>\n",
       "      <td>...</td>\n",
       "      <td>...</td>\n",
       "      <td>...</td>\n",
       "      <td>...</td>\n",
       "      <td>...</td>\n",
       "      <td>...</td>\n",
       "      <td>...</td>\n",
       "      <td>...</td>\n",
       "      <td>...</td>\n",
       "      <td>...</td>\n",
       "      <td>...</td>\n",
       "      <td>...</td>\n",
       "      <td>...</td>\n",
       "      <td>...</td>\n",
       "    </tr>\n",
       "    <tr>\n",
       "      <th>32434484</th>\n",
       "      <td>2977660</td>\n",
       "      <td>206209</td>\n",
       "      <td>13</td>\n",
       "      <td>1</td>\n",
       "      <td>12</td>\n",
       "      <td>7.0</td>\n",
       "      <td>False</td>\n",
       "      <td>14197</td>\n",
       "      <td>5</td>\n",
       "      <td>1</td>\n",
       "      <td>...</td>\n",
       "      <td>both</td>\n",
       "      <td>Mid–range product</td>\n",
       "      <td>Busiest days</td>\n",
       "      <td>Most orders</td>\n",
       "      <td>13</td>\n",
       "      <td>Regular customer</td>\n",
       "      <td>7.058915</td>\n",
       "      <td>Low spender</td>\n",
       "      <td>22.0</td>\n",
       "      <td>Non-frequent customer</td>\n",
       "    </tr>\n",
       "    <tr>\n",
       "      <th>32434485</th>\n",
       "      <td>2977660</td>\n",
       "      <td>206209</td>\n",
       "      <td>13</td>\n",
       "      <td>1</td>\n",
       "      <td>12</td>\n",
       "      <td>7.0</td>\n",
       "      <td>False</td>\n",
       "      <td>38730</td>\n",
       "      <td>6</td>\n",
       "      <td>0</td>\n",
       "      <td>...</td>\n",
       "      <td>both</td>\n",
       "      <td>Mid–range product</td>\n",
       "      <td>Busiest days</td>\n",
       "      <td>Most orders</td>\n",
       "      <td>13</td>\n",
       "      <td>Regular customer</td>\n",
       "      <td>7.058915</td>\n",
       "      <td>Low spender</td>\n",
       "      <td>22.0</td>\n",
       "      <td>Non-frequent customer</td>\n",
       "    </tr>\n",
       "    <tr>\n",
       "      <th>32434486</th>\n",
       "      <td>2977660</td>\n",
       "      <td>206209</td>\n",
       "      <td>13</td>\n",
       "      <td>1</td>\n",
       "      <td>12</td>\n",
       "      <td>7.0</td>\n",
       "      <td>False</td>\n",
       "      <td>31477</td>\n",
       "      <td>7</td>\n",
       "      <td>0</td>\n",
       "      <td>...</td>\n",
       "      <td>both</td>\n",
       "      <td>Low-range product</td>\n",
       "      <td>Busiest days</td>\n",
       "      <td>Most orders</td>\n",
       "      <td>13</td>\n",
       "      <td>Regular customer</td>\n",
       "      <td>7.058915</td>\n",
       "      <td>Low spender</td>\n",
       "      <td>22.0</td>\n",
       "      <td>Non-frequent customer</td>\n",
       "    </tr>\n",
       "    <tr>\n",
       "      <th>32434487</th>\n",
       "      <td>2977660</td>\n",
       "      <td>206209</td>\n",
       "      <td>13</td>\n",
       "      <td>1</td>\n",
       "      <td>12</td>\n",
       "      <td>7.0</td>\n",
       "      <td>False</td>\n",
       "      <td>6567</td>\n",
       "      <td>8</td>\n",
       "      <td>0</td>\n",
       "      <td>...</td>\n",
       "      <td>both</td>\n",
       "      <td>Low-range product</td>\n",
       "      <td>Busiest days</td>\n",
       "      <td>Most orders</td>\n",
       "      <td>13</td>\n",
       "      <td>Regular customer</td>\n",
       "      <td>7.058915</td>\n",
       "      <td>Low spender</td>\n",
       "      <td>22.0</td>\n",
       "      <td>Non-frequent customer</td>\n",
       "    </tr>\n",
       "    <tr>\n",
       "      <th>32434488</th>\n",
       "      <td>2977660</td>\n",
       "      <td>206209</td>\n",
       "      <td>13</td>\n",
       "      <td>1</td>\n",
       "      <td>12</td>\n",
       "      <td>7.0</td>\n",
       "      <td>False</td>\n",
       "      <td>22920</td>\n",
       "      <td>9</td>\n",
       "      <td>0</td>\n",
       "      <td>...</td>\n",
       "      <td>both</td>\n",
       "      <td>Low-range product</td>\n",
       "      <td>Busiest days</td>\n",
       "      <td>Most orders</td>\n",
       "      <td>13</td>\n",
       "      <td>Regular customer</td>\n",
       "      <td>7.058915</td>\n",
       "      <td>Low spender</td>\n",
       "      <td>22.0</td>\n",
       "      <td>Non-frequent customer</td>\n",
       "    </tr>\n",
       "  </tbody>\n",
       "</table>\n",
       "<p>32434489 rows × 24 columns</p>\n",
       "</div>"
      ],
      "text/plain": [
       "          order_id  user_id  order_number  orders_day_of_week  \\\n",
       "0          2539329        1             1                   2   \n",
       "1          2539329        1             1                   2   \n",
       "2          2539329        1             1                   2   \n",
       "3          2539329        1             1                   2   \n",
       "4          2539329        1             1                   2   \n",
       "...            ...      ...           ...                 ...   \n",
       "32434484   2977660   206209            13                   1   \n",
       "32434485   2977660   206209            13                   1   \n",
       "32434486   2977660   206209            13                   1   \n",
       "32434487   2977660   206209            13                   1   \n",
       "32434488   2977660   206209            13                   1   \n",
       "\n",
       "          order_hour_of_day  days_since_prior_order  first_order  product_id  \\\n",
       "0                         8                     NaN         True         196   \n",
       "1                         8                     NaN         True       14084   \n",
       "2                         8                     NaN         True       12427   \n",
       "3                         8                     NaN         True       26088   \n",
       "4                         8                     NaN         True       26405   \n",
       "...                     ...                     ...          ...         ...   \n",
       "32434484                 12                     7.0        False       14197   \n",
       "32434485                 12                     7.0        False       38730   \n",
       "32434486                 12                     7.0        False       31477   \n",
       "32434487                 12                     7.0        False        6567   \n",
       "32434488                 12                     7.0        False       22920   \n",
       "\n",
       "          add_to_cart_order  reordered  ... match    price_range_loc  \\\n",
       "0                         1          0  ...  both  Mid–range product   \n",
       "1                         2          0  ...  both  Mid–range product   \n",
       "2                         3          0  ...  both  Low-range product   \n",
       "3                         4          0  ...  both  Low-range product   \n",
       "4                         5          0  ...  both  Low-range product   \n",
       "...                     ...        ...  ...   ...                ...   \n",
       "32434484                  5          1  ...  both  Mid–range product   \n",
       "32434485                  6          0  ...  both  Mid–range product   \n",
       "32434486                  7          0  ...  both  Low-range product   \n",
       "32434487                  8          0  ...  both  Low-range product   \n",
       "32434488                  9          0  ...  both  Low-range product   \n",
       "\n",
       "            busiest_days  busiest_period_of_day max_order      loyalty_flag  \\\n",
       "0         Regularly busy         Average orders        10      New customer   \n",
       "1         Regularly busy         Average orders        10      New customer   \n",
       "2         Regularly busy         Average orders        10      New customer   \n",
       "3         Regularly busy         Average orders        10      New customer   \n",
       "4         Regularly busy         Average orders        10      New customer   \n",
       "...                  ...                    ...       ...               ...   \n",
       "32434484    Busiest days            Most orders        13  Regular customer   \n",
       "32434485    Busiest days            Most orders        13  Regular customer   \n",
       "32434486    Busiest days            Most orders        13  Regular customer   \n",
       "32434487    Busiest days            Most orders        13  Regular customer   \n",
       "32434488    Busiest days            Most orders        13  Regular customer   \n",
       "\n",
       "         avg_price_per_user spending_flag  median_days_per_user  \\\n",
       "0                  6.367797   Low spender                  20.5   \n",
       "1                  6.367797   Low spender                  20.5   \n",
       "2                  6.367797   Low spender                  20.5   \n",
       "3                  6.367797   Low spender                  20.5   \n",
       "4                  6.367797   Low spender                  20.5   \n",
       "...                     ...           ...                   ...   \n",
       "32434484           7.058915   Low spender                  22.0   \n",
       "32434485           7.058915   Low spender                  22.0   \n",
       "32434486           7.058915   Low spender                  22.0   \n",
       "32434487           7.058915   Low spender                  22.0   \n",
       "32434488           7.058915   Low spender                  22.0   \n",
       "\n",
       "           order_frequency_flag  \n",
       "0         Non-frequent customer  \n",
       "1         Non-frequent customer  \n",
       "2         Non-frequent customer  \n",
       "3         Non-frequent customer  \n",
       "4         Non-frequent customer  \n",
       "...                         ...  \n",
       "32434484  Non-frequent customer  \n",
       "32434485  Non-frequent customer  \n",
       "32434486  Non-frequent customer  \n",
       "32434487  Non-frequent customer  \n",
       "32434488  Non-frequent customer  \n",
       "\n",
       "[32434489 rows x 24 columns]"
      ]
     },
     "execution_count": 63,
     "metadata": {},
     "output_type": "execute_result"
    }
   ],
   "source": [
    "# Check import\n",
    "df_ords_prods_merge"
   ]
  },
  {
   "cell_type": "markdown",
   "id": "33400476-5cf7-4eeb-ab67-9e77995fc552",
   "metadata": {},
   "source": [
    "Since I am going to combine the two dataframes using 'user_id' column, I will check the data type of this column in both. I previously changed 'user_id' to a string in df_customers and perhaps this was incorrect. Let's see."
   ]
  },
  {
   "cell_type": "markdown",
   "id": "ab6ce836-f5f4-4f65-9a85-8ab60e4ae312",
   "metadata": {},
   "source": [
    "6. Check Data Types of Both Dataframes and Change if Applicable"
   ]
  },
  {
   "cell_type": "code",
   "execution_count": 64,
   "id": "746d465f-cdb6-49cc-9605-11837c3d1e3d",
   "metadata": {},
   "outputs": [
    {
     "data": {
      "text/plain": [
       "dtype('int64')"
      ]
     },
     "execution_count": 64,
     "metadata": {},
     "output_type": "execute_result"
    }
   ],
   "source": [
    "# Check data types of 'user:id' column in df_ords_prods_merge\n",
    "df_ords_prods_merge['user_id'].dtype"
   ]
  },
  {
   "cell_type": "code",
   "execution_count": 65,
   "id": "7f8d93a3-f93d-4add-baf8-f9aa538ae2a7",
   "metadata": {},
   "outputs": [
    {
     "data": {
      "text/plain": [
       "dtype('O')"
      ]
     },
     "execution_count": 65,
     "metadata": {},
     "output_type": "execute_result"
    }
   ],
   "source": [
    "# Check data types of 'uder_id' in df_customers\n",
    "df_customers['user_id'].dtype"
   ]
  },
  {
   "cell_type": "markdown",
   "id": "6f1096a0-e3df-4e9c-beac-259391e28a98",
   "metadata": {},
   "source": [
    "Since I do not want to do any statistics on 'user_id', I want to keep it as a string so I will convert 'user_id' to string in the df_ords_prods_merge dataframe. "
   ]
  },
  {
   "cell_type": "code",
   "execution_count": 66,
   "id": "9f22b572-4da4-4ec2-9b15-01ad777a254c",
   "metadata": {},
   "outputs": [],
   "source": [
    "# Change 'user_id' column to a string\n",
    "df_ords_prods_merge['user_id'] = df_ords_prods_merge['user_id'].astype(str)"
   ]
  },
  {
   "cell_type": "code",
   "execution_count": 67,
   "id": "c8bfc24d-7ab8-408d-8112-918bfeb14d02",
   "metadata": {},
   "outputs": [
    {
     "data": {
      "text/plain": [
       "dtype('O')"
      ]
     },
     "execution_count": 67,
     "metadata": {},
     "output_type": "execute_result"
    }
   ],
   "source": [
    "# Check change\n",
    "df_ords_prods_merge['user_id'].dtype"
   ]
  },
  {
   "cell_type": "markdown",
   "id": "a8f1fd1f-bc38-40a3-aeea-17b8c155370d",
   "metadata": {},
   "source": [
    "Question 6 . Combining Both DataFrames"
   ]
  },
  {
   "cell_type": "markdown",
   "id": "4b156d30-6202-49b6-8625-b6e81d94045a",
   "metadata": {},
   "source": [
    "7. Combine df_customers with df_ords_prods_merge on 'user_id' column and check merge"
   ]
  },
  {
   "cell_type": "markdown",
   "id": "f442e53d-b1cc-4e61-bf4e-472564004a1b",
   "metadata": {},
   "source": [
    "I am using a left join as i do not want to lose any orders in my dataframe."
   ]
  },
  {
   "cell_type": "code",
   "execution_count": 68,
   "id": "4ea7e420-9c8e-4c44-a524-96bb1bdbcda6",
   "metadata": {},
   "outputs": [],
   "source": [
    "# Combine dataframes\n",
    "df_merged = df_ords_prods_merge.merge(df_customers, on='user_id', how='left', indicator = 'merge_flag')"
   ]
  },
  {
   "cell_type": "code",
   "execution_count": 69,
   "id": "045c4d05-d9f8-4a92-bf84-a7839e00a271",
   "metadata": {},
   "outputs": [
    {
     "data": {
      "text/plain": [
       "merge_flag\n",
       "both          32434489\n",
       "left_only            0\n",
       "right_only           0\n",
       "Name: count, dtype: int64"
      ]
     },
     "execution_count": 69,
     "metadata": {},
     "output_type": "execute_result"
    }
   ],
   "source": [
    "# Check merge\n",
    "df_merged['merge_flag'].value_counts()"
   ]
  },
  {
   "cell_type": "code",
   "execution_count": 70,
   "id": "ae78fb50-1bb5-470e-8350-2a17cd9266b4",
   "metadata": {},
   "outputs": [
    {
     "data": {
      "text/plain": [
       "(32434489, 34)"
      ]
     },
     "execution_count": 70,
     "metadata": {},
     "output_type": "execute_result"
    }
   ],
   "source": [
    "# Check shape\n",
    "df_merged.shape"
   ]
  },
  {
   "cell_type": "code",
   "execution_count": 71,
   "id": "eedfed97-cae9-4706-be23-57e27002c270",
   "metadata": {},
   "outputs": [
    {
     "data": {
      "text/html": [
       "<div>\n",
       "<style scoped>\n",
       "    .dataframe tbody tr th:only-of-type {\n",
       "        vertical-align: middle;\n",
       "    }\n",
       "\n",
       "    .dataframe tbody tr th {\n",
       "        vertical-align: top;\n",
       "    }\n",
       "\n",
       "    .dataframe thead th {\n",
       "        text-align: right;\n",
       "    }\n",
       "</style>\n",
       "<table border=\"1\" class=\"dataframe\">\n",
       "  <thead>\n",
       "    <tr style=\"text-align: right;\">\n",
       "      <th></th>\n",
       "      <th>order_id</th>\n",
       "      <th>user_id</th>\n",
       "      <th>order_number</th>\n",
       "      <th>orders_day_of_week</th>\n",
       "      <th>order_hour_of_day</th>\n",
       "      <th>days_since_prior_order</th>\n",
       "      <th>first_order</th>\n",
       "      <th>product_id</th>\n",
       "      <th>add_to_cart_order</th>\n",
       "      <th>reordered</th>\n",
       "      <th>...</th>\n",
       "      <th>first_name</th>\n",
       "      <th>last_name</th>\n",
       "      <th>gender</th>\n",
       "      <th>state</th>\n",
       "      <th>age</th>\n",
       "      <th>date_joined</th>\n",
       "      <th>n_dependents</th>\n",
       "      <th>fam_status</th>\n",
       "      <th>income</th>\n",
       "      <th>merge_flag</th>\n",
       "    </tr>\n",
       "  </thead>\n",
       "  <tbody>\n",
       "    <tr>\n",
       "      <th>0</th>\n",
       "      <td>2539329</td>\n",
       "      <td>1</td>\n",
       "      <td>1</td>\n",
       "      <td>2</td>\n",
       "      <td>8</td>\n",
       "      <td>NaN</td>\n",
       "      <td>True</td>\n",
       "      <td>196</td>\n",
       "      <td>1</td>\n",
       "      <td>0</td>\n",
       "      <td>...</td>\n",
       "      <td>Linda</td>\n",
       "      <td>Nguyen</td>\n",
       "      <td>Female</td>\n",
       "      <td>Alabama</td>\n",
       "      <td>31</td>\n",
       "      <td>2/17/2019</td>\n",
       "      <td>3</td>\n",
       "      <td>married</td>\n",
       "      <td>40423</td>\n",
       "      <td>both</td>\n",
       "    </tr>\n",
       "    <tr>\n",
       "      <th>1</th>\n",
       "      <td>2539329</td>\n",
       "      <td>1</td>\n",
       "      <td>1</td>\n",
       "      <td>2</td>\n",
       "      <td>8</td>\n",
       "      <td>NaN</td>\n",
       "      <td>True</td>\n",
       "      <td>14084</td>\n",
       "      <td>2</td>\n",
       "      <td>0</td>\n",
       "      <td>...</td>\n",
       "      <td>Linda</td>\n",
       "      <td>Nguyen</td>\n",
       "      <td>Female</td>\n",
       "      <td>Alabama</td>\n",
       "      <td>31</td>\n",
       "      <td>2/17/2019</td>\n",
       "      <td>3</td>\n",
       "      <td>married</td>\n",
       "      <td>40423</td>\n",
       "      <td>both</td>\n",
       "    </tr>\n",
       "    <tr>\n",
       "      <th>2</th>\n",
       "      <td>2539329</td>\n",
       "      <td>1</td>\n",
       "      <td>1</td>\n",
       "      <td>2</td>\n",
       "      <td>8</td>\n",
       "      <td>NaN</td>\n",
       "      <td>True</td>\n",
       "      <td>12427</td>\n",
       "      <td>3</td>\n",
       "      <td>0</td>\n",
       "      <td>...</td>\n",
       "      <td>Linda</td>\n",
       "      <td>Nguyen</td>\n",
       "      <td>Female</td>\n",
       "      <td>Alabama</td>\n",
       "      <td>31</td>\n",
       "      <td>2/17/2019</td>\n",
       "      <td>3</td>\n",
       "      <td>married</td>\n",
       "      <td>40423</td>\n",
       "      <td>both</td>\n",
       "    </tr>\n",
       "    <tr>\n",
       "      <th>3</th>\n",
       "      <td>2539329</td>\n",
       "      <td>1</td>\n",
       "      <td>1</td>\n",
       "      <td>2</td>\n",
       "      <td>8</td>\n",
       "      <td>NaN</td>\n",
       "      <td>True</td>\n",
       "      <td>26088</td>\n",
       "      <td>4</td>\n",
       "      <td>0</td>\n",
       "      <td>...</td>\n",
       "      <td>Linda</td>\n",
       "      <td>Nguyen</td>\n",
       "      <td>Female</td>\n",
       "      <td>Alabama</td>\n",
       "      <td>31</td>\n",
       "      <td>2/17/2019</td>\n",
       "      <td>3</td>\n",
       "      <td>married</td>\n",
       "      <td>40423</td>\n",
       "      <td>both</td>\n",
       "    </tr>\n",
       "    <tr>\n",
       "      <th>4</th>\n",
       "      <td>2539329</td>\n",
       "      <td>1</td>\n",
       "      <td>1</td>\n",
       "      <td>2</td>\n",
       "      <td>8</td>\n",
       "      <td>NaN</td>\n",
       "      <td>True</td>\n",
       "      <td>26405</td>\n",
       "      <td>5</td>\n",
       "      <td>0</td>\n",
       "      <td>...</td>\n",
       "      <td>Linda</td>\n",
       "      <td>Nguyen</td>\n",
       "      <td>Female</td>\n",
       "      <td>Alabama</td>\n",
       "      <td>31</td>\n",
       "      <td>2/17/2019</td>\n",
       "      <td>3</td>\n",
       "      <td>married</td>\n",
       "      <td>40423</td>\n",
       "      <td>both</td>\n",
       "    </tr>\n",
       "  </tbody>\n",
       "</table>\n",
       "<p>5 rows × 34 columns</p>\n",
       "</div>"
      ],
      "text/plain": [
       "   order_id user_id  order_number  orders_day_of_week  order_hour_of_day  \\\n",
       "0   2539329       1             1                   2                  8   \n",
       "1   2539329       1             1                   2                  8   \n",
       "2   2539329       1             1                   2                  8   \n",
       "3   2539329       1             1                   2                  8   \n",
       "4   2539329       1             1                   2                  8   \n",
       "\n",
       "   days_since_prior_order  first_order  product_id  add_to_cart_order  \\\n",
       "0                     NaN         True         196                  1   \n",
       "1                     NaN         True       14084                  2   \n",
       "2                     NaN         True       12427                  3   \n",
       "3                     NaN         True       26088                  4   \n",
       "4                     NaN         True       26405                  5   \n",
       "\n",
       "   reordered  ... first_name  last_name  gender    state age date_joined  \\\n",
       "0          0  ...      Linda     Nguyen  Female  Alabama  31   2/17/2019   \n",
       "1          0  ...      Linda     Nguyen  Female  Alabama  31   2/17/2019   \n",
       "2          0  ...      Linda     Nguyen  Female  Alabama  31   2/17/2019   \n",
       "3          0  ...      Linda     Nguyen  Female  Alabama  31   2/17/2019   \n",
       "4          0  ...      Linda     Nguyen  Female  Alabama  31   2/17/2019   \n",
       "\n",
       "  n_dependents fam_status  income merge_flag  \n",
       "0            3    married   40423       both  \n",
       "1            3    married   40423       both  \n",
       "2            3    married   40423       both  \n",
       "3            3    married   40423       both  \n",
       "4            3    married   40423       both  \n",
       "\n",
       "[5 rows x 34 columns]"
      ]
     },
     "execution_count": 71,
     "metadata": {},
     "output_type": "execute_result"
    }
   ],
   "source": [
    "# Check columns\n",
    "df_merged.head()"
   ]
  },
  {
   "cell_type": "code",
   "execution_count": 72,
   "id": "8005dcab-f808-443f-abe0-4ff65a4a61b7",
   "metadata": {},
   "outputs": [
    {
     "data": {
      "text/plain": [
       "Index(['order_id', 'user_id', 'order_number', 'orders_day_of_week',\n",
       "       'order_hour_of_day', 'days_since_prior_order', 'first_order',\n",
       "       'product_id', 'add_to_cart_order', 'reordered', 'product_name',\n",
       "       'aisle_id', 'department_id', 'prices', 'match', 'price_range_loc',\n",
       "       'busiest_days', 'busiest_period_of_day', 'max_order', 'loyalty_flag',\n",
       "       'avg_price_per_user', 'spending_flag', 'median_days_per_user',\n",
       "       'order_frequency_flag', 'first_name', 'last_name', 'gender', 'state',\n",
       "       'age', 'date_joined', 'n_dependents', 'fam_status', 'income',\n",
       "       'merge_flag'],\n",
       "      dtype='object')"
      ]
     },
     "execution_count": 72,
     "metadata": {},
     "output_type": "execute_result"
    }
   ],
   "source": [
    "# check column names\n",
    "df_merged.columns"
   ]
  },
  {
   "cell_type": "code",
   "execution_count": 73,
   "id": "2e522251-6205-4f82-880c-2551378b7d84",
   "metadata": {},
   "outputs": [],
   "source": [
    "# Drop the 'match' column from the previous merge\n",
    "df_merged.drop(columns='match', inplace=True)"
   ]
  },
  {
   "cell_type": "code",
   "execution_count": 74,
   "id": "ecc64ccf-d101-4872-8572-bc938f04584c",
   "metadata": {},
   "outputs": [
    {
     "data": {
      "text/plain": [
       "(32434489, 33)"
      ]
     },
     "execution_count": 74,
     "metadata": {},
     "output_type": "execute_result"
    }
   ],
   "source": [
    "df_merged.shape"
   ]
  },
  {
   "cell_type": "code",
   "execution_count": 75,
   "id": "34f8931b-374c-4b4e-9c44-8458f3bfd2e9",
   "metadata": {},
   "outputs": [],
   "source": [
    "# Check merge using an outer join\n",
    "df_check = df_ords_prods_merge.merge(df_customers, on='user_id', how='outer', indicator='merge_flag')"
   ]
  },
  {
   "cell_type": "code",
   "execution_count": 76,
   "id": "b5dd973e-c7ea-431e-98e8-b8ebf537edc2",
   "metadata": {},
   "outputs": [
    {
     "data": {
      "text/plain": [
       "merge_flag\n",
       "both          32434489\n",
       "left_only            0\n",
       "right_only           0\n",
       "Name: count, dtype: int64"
      ]
     },
     "execution_count": 76,
     "metadata": {},
     "output_type": "execute_result"
    }
   ],
   "source": [
    "df_check['merge_flag'].value_counts()"
   ]
  },
  {
   "cell_type": "markdown",
   "id": "6f170ea7-a1b3-4d7e-833e-fd5a61a0cf73",
   "metadata": {},
   "source": [
    "df_customers matched perfectly. i didn't lose any rows or add mismatched data. "
   ]
  },
  {
   "cell_type": "markdown",
   "id": "4a589807-28a9-4066-a0b7-d01c491cf865",
   "metadata": {},
   "source": [
    "8. Export Dataframe"
   ]
  },
  {
   "cell_type": "code",
   "execution_count": null,
   "id": "751bcf52-a412-4a2b-8a35-80123cd4508d",
   "metadata": {},
   "outputs": [],
   "source": [
    "# Export newly merged dataframe 'df_merged'"
   ]
  },
  {
   "cell_type": "code",
   "execution_count": 77,
   "id": "e2b76803-f98c-4621-bcbd-a6774217994d",
   "metadata": {},
   "outputs": [],
   "source": [
    "df_merged.to_pickle(os.path.join(path, '02 data', 'Prepared Data', 'ords_prods_cust_merged.pkl'))"
   ]
  },
  {
   "cell_type": "code",
   "execution_count": null,
   "id": "bbea0be8-68ac-43e7-b7d1-61f98a84d29f",
   "metadata": {},
   "outputs": [],
   "source": []
  }
 ],
 "metadata": {
  "kernelspec": {
   "display_name": "Python [conda env:base] *",
   "language": "python",
   "name": "conda-base-py"
  },
  "language_info": {
   "codemirror_mode": {
    "name": "ipython",
    "version": 3
   },
   "file_extension": ".py",
   "mimetype": "text/x-python",
   "name": "python",
   "nbconvert_exporter": "python",
   "pygments_lexer": "ipython3",
   "version": "3.12.7"
  }
 },
 "nbformat": 4,
 "nbformat_minor": 5
}
