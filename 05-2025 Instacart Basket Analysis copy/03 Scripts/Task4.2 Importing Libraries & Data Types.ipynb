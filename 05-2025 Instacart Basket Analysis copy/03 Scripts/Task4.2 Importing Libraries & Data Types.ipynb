{
 "cells": [
  {
   "cell_type": "markdown",
   "id": "7726899a-0b87-4656-96f8-06385dbb0bb6",
   "metadata": {},
   "source": [
    "Table of Contents"
   ]
  },
  {
   "cell_type": "markdown",
   "id": "377cf40d-a87c-41f9-8fe0-7156053ca9d1",
   "metadata": {},
   "source": [
    "1. Import Libraries"
   ]
  },
  {
   "cell_type": "markdown",
   "id": "8b2e9e00-df46-43bb-a9b2-dca631c1d41c",
   "metadata": {},
   "source": [
    "2. Data Types"
   ]
  },
  {
   "cell_type": "markdown",
   "id": "e83bf736-cd71-4064-ba65-db97dc72e1a4",
   "metadata": {},
   "source": [
    "1. Importing Libraries"
   ]
  },
  {
   "cell_type": "code",
   "execution_count": 1,
   "id": "0481fc95-df85-4a80-b73b-678e58c10b2b",
   "metadata": {},
   "outputs": [],
   "source": [
    "import pandas as pd\n",
    "import numpy as np\n",
    "import os"
   ]
  },
  {
   "cell_type": "markdown",
   "id": "c4161183-4f37-4ea6-8f0a-f8b9d7ab1f49",
   "metadata": {},
   "source": [
    "2. Data Types"
   ]
  },
  {
   "cell_type": "code",
   "execution_count": null,
   "id": "8cd6e529-0197-405c-bea0-803ae9d32e8d",
   "metadata": {},
   "outputs": [],
   "source": [
    "2.1 Code 3 different ways of reaching a result of 100 by adding or subtracting numeric variables.\n"
   ]
  },
  {
   "cell_type": "code",
   "execution_count": 2,
   "id": "aa31b75a-6ed8-482c-aa96-d39138c14caa",
   "metadata": {},
   "outputs": [],
   "source": [
    "x = 45"
   ]
  },
  {
   "cell_type": "code",
   "execution_count": 3,
   "id": "42b98605-2b2f-4af8-8000-662cc5cab826",
   "metadata": {},
   "outputs": [],
   "source": [
    "y = 55"
   ]
  },
  {
   "cell_type": "code",
   "execution_count": 4,
   "id": "82c6d6ee-e276-41cf-81ff-1ad0dd641a3c",
   "metadata": {},
   "outputs": [
    {
     "data": {
      "text/plain": [
       "100"
      ]
     },
     "execution_count": 4,
     "metadata": {},
     "output_type": "execute_result"
    }
   ],
   "source": [
    "x + y"
   ]
  },
  {
   "cell_type": "code",
   "execution_count": 5,
   "id": "c275bee6-3aa1-4823-873f-7f28941a2eae",
   "metadata": {},
   "outputs": [],
   "source": [
    "x = 150"
   ]
  },
  {
   "cell_type": "code",
   "execution_count": 6,
   "id": "360d2c33-6775-45e4-8f7b-5a595287ee4e",
   "metadata": {},
   "outputs": [],
   "source": [
    "y = 50"
   ]
  },
  {
   "cell_type": "code",
   "execution_count": 7,
   "id": "19184555-d529-4107-9aed-91a9fd9bacee",
   "metadata": {},
   "outputs": [
    {
     "data": {
      "text/plain": [
       "100"
      ]
     },
     "execution_count": 7,
     "metadata": {},
     "output_type": "execute_result"
    }
   ],
   "source": [
    "x - y"
   ]
  },
  {
   "cell_type": "code",
   "execution_count": 8,
   "id": "b01fe17b-30ac-45ab-a579-cf06d2d650fd",
   "metadata": {},
   "outputs": [],
   "source": [
    "a = 30"
   ]
  },
  {
   "cell_type": "code",
   "execution_count": 9,
   "id": "d9af7410-a3d2-4bfc-9453-bb07eb134c75",
   "metadata": {},
   "outputs": [],
   "source": [
    "b = 50"
   ]
  },
  {
   "cell_type": "code",
   "execution_count": 10,
   "id": "51b79004-0953-4115-b040-3f8d3b1031b6",
   "metadata": {},
   "outputs": [],
   "source": [
    "c = 40"
   ]
  },
  {
   "cell_type": "code",
   "execution_count": 11,
   "id": "0b46355d-203a-4470-b5e4-3aa898f8a14c",
   "metadata": {},
   "outputs": [],
   "source": [
    "d = 20"
   ]
  },
  {
   "cell_type": "code",
   "execution_count": 12,
   "id": "9782ecbc-2236-49af-a1ee-46e2a0641dea",
   "metadata": {},
   "outputs": [
    {
     "data": {
      "text/plain": [
       "100"
      ]
     },
     "execution_count": 12,
     "metadata": {},
     "output_type": "execute_result"
    }
   ],
   "source": [
    "a + b + c - d"
   ]
  },
  {
   "cell_type": "markdown",
   "id": "09bad67d-2f34-40bb-a5d3-87fb537a0197",
   "metadata": {},
   "source": [
    "2.2 Code 2 floating-point variables and divide them by each other"
   ]
  },
  {
   "cell_type": "code",
   "execution_count": 13,
   "id": "025864ba-6f8b-4c4a-9561-adc784848bd5",
   "metadata": {},
   "outputs": [],
   "source": [
    "a = 25.5"
   ]
  },
  {
   "cell_type": "code",
   "execution_count": 14,
   "id": "f7b2e5c1-73ee-4689-91f6-28a44d9ce771",
   "metadata": {},
   "outputs": [],
   "source": [
    "b = 5.1"
   ]
  },
  {
   "cell_type": "code",
   "execution_count": 15,
   "id": "1f1d12a9-5584-44fd-8ec1-b34958656414",
   "metadata": {},
   "outputs": [
    {
     "data": {
      "text/plain": [
       "5.0"
      ]
     },
     "execution_count": 15,
     "metadata": {},
     "output_type": "execute_result"
    }
   ],
   "source": [
    "a / b"
   ]
  },
  {
   "cell_type": "markdown",
   "id": "1919914e-c3f5-463b-ba03-2eb239683a1d",
   "metadata": {},
   "source": [
    "2.3 Construct a short word made of separate strings"
   ]
  },
  {
   "cell_type": "code",
   "execution_count": 17,
   "id": "e3a57e12-5ab6-41ed-b518-d596084a5c1c",
   "metadata": {},
   "outputs": [],
   "source": [
    "letter1 = 'D'"
   ]
  },
  {
   "cell_type": "code",
   "execution_count": 18,
   "id": "8b726676-bbde-4679-876d-023823f22ff8",
   "metadata": {},
   "outputs": [],
   "source": [
    "letter2 = 'o'"
   ]
  },
  {
   "cell_type": "code",
   "execution_count": 19,
   "id": "01e5da1c-127e-47de-bdd8-7f48d3d7fa5e",
   "metadata": {},
   "outputs": [],
   "source": [
    "letter3 = 'g'"
   ]
  },
  {
   "cell_type": "code",
   "execution_count": 20,
   "id": "c91d1947-41cc-4efe-b32e-4fe9255d5677",
   "metadata": {},
   "outputs": [
    {
     "data": {
      "text/plain": [
       "'Dog'"
      ]
     },
     "execution_count": 20,
     "metadata": {},
     "output_type": "execute_result"
    }
   ],
   "source": [
    "letter1 + letter2 + letter3"
   ]
  },
  {
   "cell_type": "markdown",
   "id": "ea6dc662-3bdb-4d2c-80f4-27b09010af23",
   "metadata": {},
   "source": [
    "2.4 Construct 2 short sentences made of separate strings\n"
   ]
  },
  {
   "cell_type": "code",
   "execution_count": 21,
   "id": "84b99e24-7936-413f-9307-ff6a497e07be",
   "metadata": {},
   "outputs": [],
   "source": [
    "part1 = 'The '"
   ]
  },
  {
   "cell_type": "code",
   "execution_count": 22,
   "id": "0866a3a5-b287-49c3-8e3e-f30dc99909d5",
   "metadata": {},
   "outputs": [],
   "source": [
    "part2 = 'cat '\n"
   ]
  },
  {
   "cell_type": "code",
   "execution_count": 23,
   "id": "a0c70e99-6f9c-4992-b1f3-37ca1a9d6c73",
   "metadata": {},
   "outputs": [],
   "source": [
    "part3 = 'eats '"
   ]
  },
  {
   "cell_type": "code",
   "execution_count": 24,
   "id": "a781418c-b741-40f2-a03c-f15adb6aca5d",
   "metadata": {},
   "outputs": [],
   "source": [
    "part4 = 'fish.'"
   ]
  },
  {
   "cell_type": "code",
   "execution_count": 25,
   "id": "ca57e523-9447-406c-9418-3668e265d6cf",
   "metadata": {},
   "outputs": [
    {
     "data": {
      "text/plain": [
       "'The cat eats fish.'"
      ]
     },
     "execution_count": 25,
     "metadata": {},
     "output_type": "execute_result"
    }
   ],
   "source": [
    "part1 + part2 + part3 + part4"
   ]
  },
  {
   "cell_type": "code",
   "execution_count": 32,
   "id": "f4c66293-c4bb-4f89-a7b1-eeaa40a496c4",
   "metadata": {},
   "outputs": [],
   "source": [
    "word1 = ' It '"
   ]
  },
  {
   "cell_type": "code",
   "execution_count": 27,
   "id": "3ac1d6d9-54d2-4568-95bc-ec860c283e42",
   "metadata": {},
   "outputs": [],
   "source": [
    "word2 = 'is '"
   ]
  },
  {
   "cell_type": "code",
   "execution_count": 29,
   "id": "48928361-5d91-4e6e-9c35-19558a9eb9b0",
   "metadata": {},
   "outputs": [],
   "source": [
    "word3 = 'tasty.'"
   ]
  },
  {
   "cell_type": "code",
   "execution_count": 30,
   "id": "9dcc5973-571f-46a5-9993-32fa1b93ac15",
   "metadata": {},
   "outputs": [
    {
     "data": {
      "text/plain": [
       "'It is tasty.'"
      ]
     },
     "execution_count": 30,
     "metadata": {},
     "output_type": "execute_result"
    }
   ],
   "source": [
    "word1 + word2 + word3"
   ]
  },
  {
   "cell_type": "code",
   "execution_count": 33,
   "id": "e57aa942-26d7-4988-91c4-38f351802db0",
   "metadata": {},
   "outputs": [
    {
     "data": {
      "text/plain": [
       "'The cat eats fish. It is tasty.'"
      ]
     },
     "execution_count": 33,
     "metadata": {},
     "output_type": "execute_result"
    }
   ],
   "source": [
    "part1 + part2 + part3 + part4 + word1 + word2 + word3"
   ]
  },
  {
   "cell_type": "code",
   "execution_count": null,
   "id": "ddfd0abe-efe5-400c-99a7-ce6c0fb0a7a1",
   "metadata": {},
   "outputs": [],
   "source": []
  }
 ],
 "metadata": {
  "kernelspec": {
   "display_name": "Python [conda env:base] *",
   "language": "python",
   "name": "conda-base-py"
  },
  "language_info": {
   "codemirror_mode": {
    "name": "ipython",
    "version": 3
   },
   "file_extension": ".py",
   "mimetype": "text/x-python",
   "name": "python",
   "nbconvert_exporter": "python",
   "pygments_lexer": "ipython3",
   "version": "3.12.7"
  }
 },
 "nbformat": 4,
 "nbformat_minor": 5
}
